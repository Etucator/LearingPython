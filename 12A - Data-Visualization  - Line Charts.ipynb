{
 "cells": [
  {
   "cell_type": "code",
   "execution_count": null,
   "source": [
    "import matplotlib.pyplot as plt\r\n",
    "import numpy as np\r\n",
    "import pandas as pd\r\n",
    "import seaborn as sns\r\n",
    "import matplotlib as mpl"
   ],
   "outputs": [],
   "metadata": {}
  },
  {
   "cell_type": "code",
   "execution_count": null,
   "source": [
    "employment = pd.read_excel(\"data/unemployment.xlsx\")\r\n",
    "employment.head(10)"
   ],
   "outputs": [],
   "metadata": {}
  },
  {
   "cell_type": "markdown",
   "source": [
    "# Line Charts"
   ],
   "metadata": {}
  },
  {
   "cell_type": "code",
   "execution_count": null,
   "source": [
    "col1 = np.linspace(0, 10, 1000)\r\n",
    "col2 = np.sin(col1)\r\n",
    "df = pd.DataFrame({\"C1\" : col1 , \"C2\" :col2})\r\n",
    "df.head(10)"
   ],
   "outputs": [],
   "metadata": {}
  },
  {
   "cell_type": "code",
   "execution_count": null,
   "source": [
    "# Plotting lineplot using sns.lineplot()\r\n",
    "plt.style.use('seaborn-darkgrid')\r\n",
    "%matplotlib inline \r\n",
    "sns.lineplot(x=df.C1,y=df.C2,data=df)\r\n",
    "plt.show()"
   ],
   "outputs": [],
   "metadata": {}
  },
  {
   "cell_type": "code",
   "execution_count": null,
   "source": [
    "\"\"\"  - Adjusting background color using axes.facecolor\r\n",
    "     - Changing label size using xtick.labelsize , ytick.labelsize \"\"\"\r\n",
    "\r\n",
    "plt.figure(figsize=(14,6))\r\n",
    "sns.set(rc={\"axes.facecolor\":\"#FFFDE7\", \"axes.grid\":True,'xtick.labelsize':14,'ytick.labelsize':14})\r\n",
    "sns.lineplot(x=df.C1,y=df.C2,data=df , linewidth = 2)\r\n",
    "sns.lineplot(x=df.C1,y=df.C2+1,data=df , linewidth = 2)\r\n",
    "plt.show()"
   ],
   "outputs": [],
   "metadata": {}
  },
  {
   "cell_type": "code",
   "execution_count": null,
   "source": [
    "\"\"\"  - Adjusting background color using axes.facecolor\r\n",
    "     - Changing label size using xtick.labelsize , ytick.labelsize \"\"\"\r\n",
    "\r\n",
    "plt.figure(figsize=(14,6))\r\n",
    "sns.set(rc={\"axes.facecolor\":\"#283747\", \"axes.grid\":False,'xtick.labelsize':14,'ytick.labelsize':14})\r\n",
    "sns.lineplot(x=df.C1,y=df.C2,data=df , color = \"#FF5722\" , linewidth = 2 )\r\n",
    "sns.lineplot(x=df.C1,y=np.cos(df.C1),data=df , color = \"#FFEB3B\" , linewidth = 2)\r\n",
    "plt.show()"
   ],
   "outputs": [],
   "metadata": {}
  },
  {
   "cell_type": "code",
   "execution_count": null,
   "source": [
    "# Recover default matplotlib settings\r\n",
    "mpl.rcParams.update(mpl.rcParamsDefault)\r\n",
    "%matplotlib inline"
   ],
   "outputs": [],
   "metadata": {}
  },
  {
   "cell_type": "code",
   "execution_count": null,
   "source": [
    "import warnings\r\n",
    "warnings.filterwarnings(\"ignore\")"
   ],
   "outputs": [],
   "metadata": {}
  },
  {
   "cell_type": "code",
   "execution_count": null,
   "source": [
    "spotify = pd.read_csv(\"data/spotify.csv\" , index_col=\"Date\")\r\n",
    "spotify.head(10)"
   ],
   "outputs": [],
   "metadata": {}
  },
  {
   "cell_type": "code",
   "execution_count": null,
   "source": [
    "# Plotiing the time series data\r\n",
    "#plt.figure(figsize=(20,8))\r\n",
    "sns.lineplot(data=spotify)\r\n",
    "plt.show()"
   ],
   "outputs": [],
   "metadata": {}
  },
  {
   "cell_type": "markdown",
   "source": [
    "Look at the X-Asis. It is clealy not able to interpret the Index as Date. So the next step will be to convert the Index to Datetime."
   ],
   "metadata": {}
  },
  {
   "cell_type": "code",
   "execution_count": null,
   "source": [
    "spotify.index = pd.to_datetime(spotify.index) # Converting datatype of index to Datetime"
   ],
   "outputs": [],
   "metadata": {}
  },
  {
   "cell_type": "code",
   "execution_count": null,
   "source": [
    "plt.figure(figsize=(20,8))\r\n",
    "sns.lineplot(data=spotify,linewidth = 2)\r\n",
    "plt.title(\"Daily Global Streams\")\r\n",
    "plt.show()"
   ],
   "outputs": [],
   "metadata": {}
  },
  {
   "cell_type": "code",
   "execution_count": null,
   "source": [
    "# Using Matplotlib for same visualization\r\n",
    "import matplotlib as mpl\r\n",
    "plt.figure(figsize=(20,8))\r\n",
    "plt.plot(spotify['Despacito'] , label=\"Despacito\")\r\n",
    "plt.plot(spotify['Shape of You'] , label=\"Shape of You\")\r\n",
    "plt.plot(spotify['Something Just Like This'] , label=\"Something Just Like This\")\r\n",
    "plt.plot(spotify['HUMBLE.'] , label=\"Humble\")\r\n",
    "plt.plot(spotify['Unforgettable'] , label=\"Unforgettable\")\r\n",
    "plt.legend()\r\n",
    "plt.show()"
   ],
   "outputs": [],
   "metadata": {}
  },
  {
   "cell_type": "markdown",
   "source": [
    "So we can see using Seabon we can save many lines of code."
   ],
   "metadata": {}
  },
  {
   "cell_type": "code",
   "execution_count": null,
   "source": [
    "plt.figure(figsize=(20,6))\r\n",
    "sns.lineplot(data=spotify['Despacito'],linewidth = 1.5 , label = 'Despacito')\r\n",
    "sns.lineplot(data=spotify['HUMBLE.'],linewidth = 1.5 , label = 'Humble')\r\n",
    "plt.show()"
   ],
   "outputs": [],
   "metadata": {}
  },
  {
   "cell_type": "code",
   "execution_count": null,
   "source": [
    "canada = pd.read_csv(\"data/canada.csv\")\r\n",
    "canada.head()"
   ],
   "outputs": [],
   "metadata": {}
  },
  {
   "cell_type": "code",
   "execution_count": null,
   "source": [
    "canada.columns"
   ],
   "outputs": [],
   "metadata": {}
  },
  {
   "cell_type": "code",
   "execution_count": null,
   "source": [
    "canada.rename(columns={'OdName':'Country'} , inplace=True)"
   ],
   "outputs": [],
   "metadata": {}
  },
  {
   "cell_type": "code",
   "execution_count": null,
   "source": [
    "canada.drop(columns=['AREA' , 'DEV', 'DevName' , 'REG', 'Type', 'Coverage' , 'AreaName', 'RegName' ], inplace=True)\r\n",
    "canada.head()"
   ],
   "outputs": [],
   "metadata": {}
  },
  {
   "cell_type": "code",
   "execution_count": null,
   "source": [
    "canada.set_index(canada.Country,inplace=True)\r\n",
    "canada.head()"
   ],
   "outputs": [],
   "metadata": {}
  },
  {
   "cell_type": "code",
   "execution_count": null,
   "source": [
    "canada.index.name=None\r\n",
    "del canada['Country']\r\n",
    "canada.head()"
   ],
   "outputs": [],
   "metadata": {}
  },
  {
   "cell_type": "code",
   "execution_count": null,
   "source": [
    "canada = canada.transpose()\r\n",
    "canada.head()"
   ],
   "outputs": [],
   "metadata": {}
  },
  {
   "cell_type": "code",
   "execution_count": null,
   "source": [
    "plt.figure(figsize=(16,6))\r\n",
    "plt.title(\"Immigrants from India\",fontsize = 14)\r\n",
    "sns.set(rc={\"axes.facecolor\":\"#283747\", \"axes.grid\":False,'xtick.labelsize':10,'ytick.labelsize':10})\r\n",
    "plt.xticks(rotation=45) # Rotating X tickts by 45 degrees\r\n",
    "sns.lineplot(x = canada.index.values, y = canada['India'])\r\n",
    "plt.show()"
   ],
   "outputs": [],
   "metadata": {}
  },
  {
   "cell_type": "code",
   "execution_count": null,
   "source": [
    "# Plotting multiple sets of data (E.g Immigration data of multiple countries in one plot)\r\n",
    "plt.figure(figsize=(16,6))\r\n",
    "sns.set(rc={\"axes.facecolor\":\"#283747\", \"axes.grid\":False,'xtick.labelsize':10,'ytick.labelsize':10})\r\n",
    "plt.title(\"Immigrants from India , Pakistan & Bangladesh\",fontsize = 14)\r\n",
    "plt.xticks(rotation=45) # Rotating X tickts by 45 degrees\r\n",
    "sns.lineplot(x = canada.index.values, y = canada['India'] , color = '#ff9900' , label= 'India')\r\n",
    "sns.lineplot(x = canada.index.values, y = canada['Pakistan'] , color = '#4586ff' , label = 'Pakistan')\r\n",
    "sns.lineplot(x = canada.index.values, y = canada['Bangladesh'] , color = '#a2ef44' , label = 'Bangladesh')\r\n",
    "plt.legend(facecolor= 'grey' , fontsize='large' , edgecolor = 'black' ,shadow=True) # Legend formatting\r\n",
    "plt.show()"
   ],
   "outputs": [],
   "metadata": {}
  },
  {
   "cell_type": "code",
   "execution_count": null,
   "source": [
    "# Plotting multiple sets of data using for loop (E.g Immigration data of multiple countries in one plot)\r\n",
    "plt.figure(figsize=(16,6))\r\n",
    "plt.title(\"Immigrants\",fontsize = 16)\r\n",
    "for i in canada.columns:\r\n",
    "    if canada[i].name != 'Total' and canada[i].name != 'Unknown':\r\n",
    "        x=canada.index.values\r\n",
    "        y=canada[i]\r\n",
    "        sns.lineplot(x,y)\r\n",
    "plt.xlabel ('Year')\r\n",
    "plt.ylabel ('Country')\r\n",
    "plt.show()"
   ],
   "outputs": [],
   "metadata": {}
  },
  {
   "cell_type": "code",
   "execution_count": null,
   "source": [
    "# Recover default matplotlib settings\r\n",
    "mpl.rcParams.update(mpl.rcParamsDefault)\r\n",
    "%matplotlib inline"
   ],
   "outputs": [],
   "metadata": {}
  },
  {
   "cell_type": "code",
   "execution_count": null,
   "source": [
    "employment.head()"
   ],
   "outputs": [],
   "metadata": {}
  },
  {
   "cell_type": "code",
   "execution_count": null,
   "source": [
    "# Show groups with different colors using \"hue\"\r\n",
    "plt.figure(figsize=(14,7))\r\n",
    "plt.style.use('seaborn-darkgrid')\r\n",
    "# Group variable using \"hue\" that will produce lines with different colors\r\n",
    "sns.lineplot(x=\"Period\" , y=\"Unemployed\" , hue=\"Gender\" , data=employment) \r\n",
    "plt.show()"
   ],
   "outputs": [],
   "metadata": {}
  },
  {
   "cell_type": "code",
   "execution_count": null,
   "source": [
    "# Using markers to identify groups\r\n",
    "plt.figure(figsize=(14,7))\r\n",
    "plt.style.use('seaborn-darkgrid')\r\n",
    "sns.lineplot(x=\"Period\" , y=\"Unemployed\" , hue = \"Gender\" ,style=\"Gender\" , markers=True , dashes=False ,data=employment)\r\n",
    "plt.show()"
   ],
   "outputs": [],
   "metadata": {}
  },
  {
   "cell_type": "code",
   "execution_count": null,
   "source": [
    "plt.figure(figsize=(14,7))\r\n",
    "plt.style.use('seaborn-darkgrid')\r\n",
    "sns.lineplot(x=\"Period\" , y=\"Unemployed\" , hue = \"Gender\" ,style=\"Gender\" ,  err_style=\"bars\", ci=70, data=employment)\r\n",
    "plt.show()"
   ],
   "outputs": [],
   "metadata": {}
  },
  {
   "cell_type": "code",
   "execution_count": null,
   "source": [
    "plt.figure(figsize=(14,7))\r\n",
    "sns.set(rc={'xtick.labelsize':17,'ytick.labelsize':10,'axes.labelsize':15 , \"axes.grid\":False})\r\n",
    "\r\n",
    "# Use \"Pallete\" to specify the colors to be used for different levels of the hue\r\n",
    "sns.lineplot(x=\"Period\" , y=\"Unemployed\", data = employment, hue = \"Gender\",\r\n",
    "            style = \"Gender\", dashes = False, palette = 'CMRmap' , markers = [\"o\", \">\"])\r\n",
    "\r\n",
    "plt.show()"
   ],
   "outputs": [],
   "metadata": {}
  },
  {
   "cell_type": "code",
   "execution_count": null,
   "source": [
    "# Color and line dashing to represent 2 different grouping variables using \"hue\" & \"style\"\r\n",
    "plt.figure(figsize=(16,9))\r\n",
    "plt.style.use('seaborn-darkgrid')\r\n",
    "sns.lineplot(x=\"Period\" , y=\"Unemployed\" , hue=\"Age\" , style=\"Gender\",data=employment)\r\n",
    "plt.show()"
   ],
   "outputs": [],
   "metadata": {}
  },
  {
   "cell_type": "code",
   "execution_count": null,
   "source": [
    "emp = employment[employment.Period.between('2005-01-01', '2006-01-01' , inclusive = True)]\r\n",
    "emp.tail()"
   ],
   "outputs": [],
   "metadata": {}
  },
  {
   "cell_type": "code",
   "execution_count": null,
   "source": [
    "#Showing all experiments instead of Aggregate using \"units\" and \"estimator\"\r\n",
    "plt.figure(figsize=(14,7))\r\n",
    "plt.style.use('seaborn-darkgrid')\r\n",
    "sns.lineplot(x=\"Period\" , y=\"Unemployed\" , hue = \"Age\" ,style=\"Gender\" ,\r\n",
    " units=\"Age\" ,markers=True , dashes=False ,estimator=None, lw=1,data=emp)\r\n",
    "plt.legend(bbox_to_anchor=(1.0, 1.0) , shadow=True, fontsize='large')\r\n",
    "plt.show()"
   ],
   "outputs": [],
   "metadata": {}
  },
  {
   "cell_type": "code",
   "execution_count": null,
   "source": [
    "# Combining lineplots using relplot\r\n",
    "plt.figure(figsize=(10,10))\r\n",
    "sns.set(rc={'xtick.labelsize':17,'ytick.labelsize':17,'axes.labelsize':20  , \"axes.grid\":False})\r\n",
    "sns.relplot(x=\"Period\" , y=\"Unemployed\" , hue=\"Age\" , col=\"Gender\",kind='line', height=8.5, aspect=1 ,data=employment) \r\n",
    "plt.show()"
   ],
   "outputs": [],
   "metadata": {}
  }
 ],
 "metadata": {
  "kernelspec": {
   "name": "python3",
   "display_name": "Python 3.8.8 64-bit ('base': conda)"
  },
  "language_info": {
   "codemirror_mode": {
    "name": "ipython",
    "version": 3
   },
   "file_extension": ".py",
   "mimetype": "text/x-python",
   "name": "python",
   "nbconvert_exporter": "python",
   "pygments_lexer": "ipython3",
   "version": "3.8.8"
  },
  "interpreter": {
   "hash": "7dae6437c12b1d87f00e0e10a4bd22be66a3b8ec05fb1161d95372f28c39fa9e"
  }
 },
 "nbformat": 4,
 "nbformat_minor": 2
}