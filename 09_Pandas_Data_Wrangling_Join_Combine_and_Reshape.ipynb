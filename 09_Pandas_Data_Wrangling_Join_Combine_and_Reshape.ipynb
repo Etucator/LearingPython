{
  "nbformat": 4,
  "nbformat_minor": 0,
  "metadata": {
    "colab": {
      "name": "09 - Pandas - Data Wrangling Join Combine and Reshape.ipynb",
      "provenance": [],
      "collapsed_sections": [],
      "authorship_tag": "ABX9TyPecJ2AAf1qgjLcJ56mssRO",
      "include_colab_link": true
    },
    "kernelspec": {
      "name": "python3",
      "display_name": "Python 3"
    },
    "language_info": {
      "name": "python"
    }
  },
  "cells": [
    {
      "cell_type": "markdown",
      "metadata": {
        "id": "view-in-github",
        "colab_type": "text"
      },
      "source": [
        "<a href=\"https://colab.research.google.com/github/recervictory/LearingPython/blob/master/09_Pandas_Data_Wrangling_Join_Combine_and_Reshape.ipynb\" target=\"_parent\"><img src=\"https://colab.research.google.com/assets/colab-badge.svg\" alt=\"Open In Colab\"/></a>"
      ]
    },
    {
      "cell_type": "markdown",
      "metadata": {
        "id": "vAhRTD-YQGQI"
      },
      "source": [
        "# Data Wrangling: Join, Combine, and Reshape"
      ]
    },
    {
      "cell_type": "code",
      "metadata": {
        "id": "FJdoSMKvQqcB"
      },
      "source": [
        "import pandas as pd\n",
        "import numpy as np\n",
        "\n",
        "class display(object):\n",
        "    \"\"\"Display HTML representation of multiple objects\"\"\"\n",
        "    template = \"\"\"<div style=\"float: left; padding: 10px;\">\n",
        "    <p style='font-family:\"Courier New\", Courier, monospace'>{0}</p>{1}\n",
        "    </div>\"\"\"\n",
        "    def __init__(self, *args):\n",
        "        self.args = args\n",
        "        \n",
        "    def _repr_html_(self):\n",
        "        return '\\n'.join(self.template.format(a, eval(a)._repr_html_())\n",
        "                         for a in self.args)\n",
        "    \n",
        "    def __repr__(self):\n",
        "        return '\\n\\n'.join(a + '\\n' + repr(eval(a))\n",
        "                           for a in self.args)"
      ],
      "execution_count": null,
      "outputs": []
    },
    {
      "cell_type": "markdown",
      "metadata": {
        "id": "_f2-Fky4XuF1"
      },
      "source": [
        "## 0. Indexing with a DataFrame’s columns"
      ]
    },
    {
      "cell_type": "code",
      "metadata": {
        "id": "ZK85nM1QX-pP"
      },
      "source": [
        "frame = pd.DataFrame({'roll': range(7), \n",
        "                      'marks': range(7, 0, -1), \n",
        "                      'group': ['one', 'one', 'one', 'two', 'two', 'two', 'two'], \n",
        "                      'id': [0, 1, 2, 0, 1, 2, 3]})\n",
        "\n",
        "frame"
      ],
      "execution_count": null,
      "outputs": []
    },
    {
      "cell_type": "code",
      "metadata": {
        "id": "h1qW0aipd9xU"
      },
      "source": [
        "frame.set_index(['roll'])"
      ],
      "execution_count": null,
      "outputs": []
    },
    {
      "cell_type": "code",
      "metadata": {
        "id": "pZr9S6UeYXwG"
      },
      "source": [
        "# seting new index\n",
        "frameNew = frame.set_index(['group', 'id'])\n",
        "frameNew"
      ],
      "execution_count": null,
      "outputs": []
    },
    {
      "cell_type": "code",
      "metadata": {
        "id": "ro5EzamtYskw"
      },
      "source": [
        "# Not removing the original column\n",
        "frame.set_index(['group', 'id'], drop=False)"
      ],
      "execution_count": null,
      "outputs": []
    },
    {
      "cell_type": "markdown",
      "metadata": {
        "id": "fyVn-abYXx8s"
      },
      "source": [
        ""
      ]
    },
    {
      "cell_type": "markdown",
      "metadata": {
        "id": "Me-SQoS7QRKD"
      },
      "source": [
        "## 1. Hierarchical Indexing\n",
        "Hierarchical indexing is an important feature of pandas that enables you to have multiple (two or more) index levels on an axis. Somewhat abstractly, it provides a way for you to work with higher dimensional data in a lower dimensional form.\n",
        "\n",
        "Hierarchical indexing plays an important role in reshaping data and **group-based** operations like forming a **pivot table**. For example, you could rearrange the data into a DataFrame using its unstack method:"
      ]
    },
    {
      "cell_type": "code",
      "metadata": {
        "id": "SMhv9H0tP5Kb"
      },
      "source": [
        "# Hierarchical Indexing\n",
        "data =  pd.Series(np.random.randn(9), \\\n",
        "        index=[['a', 'a', 'a', 'b', 'b', 'c', 'c', 'd', 'd'], \\\n",
        "        [1, 2, 3, 1, 3, 1, 2, 2, 3]])\n",
        "data"
      ],
      "execution_count": null,
      "outputs": []
    },
    {
      "cell_type": "code",
      "metadata": {
        "id": "p7wnPK97QFjj"
      },
      "source": [
        "# Find Out Index\n",
        "data.index"
      ],
      "execution_count": null,
      "outputs": []
    },
    {
      "cell_type": "code",
      "metadata": {
        "id": "ctK3d6wJQ-8y"
      },
      "source": [
        "data['b']"
      ],
      "execution_count": null,
      "outputs": []
    },
    {
      "cell_type": "code",
      "metadata": {
        "id": "TuoZ6xfeRGla"
      },
      "source": [
        "data['b':'c']"
      ],
      "execution_count": null,
      "outputs": []
    },
    {
      "cell_type": "code",
      "metadata": {
        "id": "jqrf1NZLRJMW"
      },
      "source": [
        "data.loc[['b', 'd']]"
      ],
      "execution_count": null,
      "outputs": []
    },
    {
      "cell_type": "markdown",
      "metadata": {
        "id": "LRoCj3dDRm7g"
      },
      "source": [
        "Hierarchical indexing plays an important role in reshaping data and group-based\n",
        "operations like forming a `pivot table`. For example, you could rearrange the data into a DataFrame using its `unstack method`:"
      ]
    },
    {
      "cell_type": "code",
      "metadata": {
        "id": "_hFoogMnRM0L"
      },
      "source": [
        "data.unstack()"
      ],
      "execution_count": null,
      "outputs": []
    },
    {
      "cell_type": "code",
      "metadata": {
        "id": "KMBxcATJRwH8"
      },
      "source": [
        "# The inverse operation of unstack is stack\n",
        "data.unstack().stack()"
      ],
      "execution_count": null,
      "outputs": []
    },
    {
      "cell_type": "code",
      "metadata": {
        "id": "IATYeZJsR7Mw"
      },
      "source": [
        "frame = pd.DataFrame(np.arange(12).reshape((4, 3)), \n",
        "                     index=[['jan', 'jan', 'feb', 'feb'], [2011, 2012, 2011, 2012]],\n",
        "                     columns=[['Kolkata', 'Kolkata', 'Delhi'],\n",
        "                              ['Green', 'Red', 'Green']])\n",
        "\n",
        "frame"
      ],
      "execution_count": null,
      "outputs": []
    },
    {
      "cell_type": "code",
      "metadata": {
        "id": "vKfAwPsPSHvT"
      },
      "source": [
        "# Show index key\n",
        "frame.index.names = ['month', 'year']\n",
        "frame"
      ],
      "execution_count": null,
      "outputs": []
    },
    {
      "cell_type": "code",
      "metadata": {
        "id": "D3KkUwRkTG8S"
      },
      "source": [
        "# Show column names\n",
        "frame.columns.names = ['city', 'color']"
      ],
      "execution_count": null,
      "outputs": []
    },
    {
      "cell_type": "code",
      "metadata": {
        "id": "wpP98ESOTMeo"
      },
      "source": [
        "frame"
      ],
      "execution_count": null,
      "outputs": []
    },
    {
      "cell_type": "code",
      "metadata": {
        "id": "WwXG2xHEZBbd"
      },
      "source": [
        "# Reseting the index\n",
        "frameNew.reset_index()"
      ],
      "execution_count": null,
      "outputs": []
    },
    {
      "cell_type": "markdown",
      "metadata": {
        "id": "TGiNvcmgTykF"
      },
      "source": [
        "## 2. Reordering and Sorting Levels"
      ]
    },
    {
      "cell_type": "code",
      "metadata": {
        "id": "quAbWURFTeae"
      },
      "source": [
        "frame.swaplevel('year', 'month') "
      ],
      "execution_count": null,
      "outputs": []
    },
    {
      "cell_type": "markdown",
      "metadata": {
        "id": "uHNMCAKJUUpw"
      },
      "source": [
        "`sort_index`, on the other hand, sorts the data using only the values in a single level. When swapping levels, it’s not uncommon to also use sort_index so that the result is lexicographically sorted by the indicated level"
      ]
    },
    {
      "cell_type": "code",
      "metadata": {
        "id": "0fTBPMO-T7R_"
      },
      "source": [
        "frame.sort_index(level=0)"
      ],
      "execution_count": null,
      "outputs": []
    },
    {
      "cell_type": "code",
      "metadata": {
        "id": "QQ1dkus4Uby2"
      },
      "source": [
        "frame"
      ],
      "execution_count": null,
      "outputs": []
    },
    {
      "cell_type": "code",
      "metadata": {
        "id": "y6h8JPnBUp21"
      },
      "source": [
        ""
      ],
      "execution_count": null,
      "outputs": []
    },
    {
      "cell_type": "markdown",
      "metadata": {
        "id": "w73aiHNkWAhn"
      },
      "source": [
        "## 3. Summary Statistics by Level\n",
        "\n",
        "Many descriptive and summary statistics on DataFrame and `Series` have a level\n",
        "option in which you can specify the level you want to `aggregate` by on a particular axis. "
      ]
    },
    {
      "cell_type": "code",
      "metadata": {
        "id": "oUeHSemcWSxr"
      },
      "source": [
        "frame.mean(level='month')"
      ],
      "execution_count": null,
      "outputs": []
    },
    {
      "cell_type": "code",
      "metadata": {
        "id": "ZMSJQ5fAWb_p"
      },
      "source": [
        "frame.sum(level='city', axis=1) # column wise"
      ],
      "execution_count": null,
      "outputs": []
    },
    {
      "cell_type": "markdown",
      "metadata": {
        "id": "KSqoM_80ZeeV"
      },
      "source": [
        "## 4. Combining and Merging Datasets\n",
        "\n",
        "Data contained in pandas objects can be combined together in a number of ways:\n",
        "- `pandas.merge` connects rows in DataFrames based on one or more keys. This\n",
        "will be familiar to users of SQL or other relational databases, as it implements\n",
        "database join operations.\n",
        "-  `pandas.concat` concatenates or “stacks” together objects along an axis.\n",
        "-  The `combine_first` instance method enables splicing together overlapping data to fill in missing values in one object with values from another.\n",
        "\n"
      ]
    },
    {
      "cell_type": "code",
      "metadata": {
        "id": "y7i0z_m9iMLR"
      },
      "source": [
        ""
      ],
      "execution_count": null,
      "outputs": []
    },
    {
      "cell_type": "markdown",
      "metadata": {
        "id": "8SIvi_UmaAZA"
      },
      "source": [
        "### Database-Style DataFrame Joins\n",
        "Merge or join operations combine datasets by linking rows using one or more keys. These operations are central to relational databases (e.g., SQL-based). The merge function in pandas is the main entry point for using these algorithms on your data."
      ]
    },
    {
      "cell_type": "code",
      "metadata": {
        "id": "lLM7hqtAZ6Y4"
      },
      "source": [
        "# 1st Dataframe\n",
        "df1 = pd.DataFrame({'name': ['b', 'b', 'a', 'c', 'a', 'a', 'b'], \n",
        "                    'math': range(7)})\n",
        "df1"
      ],
      "execution_count": null,
      "outputs": []
    },
    {
      "cell_type": "code",
      "metadata": {
        "id": "SLzEtVIAaNqp"
      },
      "source": [
        "# 2nd Dataframe\n",
        "df2 = pd.DataFrame({'name': [ 'b', 'd','c'], 'bio': range(3)})\n",
        "df2"
      ],
      "execution_count": null,
      "outputs": []
    },
    {
      "cell_type": "code",
      "metadata": {
        "id": "Xb-1vQ5FaXwB"
      },
      "source": [
        "pd.merge(df1,df2)\n"
      ],
      "execution_count": null,
      "outputs": []
    },
    {
      "cell_type": "markdown",
      "metadata": {
        "id": "LyFFmKOob5CC"
      },
      "source": [
        "##### Note that I didn’t specify which column to join on. If that information is not specified, merge uses the **overlapping column names** as the keys. It’s a good practice to specify explicitly, though:"
      ]
    },
    {
      "cell_type": "code",
      "metadata": {
        "id": "8nDUPEXtbcQ-"
      },
      "source": [
        "pd.merge(df1, df2, on='name') # merge on the basis of name column"
      ],
      "execution_count": null,
      "outputs": []
    },
    {
      "cell_type": "code",
      "metadata": {
        "id": "C8k4Mii6bsxL"
      },
      "source": [
        "# If the column names are different in each object, you can specify them separately:\n",
        "df3 = pd.DataFrame({'lname': ['b', 'b', 'a', 'c', 'a', 'a', 'b'], \n",
        "                    'math': range(7)})\n",
        "df4 = pd.DataFrame({'rname': ['a', 'b', 'd'], 'bio': range(3)})\n"
      ],
      "execution_count": null,
      "outputs": []
    },
    {
      "cell_type": "code",
      "metadata": {
        "id": "LOFCYgd1l2wF"
      },
      "source": [
        "pd.merge(df3, df4, left_on='lname', right_on='rname')"
      ],
      "execution_count": null,
      "outputs": []
    },
    {
      "cell_type": "markdown",
      "metadata": {
        "id": "hsFpEpL5dPAN"
      },
      "source": [
        "## Relational Algebra\n",
        "\n",
        "The behavior implemented in ``pd.merge()`` is a subset of what is known as *relational algebra*, which is a formal set of rules for manipulating relational data, and forms the conceptual foundation of operations available in most databases.\n",
        "The strength of the relational algebra approach is that it proposes several primitive operations, which become the building blocks of more complicated operations on any dataset.\n",
        "With this lexicon of fundamental operations implemented efficiently in a database or other program, a wide range of fairly complicated composite operations can be performed.\n",
        "\n",
        "Pandas implements several of these fundamental building-blocks in the ``pd.merge()`` function and the related ``join()`` method of ``Series`` and ``Dataframe``s.\n",
        "As we will see, these let you efficiently link data from different sources.\n",
        "\n",
        "### Type of JOIN in DataFrame\n",
        "![join](https://cdn.mindmajix.com/blog/images/db-01_2119.png \"Data Frame Join\")\n",
        "\n",
        "By default merge does an 'inner' join; the keys in the result are the intersec‐\n",
        "tion, or the common set found in both tables. Other possible options are 'left',\n",
        "'right', and 'outer'. The outer join takes the union of the keys, combining the\n",
        "effect of applying both left and right joins:\n",
        "\n",
        "### Different join types with how argument\n",
        "- 'inner' Use only the key combinations observed in both tables\n",
        "- 'left' Use all key combinations found in the left table\n",
        "- 'right' Use all key combinations found in the right table\n",
        "- 'output' Use all key combinations observed in both tables together\n",
        "\n"
      ]
    },
    {
      "cell_type": "code",
      "metadata": {
        "id": "c2I1zPB2dzl6"
      },
      "source": [
        "pd.merge(df1, df2, how='outer')"
      ],
      "execution_count": null,
      "outputs": []
    },
    {
      "cell_type": "markdown",
      "metadata": {
        "id": "PRqXkS7KiNvc"
      },
      "source": [
        "### Merging on Index\n",
        "In some cases, the merge key(s) in a DataFrame will be found in its index. In this case, you can pass left_index=True or right_index=True (or both) to indicate that the index should be used as the merge key"
      ]
    },
    {
      "cell_type": "code",
      "metadata": {
        "id": "oLOi79AOiU5i"
      },
      "source": [
        "left1 = pd.DataFrame({'key': ['a', 'b', 'a', 'a', 'b', 'c'],\n",
        "                      'value': range(6)})\n",
        "right1 = pd.DataFrame({'group_val': [3.5, 7]}, index=['a', 'b'])\n",
        "\n",
        "pd.merge(left1, right1, left_on='key', right_index=True)"
      ],
      "execution_count": null,
      "outputs": []
    },
    {
      "cell_type": "code",
      "metadata": {
        "id": "i-39iKnqip9w"
      },
      "source": [
        "# Using Outer Join \n",
        "pd.merge(left1, right1, left_on='key', right_index=True, how='outer') # if it is on index right/left_index =  True\n",
        "# column right_on "
      ],
      "execution_count": null,
      "outputs": []
    },
    {
      "cell_type": "code",
      "metadata": {
        "id": "hBMJnPmOi2up"
      },
      "source": [
        "lefth = pd.DataFrame({'state': ['Ohio', 'Ohio', 'Ohio', 'Nevada', 'Nevada'],\n",
        "                      'year': [2000, 2001, 2002, 2001, 2002], \n",
        "                      'data': np.arange(5.)})\n",
        "\n",
        "righth = pd.DataFrame(np.arange(12).reshape((6, 2)),\n",
        "                      index=[['Nevada', 'Nevada', 'Ohio', 'Ohio','Ohio', 'Ohio'],\n",
        "                             [2001, 2000, 2000, 2000, 2001, 2002]],\n",
        "                      columns=['event1', 'event2'])"
      ],
      "execution_count": null,
      "outputs": []
    },
    {
      "cell_type": "code",
      "metadata": {
        "id": "MAmGQ0fejxl7"
      },
      "source": [
        "lefth"
      ],
      "execution_count": null,
      "outputs": []
    },
    {
      "cell_type": "code",
      "metadata": {
        "id": "8JWxrhXDjzO0"
      },
      "source": [
        "righth"
      ],
      "execution_count": null,
      "outputs": []
    },
    {
      "cell_type": "code",
      "metadata": {
        "id": "Wac_H_AFkDXz"
      },
      "source": [
        "pd.merge(lefth, righth, left_on=['state', 'year'], right_index=True)"
      ],
      "execution_count": null,
      "outputs": []
    },
    {
      "cell_type": "code",
      "metadata": {
        "id": "jacbu675kPyg"
      },
      "source": [
        "pd.merge(lefth, righth, left_on=['state', 'year'], right_index=True,how=\"outer\")"
      ],
      "execution_count": null,
      "outputs": []
    },
    {
      "cell_type": "markdown",
      "metadata": {
        "id": "hHBWi3HmFXbV"
      },
      "source": [
        "## Categories of Joins\n",
        "\n",
        "The ``pd.merge()`` function implements a number of types of joins: the *one-to-one*, *many-to-one*, and *many-to-many* joins.\n",
        "All three types of joins are accessed via an identical call to the ``pd.merge()`` interface; the type of join performed depends on the form of the input data.\n",
        "Here we will show simple examples of the three types of merges, and discuss detailed options further below."
      ]
    },
    {
      "cell_type": "markdown",
      "metadata": {
        "id": "lscTwkDLFbpm"
      },
      "source": [
        "### One-to-one joins\n",
        "\n",
        "Perhaps the simplest type of merge expresion is the one-to-one join, which is in many ways very similar to the column-wise concatenation.\n",
        "As a concrete example, consider the following two ``DataFrames`` which contain information on several employees in a company:"
      ]
    },
    {
      "cell_type": "code",
      "metadata": {
        "id": "m-oF6RSAnnuI"
      },
      "source": [
        "df1 = pd.DataFrame({'employee': ['Bob', 'Jake', 'Lisa', 'Sue'],\n",
        "                    'group': ['Accounting', 'Engineering', 'Engineering', 'HR']})\n",
        "df2 = pd.DataFrame({'employee': ['Lisa', 'Bob', 'Jake', 'Sue'],\n",
        "                    'hire_date': [2004, 2008, 2012, 2014]})\n",
        "display('df1', 'df2')"
      ],
      "execution_count": null,
      "outputs": []
    },
    {
      "cell_type": "markdown",
      "metadata": {
        "id": "_pvlz0VtFyY5"
      },
      "source": [
        "To combine this information into a single ``DataFrame``, we can use the ``pd.merge()`` function:"
      ]
    },
    {
      "cell_type": "code",
      "metadata": {
        "id": "GM06Tx79Ffnn"
      },
      "source": [
        "df3 = pd.merge(df1, df2)\n",
        "df3"
      ],
      "execution_count": null,
      "outputs": []
    },
    {
      "cell_type": "markdown",
      "metadata": {
        "id": "kMLpg4GlF6EE"
      },
      "source": [
        "The ``pd.merge()`` function recognizes that each ``DataFrame`` has an \"employee\" column, and automatically joins using this column as a key.\n",
        "The result of the merge is a new ``DataFrame`` that combines the information from the two inputs.\n",
        "Notice that the order of entries in each column is not necessarily maintained: in this case, the order of the \"employee\" column differs between ``df1`` and ``df2``, and the ``pd.merge()`` function correctly accounts for this.\n",
        "Additionally, keep in mind that the merge in general discards the index, except in the special case of merges by index (see the ``left_index`` and ``right_index`` keywords, discussed momentarily)."
      ]
    },
    {
      "cell_type": "markdown",
      "metadata": {
        "id": "rLzHEi1LGAbT"
      },
      "source": [
        "Many-to-one joins are joins in which one of the two key columns contains duplicate entries.\n",
        "For the many-to-one case, the resulting ``DataFrame`` will preserve those duplicate entries as appropriate.\n",
        "Consider the following example of a many-to-one join:"
      ]
    },
    {
      "cell_type": "code",
      "metadata": {
        "id": "qmANrAECF2T3"
      },
      "source": [
        "df4 = pd.DataFrame({'group': ['Accounting', 'Engineering', 'HR'],\n",
        "                    'supervisor': ['Carly', 'Guido', 'Steve']})\n",
        "display('df3', 'df4', 'pd.merge(df3, df4)')"
      ],
      "execution_count": null,
      "outputs": []
    },
    {
      "cell_type": "markdown",
      "metadata": {
        "id": "bG_wHACfGKmD"
      },
      "source": [
        "The resulting ``DataFrame`` has an aditional column with the \"supervisor\" information, where the information is repeated in one or more locations as required by the inputs."
      ]
    },
    {
      "cell_type": "markdown",
      "metadata": {
        "id": "_z6ZIJSkGOYL"
      },
      "source": [
        "### Many-to-many joins\n",
        "Many-to-many joins are a bit confusing conceptually, but are nevertheless well defined.\n",
        "If the key column in both the left and right array contains duplicates, then the result is a many-to-many merge.\n",
        "This will be perhaps most clear with a concrete example.\n",
        "Consider the following, where we have a ``DataFrame`` showing one or more skills associated with a particular group.\n",
        "By performing a many-to-many join, we can recover the skills associated with any individual person:"
      ]
    },
    {
      "cell_type": "code",
      "metadata": {
        "id": "2pMPmQi8GF34"
      },
      "source": [
        "df5 = pd.DataFrame({'group': ['Accounting', 'Accounting',\n",
        "                              'Engineering', 'Engineering', 'HR', 'HR'],\n",
        "                    'skills': ['math', 'spreadsheets', 'coding', 'linux',\n",
        "                               'spreadsheets', 'organization']})\n",
        "display('df1', 'df5', \"pd.merge(df1, df5)\")"
      ],
      "execution_count": null,
      "outputs": []
    },
    {
      "cell_type": "markdown",
      "metadata": {
        "id": "DUNcRmYvGePS"
      },
      "source": [
        "These three types of joins can be used with other Pandas tools to implement a wide array of functionality.\n",
        "But in practice, datasets are rarely as clean as the one we're working with here.\n",
        "In the following section we'll consider some of the options provided by ``pd.merge()`` that enable you to tune how the join operations work."
      ]
    },
    {
      "cell_type": "markdown",
      "metadata": {
        "id": "pxXNOwMkGqW0"
      },
      "source": [
        "## Specification of the Merge Key\n",
        "We've already seen the default behavior of ``pd.merge()``: it looks for one or more matching column names between the two inputs, and uses this as the key.\n",
        "However, often the column names will not match so nicely, and ``pd.merge()`` provides a variety of options for handling this."
      ]
    },
    {
      "cell_type": "markdown",
      "metadata": {
        "id": "IvgMpU42GzhV"
      },
      "source": [
        "### The ``on`` keyword\n",
        "\n",
        "Most simply, you can explicitly specify the name of the key column using the ``on`` keyword, which takes a column name or a list of column names:"
      ]
    },
    {
      "cell_type": "code",
      "metadata": {
        "id": "I8HU3urgGZtL"
      },
      "source": [
        "display('df1', 'df2', \"pd.merge(df1, df2, on='employee')\")"
      ],
      "execution_count": null,
      "outputs": []
    },
    {
      "cell_type": "markdown",
      "metadata": {
        "id": "jB9Ia01xG7mk"
      },
      "source": [
        "This option works only if both the left and right ``DataFrame``s have the specified column name."
      ]
    },
    {
      "cell_type": "markdown",
      "metadata": {
        "id": "PZzsKouTHAxd"
      },
      "source": [
        "### The ``left_on`` and ``right_on`` keywords\n",
        "\n",
        "At times you may wish to merge two datasets with different column names; for example, we may have a dataset in which the employee name is labeled as \"name\" rather than \"employee\".\n",
        "In this case, we can use the ``left_on`` and ``right_on`` keywords to specify the two column names:"
      ]
    },
    {
      "cell_type": "code",
      "metadata": {
        "id": "AjDHgEuDG3fN"
      },
      "source": [
        "df3 = pd.DataFrame({'name': ['Bob', 'Jake', 'Lisa', 'Sue'],\n",
        "                    'salary': [70000, 80000, 120000, 90000]})\n",
        "display('df1', 'df3', 'pd.merge(df1, df3, left_on=\"employee\", right_on=\"name\")')"
      ],
      "execution_count": null,
      "outputs": []
    },
    {
      "cell_type": "markdown",
      "metadata": {
        "id": "pi_UQsnGHKk6"
      },
      "source": [
        "The result has a redundant column that we can drop if desired–for example, by using the ``drop()`` method of ``DataFrame``s:"
      ]
    },
    {
      "cell_type": "code",
      "metadata": {
        "id": "q2-BFZrYHF3L"
      },
      "source": [
        "pd.merge(df1, df3, left_on=\"employee\", right_on=\"name\").drop('name', axis=1)"
      ],
      "execution_count": null,
      "outputs": []
    },
    {
      "cell_type": "markdown",
      "metadata": {
        "id": "sGbVyJQIHa3u"
      },
      "source": [
        "### The ``left_index`` and ``right_index`` keywords\n",
        "\n",
        "Sometimes, rather than merging on a column, you would instead like to merge on an index.\n",
        "For example, your data might look like this:"
      ]
    },
    {
      "cell_type": "code",
      "metadata": {
        "id": "Ooqi4ZByHW6O"
      },
      "source": [
        "df1a = df1.set_index('employee')\n",
        "df2a = df2.set_index('employee')\n",
        "display('df1a', 'df2a')"
      ],
      "execution_count": null,
      "outputs": []
    },
    {
      "cell_type": "markdown",
      "metadata": {
        "id": "jaX4GbU2Hiom"
      },
      "source": [
        "You can use the index as the key for merging by specifying the ``left_index`` and/or ``right_index`` flags in ``pd.merge()``:"
      ]
    },
    {
      "cell_type": "code",
      "metadata": {
        "id": "chV4OGfzHeIv"
      },
      "source": [
        "display('df1a', 'df2a',\n",
        "        \"pd.merge(df1a, df2a, left_index=True, right_index=True)\")"
      ],
      "execution_count": null,
      "outputs": []
    },
    {
      "cell_type": "markdown",
      "metadata": {
        "id": "HrwIPWfkH2gd"
      },
      "source": [
        "If you'd like to mix indices and columns, you can combine ``left_index`` with ``right_on`` or ``left_on`` with ``right_index`` to get the desired behavior:"
      ]
    },
    {
      "cell_type": "code",
      "metadata": {
        "id": "I8fGZ2SYHl09"
      },
      "source": [
        "display('df1a', 'df3', \"pd.merge(df1a, df3, left_index=True, right_on='name')\")"
      ],
      "execution_count": null,
      "outputs": []
    },
    {
      "cell_type": "markdown",
      "metadata": {
        "id": "GTXJiMViIEhl"
      },
      "source": [
        "## Specifying Set Arithmetic for Joins"
      ]
    },
    {
      "cell_type": "code",
      "metadata": {
        "id": "UZeA-otYH5rC"
      },
      "source": [
        "df6 = pd.DataFrame({'name': ['Peter', 'Paul', 'Mary'],\n",
        "                    'food': ['fish', 'beans', 'bread']},\n",
        "                   columns=['name', 'food'])\n",
        "df7 = pd.DataFrame({'name': ['Mary', 'Joseph'],\n",
        "                    'drink': ['wine', 'beer']},\n",
        "                   columns=['name', 'drink'])\n",
        "display('df6', 'df7', 'pd.merge(df6, df7)')"
      ],
      "execution_count": null,
      "outputs": []
    },
    {
      "cell_type": "markdown",
      "metadata": {
        "id": "4uSJi1pTIL_Q"
      },
      "source": [
        "Here we have merged two datasets that have only a single \"name\" entry in common: Mary.\n",
        "By default, the result contains the *intersection* of the two sets of inputs; this is what is known as an *inner join*.\n",
        "We can specify this explicitly using the ``how`` keyword, which defaults to ``\"inner\"``:"
      ]
    },
    {
      "cell_type": "code",
      "metadata": {
        "id": "4p6-vM_GIH9P"
      },
      "source": [
        "pd.merge(df6, df7, how='inner')"
      ],
      "execution_count": null,
      "outputs": []
    },
    {
      "cell_type": "markdown",
      "metadata": {
        "id": "246d96UaIUpn"
      },
      "source": [
        "Other options for the ``how`` keyword are ``'outer'``, ``'left'``, and ``'right'``.\n",
        "An *outer join* returns a join over the union of the input columns, and fills in all missing values with NAs:"
      ]
    },
    {
      "cell_type": "code",
      "metadata": {
        "id": "yZv-DRTQIQTO"
      },
      "source": [
        "display('df6', 'df7', \"pd.merge(df6, df7, how='outer')\")"
      ],
      "execution_count": null,
      "outputs": []
    },
    {
      "cell_type": "markdown",
      "metadata": {
        "id": "SLACTMPNIfRU"
      },
      "source": [
        "The *left join* and *right join* return joins over the left entries and right entries, respectively.\n",
        "For example:"
      ]
    },
    {
      "cell_type": "code",
      "metadata": {
        "id": "Vg2ftchUIYCA"
      },
      "source": [
        "display('df6', 'df7', \"pd.merge(df6, df7, how='left')\")"
      ],
      "execution_count": null,
      "outputs": []
    },
    {
      "cell_type": "markdown",
      "metadata": {
        "id": "IuP81M2iIp0U"
      },
      "source": [
        "The output rows now correspond to the entries in the left input. Using\n",
        "``how='right'`` works in a similar manner.\n",
        "\n",
        "All of these options can be applied straightforwardly to any of the preceding join types."
      ]
    },
    {
      "cell_type": "markdown",
      "metadata": {
        "id": "dnKrYsDrI3Pj"
      },
      "source": [
        "## Overlapping Column Names: The ``suffixes`` Keyword\n",
        "Finally, you may end up in a case where your two input ``DataFrame``s have conflicting column names.\n",
        "Consider this example:"
      ]
    },
    {
      "cell_type": "code",
      "metadata": {
        "id": "BJAAHd3MIkSL"
      },
      "source": [
        "df8 = pd.DataFrame({'name': ['Bob', 'Jake', 'Lisa', 'Sue'],\n",
        "                    'rank': [1, 2, 3, 4]})\n",
        "df9 = pd.DataFrame({'name': ['Bob', 'Jake', 'Lisa', 'Sue'],\n",
        "                    'rank': [3, 1, 4, 2]})\n",
        "display('df8', 'df9', 'pd.merge(df8, df9, on=\"name\")')"
      ],
      "execution_count": null,
      "outputs": []
    },
    {
      "cell_type": "markdown",
      "metadata": {
        "id": "QQq2vWRxJBhE"
      },
      "source": [
        "Because the output would have two conflicting column names, the merge function automatically appends a suffix ``_x`` or ``_y`` to make the output columns unique.\n",
        "If these defaults are inappropriate, it is possible to specify a custom suffix using the ``suffixes`` keyword:"
      ]
    },
    {
      "cell_type": "code",
      "metadata": {
        "collapsed": true,
        "cellView": "form",
        "id": "i9_6Yp7cI9ON"
      },
      "source": [
        "#@title\n",
        "display('df8', 'df9', 'pd.merge(df8, df9, on=\"name\", suffixes=[\"_L\", \"_R\"])')"
      ],
      "execution_count": null,
      "outputs": []
    },
    {
      "cell_type": "code",
      "metadata": {
        "id": "uicr6ey8Kicr"
      },
      "source": [
        ""
      ],
      "execution_count": null,
      "outputs": []
    }
  ]
}