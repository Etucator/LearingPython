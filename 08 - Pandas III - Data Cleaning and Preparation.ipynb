{
  "cells": [
    {
      "cell_type": "markdown",
      "metadata": {
        "colab_type": "text",
        "id": "view-in-github"
      },
      "source": [
        "<a href=\"https://colab.research.google.com/github/recervictory/LearingPython/blob/Student/08%20-%20Pandas%20III%20-%20Data%20Cleaning%20and%20Preparation.ipynb\" target=\"_parent\"><img src=\"https://colab.research.google.com/assets/colab-badge.svg\" alt=\"Open In Colab\"/></a>"
      ]
    },
    {
      "cell_type": "markdown",
      "metadata": {
        "id": "EltOY5JGWFLk"
      },
      "source": [
        "# Data Cleaning and Preparation\n",
        "\n",
        "During the course of doing data analysis and modeling, a *significant amount of time* is spent on data preparation: loading, cleaning, transforming, and rearranging. Such tasks are often reported to take up *80% or more of an analyst’s time*.\n",
        "\n"
      ]
    },
    {
      "cell_type": "code",
      "execution_count": 1,
      "metadata": {
        "id": "zOOw9XmiWFLn"
      },
      "outputs": [],
      "source": [
        "import pandas as pd\n",
        "import numpy as np\n",
        "from numpy import nan as NA # represent NaN as NA"
      ]
    },
    {
      "cell_type": "markdown",
      "metadata": {
        "id": "lqlK9iiLWFLm"
      },
      "source": [
        "## A. Handling Missing Data\n",
        "Missing data occurs commonly in many data analysis applications. One of the goals\n",
        "of pandas is to make working with missing data as painless as possible. For example,\n",
        "all of the descriptive statistics on pandas objects exclude missing data by default.\n",
        "\n",
        "The way that missing data is represented in pandas objects is somewhat imperfect,\n",
        "but it is functional for a lot of users. For numeric data, pandas uses the floating-point\n",
        "value NaN (Not a Number) to represent missing data.\n",
        "\n",
        "The built-in Python **None** value is also treated as NA in object arrays:"
      ]
    },
    {
      "cell_type": "code",
      "execution_count": 2,
      "metadata": {
        "colab": {
          "base_uri": "https://localhost:8080/"
        },
        "id": "cCEJ3z8oWFLn",
        "outputId": "20cc68de-0f55-406b-9770-eb96efe50aad"
      },
      "outputs": [
        {
          "data": {
            "text/plain": [
              "0      Kolkata\n",
              "1        Delhi\n",
              "2          NaN\n",
              "3    Bangalore\n",
              "dtype: object"
            ]
          },
          "execution_count": 2,
          "metadata": {},
          "output_type": "execute_result"
        }
      ],
      "source": [
        "string_data = pd.Series(['Kolkata', 'Delhi', np.nan, 'Bangalore'])\n",
        "string_data"
      ]
    },
    {
      "cell_type": "code",
      "execution_count": 3,
      "metadata": {
        "colab": {
          "base_uri": "https://localhost:8080/"
        },
        "id": "Le97z5xwWFLo",
        "outputId": "ce3938cd-4fd5-45bf-9f43-d747f1871c12"
      },
      "outputs": [
        {
          "data": {
            "text/plain": [
              "0    False\n",
              "1    False\n",
              "2     True\n",
              "3    False\n",
              "dtype: bool"
            ]
          },
          "execution_count": 3,
          "metadata": {},
          "output_type": "execute_result"
        }
      ],
      "source": [
        "# Is any value null/ none /nan\n",
        "string_data.isnull()"
      ]
    },
    {
      "cell_type": "code",
      "execution_count": 105,
      "metadata": {
        "colab": {
          "base_uri": "https://localhost:8080/"
        },
        "id": "qvjlbbcrWFLo",
        "outputId": "d3646307-1c17-47d6-f1d5-b40ed4f9dd95"
      },
      "outputs": [
        {
          "data": {
            "text/plain": [
              "0     True\n",
              "1    False\n",
              "2     True\n",
              "3    False\n",
              "dtype: bool"
            ]
          },
          "execution_count": 105,
          "metadata": {
            "tags": []
          },
          "output_type": "execute_result"
        }
      ],
      "source": [
        "# The built-in Python None value is also treated as NA in object arrays: None, NA, nan\n",
        "string_data[0] = None\n",
        "string_data.isnull()"
      ]
    },
    {
      "cell_type": "markdown",
      "metadata": {
        "id": "nZgbAWUpWFLp"
      },
      "source": [
        "### NA handling methods\n",
        "- `dropna` Filter axis labels based on whether values for each label have missing data, with varying thresholds for how much missing data to tolerate.\n",
        "- `fillna` Fill in missing data with some value or using an interpolation method such as 'ffill' or 'bfill'.\n",
        "- `isnull` Return boolean values indicating which values are missing/NA.\n",
        "- `notnull` Negation of isnull"
      ]
    },
    {
      "cell_type": "markdown",
      "metadata": {
        "id": "t2a3HFoJWFLp"
      },
      "source": [
        "### Filtering Out Missing Data\n",
        "While you always have the option to do it by hand using `pandas.isnull` and boolean indexing, the `dropna` can be helpful."
      ]
    },
    {
      "cell_type": "code",
      "execution_count": 4,
      "metadata": {
        "colab": {
          "base_uri": "https://localhost:8080/"
        },
        "id": "b4TszFS5WFLq",
        "outputId": "24e95841-0ad2-4958-cfd5-d49f5f806320"
      },
      "outputs": [
        {
          "data": {
            "text/plain": [
              "0    1.0\n",
              "1    NaN\n",
              "2    3.5\n",
              "3    NaN\n",
              "4    7.0\n",
              "dtype: float64"
            ]
          },
          "execution_count": 4,
          "metadata": {},
          "output_type": "execute_result"
        }
      ],
      "source": [
        "data = pd.Series([1, NA, 3.5, NA, 7])\n",
        "data"
      ]
    },
    {
      "cell_type": "code",
      "execution_count": 5,
      "metadata": {
        "colab": {
          "base_uri": "https://localhost:8080/"
        },
        "id": "c2PVOHc6WFLq",
        "outputId": "251f658a-b998-4db3-878b-4e27a934a109"
      },
      "outputs": [
        {
          "data": {
            "text/plain": [
              "0    1.0\n",
              "2    3.5\n",
              "4    7.0\n",
              "dtype: float64"
            ]
          },
          "execution_count": 5,
          "metadata": {},
          "output_type": "execute_result"
        }
      ],
      "source": [
        "# Droping the Data\n",
        "data.dropna() # not permanent"
      ]
    },
    {
      "cell_type": "code",
      "execution_count": 110,
      "metadata": {
        "colab": {
          "base_uri": "https://localhost:8080/"
        },
        "id": "13PnAavT2c3o",
        "outputId": "bc1206cc-d212-40d2-cfbf-0001141fdfe3"
      },
      "outputs": [
        {
          "data": {
            "text/plain": [
              "0    1.0\n",
              "1    NaN\n",
              "2    3.5\n",
              "3    NaN\n",
              "4    7.0\n",
              "dtype: float64"
            ]
          },
          "execution_count": 110,
          "metadata": {
            "tags": []
          },
          "output_type": "execute_result"
        }
      ],
      "source": [
        "data"
      ]
    },
    {
      "cell_type": "code",
      "execution_count": 6,
      "metadata": {
        "colab": {
          "base_uri": "https://localhost:8080/"
        },
        "id": "zUSuEg69WFLq",
        "outputId": "e81bda09-84ec-4fa9-ac15-28fbefa7b724"
      },
      "outputs": [
        {
          "data": {
            "text/plain": [
              "0    1.0\n",
              "2    3.5\n",
              "4    7.0\n",
              "dtype: float64"
            ]
          },
          "execution_count": 6,
          "metadata": {},
          "output_type": "execute_result"
        }
      ],
      "source": [
        "# This is equivalent to:\n",
        "data[data.notnull()]"
      ]
    },
    {
      "cell_type": "markdown",
      "metadata": {
        "id": "0BsuulWhWFLr"
      },
      "source": [
        "With DataFrame objects, things are a bit more complex. You may want to drop rows\n",
        "or columns that are all NA or only those containing any `NAs`. \n",
        "The `dropna` by default drops **any row containing a missing value**:"
      ]
    },
    {
      "cell_type": "code",
      "execution_count": 112,
      "metadata": {
        "colab": {
          "base_uri": "https://localhost:8080/",
          "height": 172
        },
        "id": "WLfS4AUXWFLr",
        "outputId": "887f3406-7863-4a38-c232-08c1a8af3c06"
      },
      "outputs": [
        {
          "data": {
            "text/html": [
              "<div>\n",
              "<style scoped>\n",
              "    .dataframe tbody tr th:only-of-type {\n",
              "        vertical-align: middle;\n",
              "    }\n",
              "\n",
              "    .dataframe tbody tr th {\n",
              "        vertical-align: top;\n",
              "    }\n",
              "\n",
              "    .dataframe thead th {\n",
              "        text-align: right;\n",
              "    }\n",
              "</style>\n",
              "<table border=\"1\" class=\"dataframe\">\n",
              "  <thead>\n",
              "    <tr style=\"text-align: right;\">\n",
              "      <th></th>\n",
              "      <th>0</th>\n",
              "      <th>1</th>\n",
              "      <th>2</th>\n",
              "    </tr>\n",
              "  </thead>\n",
              "  <tbody>\n",
              "    <tr>\n",
              "      <th>0</th>\n",
              "      <td>1.0</td>\n",
              "      <td>6.5</td>\n",
              "      <td>3.0</td>\n",
              "    </tr>\n",
              "    <tr>\n",
              "      <th>1</th>\n",
              "      <td>1.0</td>\n",
              "      <td>NaN</td>\n",
              "      <td>NaN</td>\n",
              "    </tr>\n",
              "    <tr>\n",
              "      <th>2</th>\n",
              "      <td>NaN</td>\n",
              "      <td>NaN</td>\n",
              "      <td>NaN</td>\n",
              "    </tr>\n",
              "    <tr>\n",
              "      <th>3</th>\n",
              "      <td>NaN</td>\n",
              "      <td>6.5</td>\n",
              "      <td>3.0</td>\n",
              "    </tr>\n",
              "  </tbody>\n",
              "</table>\n",
              "</div>"
            ],
            "text/plain": [
              "     0    1    2\n",
              "0  1.0  6.5  3.0\n",
              "1  1.0  NaN  NaN\n",
              "2  NaN  NaN  NaN\n",
              "3  NaN  6.5  3.0"
            ]
          },
          "execution_count": 112,
          "metadata": {
            "tags": []
          },
          "output_type": "execute_result"
        }
      ],
      "source": [
        " \n",
        " data = pd.DataFrame([[1., 6.5, 3.], [1., NA, NA], [NA, NA, NA], [NA, 6.5, 3.]])\n",
        "data"
      ]
    },
    {
      "cell_type": "code",
      "execution_count": 113,
      "metadata": {
        "colab": {
          "base_uri": "https://localhost:8080/",
          "height": 80
        },
        "id": "-WhDWuFV26Qd",
        "outputId": "36919ec6-eceb-4aa3-92d5-09b7e4ed7f90"
      },
      "outputs": [
        {
          "data": {
            "text/html": [
              "<div>\n",
              "<style scoped>\n",
              "    .dataframe tbody tr th:only-of-type {\n",
              "        vertical-align: middle;\n",
              "    }\n",
              "\n",
              "    .dataframe tbody tr th {\n",
              "        vertical-align: top;\n",
              "    }\n",
              "\n",
              "    .dataframe thead th {\n",
              "        text-align: right;\n",
              "    }\n",
              "</style>\n",
              "<table border=\"1\" class=\"dataframe\">\n",
              "  <thead>\n",
              "    <tr style=\"text-align: right;\">\n",
              "      <th></th>\n",
              "      <th>0</th>\n",
              "      <th>1</th>\n",
              "      <th>2</th>\n",
              "    </tr>\n",
              "  </thead>\n",
              "  <tbody>\n",
              "    <tr>\n",
              "      <th>0</th>\n",
              "      <td>1.0</td>\n",
              "      <td>6.5</td>\n",
              "      <td>3.0</td>\n",
              "    </tr>\n",
              "  </tbody>\n",
              "</table>\n",
              "</div>"
            ],
            "text/plain": [
              "     0    1    2\n",
              "0  1.0  6.5  3.0"
            ]
          },
          "execution_count": 113,
          "metadata": {
            "tags": []
          },
          "output_type": "execute_result"
        }
      ],
      "source": [
        " cleaned = data.dropna()\n",
        " cleaned"
      ]
    },
    {
      "cell_type": "code",
      "execution_count": 116,
      "metadata": {
        "colab": {
          "base_uri": "https://localhost:8080/"
        },
        "id": "axEsji1I3Ybx",
        "outputId": "6a5bbac0-d1d6-4312-e626-d14573a4d191"
      },
      "outputs": [
        {
          "data": {
            "text/plain": [
              "0    2\n",
              "1    2\n",
              "2    2\n",
              "dtype: int64"
            ]
          },
          "execution_count": 116,
          "metadata": {
            "tags": []
          },
          "output_type": "execute_result"
        }
      ],
      "source": [
        "# check col wise missing value\n",
        "data.isnull().sum()"
      ]
    },
    {
      "cell_type": "code",
      "execution_count": null,
      "metadata": {
        "id": "s2sxWtIwWFLs"
      },
      "outputs": [],
      "source": [
        "# Passing how='all' will only drop rows that are all NA:\n",
        "data.dropna(how='all')"
      ]
    },
    {
      "cell_type": "code",
      "execution_count": 117,
      "metadata": {
        "colab": {
          "base_uri": "https://localhost:8080/",
          "height": 172
        },
        "id": "nKySadvaWFLs",
        "outputId": "8b5d74a2-ad84-416f-a7f8-abfccf0b98e8"
      },
      "outputs": [
        {
          "data": {
            "text/html": [
              "<div>\n",
              "<style scoped>\n",
              "    .dataframe tbody tr th:only-of-type {\n",
              "        vertical-align: middle;\n",
              "    }\n",
              "\n",
              "    .dataframe tbody tr th {\n",
              "        vertical-align: top;\n",
              "    }\n",
              "\n",
              "    .dataframe thead th {\n",
              "        text-align: right;\n",
              "    }\n",
              "</style>\n",
              "<table border=\"1\" class=\"dataframe\">\n",
              "  <thead>\n",
              "    <tr style=\"text-align: right;\">\n",
              "      <th></th>\n",
              "      <th>0</th>\n",
              "      <th>1</th>\n",
              "      <th>2</th>\n",
              "      <th>4</th>\n",
              "    </tr>\n",
              "  </thead>\n",
              "  <tbody>\n",
              "    <tr>\n",
              "      <th>0</th>\n",
              "      <td>1.0</td>\n",
              "      <td>6.5</td>\n",
              "      <td>3.0</td>\n",
              "      <td>NaN</td>\n",
              "    </tr>\n",
              "    <tr>\n",
              "      <th>1</th>\n",
              "      <td>1.0</td>\n",
              "      <td>NaN</td>\n",
              "      <td>NaN</td>\n",
              "      <td>NaN</td>\n",
              "    </tr>\n",
              "    <tr>\n",
              "      <th>2</th>\n",
              "      <td>NaN</td>\n",
              "      <td>NaN</td>\n",
              "      <td>NaN</td>\n",
              "      <td>NaN</td>\n",
              "    </tr>\n",
              "    <tr>\n",
              "      <th>3</th>\n",
              "      <td>NaN</td>\n",
              "      <td>6.5</td>\n",
              "      <td>3.0</td>\n",
              "      <td>NaN</td>\n",
              "    </tr>\n",
              "  </tbody>\n",
              "</table>\n",
              "</div>"
            ],
            "text/plain": [
              "     0    1    2   4\n",
              "0  1.0  6.5  3.0 NaN\n",
              "1  1.0  NaN  NaN NaN\n",
              "2  NaN  NaN  NaN NaN\n",
              "3  NaN  6.5  3.0 NaN"
            ]
          },
          "execution_count": 117,
          "metadata": {
            "tags": []
          },
          "output_type": "execute_result"
        }
      ],
      "source": [
        "# To drop columns in the same way, pass axis=1:\n",
        "data[4] = NA\n",
        "data"
      ]
    },
    {
      "cell_type": "code",
      "execution_count": 118,
      "metadata": {
        "colab": {
          "base_uri": "https://localhost:8080/",
          "height": 172
        },
        "id": "FlAIw98BWFLs",
        "outputId": "81698f5f-3ead-4de2-cd0b-1286bd8c0a4e"
      },
      "outputs": [
        {
          "data": {
            "text/html": [
              "<div>\n",
              "<style scoped>\n",
              "    .dataframe tbody tr th:only-of-type {\n",
              "        vertical-align: middle;\n",
              "    }\n",
              "\n",
              "    .dataframe tbody tr th {\n",
              "        vertical-align: top;\n",
              "    }\n",
              "\n",
              "    .dataframe thead th {\n",
              "        text-align: right;\n",
              "    }\n",
              "</style>\n",
              "<table border=\"1\" class=\"dataframe\">\n",
              "  <thead>\n",
              "    <tr style=\"text-align: right;\">\n",
              "      <th></th>\n",
              "      <th>0</th>\n",
              "      <th>1</th>\n",
              "      <th>2</th>\n",
              "    </tr>\n",
              "  </thead>\n",
              "  <tbody>\n",
              "    <tr>\n",
              "      <th>0</th>\n",
              "      <td>1.0</td>\n",
              "      <td>6.5</td>\n",
              "      <td>3.0</td>\n",
              "    </tr>\n",
              "    <tr>\n",
              "      <th>1</th>\n",
              "      <td>1.0</td>\n",
              "      <td>NaN</td>\n",
              "      <td>NaN</td>\n",
              "    </tr>\n",
              "    <tr>\n",
              "      <th>2</th>\n",
              "      <td>NaN</td>\n",
              "      <td>NaN</td>\n",
              "      <td>NaN</td>\n",
              "    </tr>\n",
              "    <tr>\n",
              "      <th>3</th>\n",
              "      <td>NaN</td>\n",
              "      <td>6.5</td>\n",
              "      <td>3.0</td>\n",
              "    </tr>\n",
              "  </tbody>\n",
              "</table>\n",
              "</div>"
            ],
            "text/plain": [
              "     0    1    2\n",
              "0  1.0  6.5  3.0\n",
              "1  1.0  NaN  NaN\n",
              "2  NaN  NaN  NaN\n",
              "3  NaN  6.5  3.0"
            ]
          },
          "execution_count": 118,
          "metadata": {
            "tags": []
          },
          "output_type": "execute_result"
        }
      ],
      "source": [
        "# Drop data column wise \n",
        "# in python \n",
        "# axis = 1 col\n",
        "# axis = 0 : row\n",
        "data.dropna(axis=1, how='all')"
      ]
    },
    {
      "cell_type": "markdown",
      "metadata": {
        "id": "GhB7RiUSWFLs"
      },
      "source": [
        "### Filling In Missing Data\n",
        "For most purposes, the fillna method is the workhorse function to use. Calling fillna with a **constant** replaces **missing values** with that value:"
      ]
    },
    {
      "cell_type": "code",
      "execution_count": 125,
      "metadata": {
        "colab": {
          "base_uri": "https://localhost:8080/",
          "height": 265
        },
        "id": "WkFsBVfWWlB2",
        "outputId": "f7134d56-e259-44ce-81e9-b2d408bca00f"
      },
      "outputs": [
        {
          "data": {
            "text/html": [
              "<div>\n",
              "<style scoped>\n",
              "    .dataframe tbody tr th:only-of-type {\n",
              "        vertical-align: middle;\n",
              "    }\n",
              "\n",
              "    .dataframe tbody tr th {\n",
              "        vertical-align: top;\n",
              "    }\n",
              "\n",
              "    .dataframe thead th {\n",
              "        text-align: right;\n",
              "    }\n",
              "</style>\n",
              "<table border=\"1\" class=\"dataframe\">\n",
              "  <thead>\n",
              "    <tr style=\"text-align: right;\">\n",
              "      <th></th>\n",
              "      <th>gold</th>\n",
              "      <th>silver</th>\n",
              "      <th>copper</th>\n",
              "    </tr>\n",
              "  </thead>\n",
              "  <tbody>\n",
              "    <tr>\n",
              "      <th>0</th>\n",
              "      <td>0.960932</td>\n",
              "      <td>NaN</td>\n",
              "      <td>NaN</td>\n",
              "    </tr>\n",
              "    <tr>\n",
              "      <th>1</th>\n",
              "      <td>1.455036</td>\n",
              "      <td>NaN</td>\n",
              "      <td>NaN</td>\n",
              "    </tr>\n",
              "    <tr>\n",
              "      <th>2</th>\n",
              "      <td>1.334481</td>\n",
              "      <td>NaN</td>\n",
              "      <td>-1.208838</td>\n",
              "    </tr>\n",
              "    <tr>\n",
              "      <th>3</th>\n",
              "      <td>-1.001076</td>\n",
              "      <td>NaN</td>\n",
              "      <td>2.365561</td>\n",
              "    </tr>\n",
              "    <tr>\n",
              "      <th>4</th>\n",
              "      <td>-0.360475</td>\n",
              "      <td>0.525528</td>\n",
              "      <td>1.530065</td>\n",
              "    </tr>\n",
              "    <tr>\n",
              "      <th>5</th>\n",
              "      <td>0.241174</td>\n",
              "      <td>0.083004</td>\n",
              "      <td>-0.299816</td>\n",
              "    </tr>\n",
              "    <tr>\n",
              "      <th>6</th>\n",
              "      <td>-1.156792</td>\n",
              "      <td>-1.296698</td>\n",
              "      <td>1.883608</td>\n",
              "    </tr>\n",
              "  </tbody>\n",
              "</table>\n",
              "</div>"
            ],
            "text/plain": [
              "       gold    silver    copper\n",
              "0  0.960932       NaN       NaN\n",
              "1  1.455036       NaN       NaN\n",
              "2  1.334481       NaN -1.208838\n",
              "3 -1.001076       NaN  2.365561\n",
              "4 -0.360475  0.525528  1.530065\n",
              "5  0.241174  0.083004 -0.299816\n",
              "6 -1.156792 -1.296698  1.883608"
            ]
          },
          "execution_count": 125,
          "metadata": {
            "tags": []
          },
          "output_type": "execute_result"
        }
      ],
      "source": [
        "# df created\n",
        "df = pd.DataFrame(np.random.randn(7, 3), columns=['gold', 'silver', 'copper'])\n",
        "df.iloc[:4, 1] = NA\n",
        "df.iloc[:2, 2] = NA\n",
        "df"
      ]
    },
    {
      "cell_type": "code",
      "execution_count": 126,
      "metadata": {
        "colab": {
          "base_uri": "https://localhost:8080/",
          "height": 265
        },
        "id": "ubh6cp0bW7o0",
        "outputId": "70eb1e1f-e313-49db-f809-c78c93da54c2"
      },
      "outputs": [
        {
          "data": {
            "text/html": [
              "<div>\n",
              "<style scoped>\n",
              "    .dataframe tbody tr th:only-of-type {\n",
              "        vertical-align: middle;\n",
              "    }\n",
              "\n",
              "    .dataframe tbody tr th {\n",
              "        vertical-align: top;\n",
              "    }\n",
              "\n",
              "    .dataframe thead th {\n",
              "        text-align: right;\n",
              "    }\n",
              "</style>\n",
              "<table border=\"1\" class=\"dataframe\">\n",
              "  <thead>\n",
              "    <tr style=\"text-align: right;\">\n",
              "      <th></th>\n",
              "      <th>gold</th>\n",
              "      <th>silver</th>\n",
              "      <th>copper</th>\n",
              "    </tr>\n",
              "  </thead>\n",
              "  <tbody>\n",
              "    <tr>\n",
              "      <th>0</th>\n",
              "      <td>0.960932</td>\n",
              "      <td>0.000000</td>\n",
              "      <td>0.000000</td>\n",
              "    </tr>\n",
              "    <tr>\n",
              "      <th>1</th>\n",
              "      <td>1.455036</td>\n",
              "      <td>0.000000</td>\n",
              "      <td>0.000000</td>\n",
              "    </tr>\n",
              "    <tr>\n",
              "      <th>2</th>\n",
              "      <td>1.334481</td>\n",
              "      <td>0.000000</td>\n",
              "      <td>-1.208838</td>\n",
              "    </tr>\n",
              "    <tr>\n",
              "      <th>3</th>\n",
              "      <td>-1.001076</td>\n",
              "      <td>0.000000</td>\n",
              "      <td>2.365561</td>\n",
              "    </tr>\n",
              "    <tr>\n",
              "      <th>4</th>\n",
              "      <td>-0.360475</td>\n",
              "      <td>0.525528</td>\n",
              "      <td>1.530065</td>\n",
              "    </tr>\n",
              "    <tr>\n",
              "      <th>5</th>\n",
              "      <td>0.241174</td>\n",
              "      <td>0.083004</td>\n",
              "      <td>-0.299816</td>\n",
              "    </tr>\n",
              "    <tr>\n",
              "      <th>6</th>\n",
              "      <td>-1.156792</td>\n",
              "      <td>-1.296698</td>\n",
              "      <td>1.883608</td>\n",
              "    </tr>\n",
              "  </tbody>\n",
              "</table>\n",
              "</div>"
            ],
            "text/plain": [
              "       gold    silver    copper\n",
              "0  0.960932  0.000000  0.000000\n",
              "1  1.455036  0.000000  0.000000\n",
              "2  1.334481  0.000000 -1.208838\n",
              "3 -1.001076  0.000000  2.365561\n",
              "4 -0.360475  0.525528  1.530065\n",
              "5  0.241174  0.083004 -0.299816\n",
              "6 -1.156792 -1.296698  1.883608"
            ]
          },
          "execution_count": 126,
          "metadata": {
            "tags": []
          },
          "output_type": "execute_result"
        }
      ],
      "source": [
        "# Fill The missing values with Zero\n",
        "df.fillna(0)"
      ]
    },
    {
      "cell_type": "code",
      "execution_count": 127,
      "metadata": {
        "colab": {
          "base_uri": "https://localhost:8080/",
          "height": 265
        },
        "id": "XPWs7qYsXJRm",
        "outputId": "bb08f15c-8e97-4fe0-e817-1f4f75e1c45d"
      },
      "outputs": [
        {
          "data": {
            "text/html": [
              "<div>\n",
              "<style scoped>\n",
              "    .dataframe tbody tr th:only-of-type {\n",
              "        vertical-align: middle;\n",
              "    }\n",
              "\n",
              "    .dataframe tbody tr th {\n",
              "        vertical-align: top;\n",
              "    }\n",
              "\n",
              "    .dataframe thead th {\n",
              "        text-align: right;\n",
              "    }\n",
              "</style>\n",
              "<table border=\"1\" class=\"dataframe\">\n",
              "  <thead>\n",
              "    <tr style=\"text-align: right;\">\n",
              "      <th></th>\n",
              "      <th>gold</th>\n",
              "      <th>silver</th>\n",
              "      <th>copper</th>\n",
              "    </tr>\n",
              "  </thead>\n",
              "  <tbody>\n",
              "    <tr>\n",
              "      <th>0</th>\n",
              "      <td>0.960932</td>\n",
              "      <td>-1.000000</td>\n",
              "      <td>1.000000</td>\n",
              "    </tr>\n",
              "    <tr>\n",
              "      <th>1</th>\n",
              "      <td>1.455036</td>\n",
              "      <td>-1.000000</td>\n",
              "      <td>1.000000</td>\n",
              "    </tr>\n",
              "    <tr>\n",
              "      <th>2</th>\n",
              "      <td>1.334481</td>\n",
              "      <td>-1.000000</td>\n",
              "      <td>-1.208838</td>\n",
              "    </tr>\n",
              "    <tr>\n",
              "      <th>3</th>\n",
              "      <td>-1.001076</td>\n",
              "      <td>-1.000000</td>\n",
              "      <td>2.365561</td>\n",
              "    </tr>\n",
              "    <tr>\n",
              "      <th>4</th>\n",
              "      <td>-0.360475</td>\n",
              "      <td>0.525528</td>\n",
              "      <td>1.530065</td>\n",
              "    </tr>\n",
              "    <tr>\n",
              "      <th>5</th>\n",
              "      <td>0.241174</td>\n",
              "      <td>0.083004</td>\n",
              "      <td>-0.299816</td>\n",
              "    </tr>\n",
              "    <tr>\n",
              "      <th>6</th>\n",
              "      <td>-1.156792</td>\n",
              "      <td>-1.296698</td>\n",
              "      <td>1.883608</td>\n",
              "    </tr>\n",
              "  </tbody>\n",
              "</table>\n",
              "</div>"
            ],
            "text/plain": [
              "       gold    silver    copper\n",
              "0  0.960932 -1.000000  1.000000\n",
              "1  1.455036 -1.000000  1.000000\n",
              "2  1.334481 -1.000000 -1.208838\n",
              "3 -1.001076 -1.000000  2.365561\n",
              "4 -0.360475  0.525528  1.530065\n",
              "5  0.241174  0.083004 -0.299816\n",
              "6 -1.156792 -1.296698  1.883608"
            ]
          },
          "execution_count": 127,
          "metadata": {
            "tags": []
          },
          "output_type": "execute_result"
        }
      ],
      "source": [
        "# Calling fillna with a dict, you can use a different fill value for each column:\n",
        "df.fillna({'silver': -1, 'copper': 1})"
      ]
    },
    {
      "cell_type": "code",
      "execution_count": 129,
      "metadata": {
        "colab": {
          "base_uri": "https://localhost:8080/",
          "height": 265
        },
        "id": "peUw5O3tYN0I",
        "outputId": "0f457d51-33e2-4efd-d914-0b5f2862ec62"
      },
      "outputs": [
        {
          "data": {
            "text/html": [
              "<div>\n",
              "<style scoped>\n",
              "    .dataframe tbody tr th:only-of-type {\n",
              "        vertical-align: middle;\n",
              "    }\n",
              "\n",
              "    .dataframe tbody tr th {\n",
              "        vertical-align: top;\n",
              "    }\n",
              "\n",
              "    .dataframe thead th {\n",
              "        text-align: right;\n",
              "    }\n",
              "</style>\n",
              "<table border=\"1\" class=\"dataframe\">\n",
              "  <thead>\n",
              "    <tr style=\"text-align: right;\">\n",
              "      <th></th>\n",
              "      <th>gold</th>\n",
              "      <th>silver</th>\n",
              "      <th>copper</th>\n",
              "    </tr>\n",
              "  </thead>\n",
              "  <tbody>\n",
              "    <tr>\n",
              "      <th>0</th>\n",
              "      <td>0.960932</td>\n",
              "      <td>NaN</td>\n",
              "      <td>NaN</td>\n",
              "    </tr>\n",
              "    <tr>\n",
              "      <th>1</th>\n",
              "      <td>1.455036</td>\n",
              "      <td>NaN</td>\n",
              "      <td>NaN</td>\n",
              "    </tr>\n",
              "    <tr>\n",
              "      <th>2</th>\n",
              "      <td>1.334481</td>\n",
              "      <td>NaN</td>\n",
              "      <td>-1.208838</td>\n",
              "    </tr>\n",
              "    <tr>\n",
              "      <th>3</th>\n",
              "      <td>-1.001076</td>\n",
              "      <td>NaN</td>\n",
              "      <td>2.365561</td>\n",
              "    </tr>\n",
              "    <tr>\n",
              "      <th>4</th>\n",
              "      <td>-0.360475</td>\n",
              "      <td>0.525528</td>\n",
              "      <td>1.530065</td>\n",
              "    </tr>\n",
              "    <tr>\n",
              "      <th>5</th>\n",
              "      <td>0.241174</td>\n",
              "      <td>0.083004</td>\n",
              "      <td>-0.299816</td>\n",
              "    </tr>\n",
              "    <tr>\n",
              "      <th>6</th>\n",
              "      <td>-1.156792</td>\n",
              "      <td>-1.296698</td>\n",
              "      <td>1.883608</td>\n",
              "    </tr>\n",
              "  </tbody>\n",
              "</table>\n",
              "</div>"
            ],
            "text/plain": [
              "       gold    silver    copper\n",
              "0  0.960932       NaN       NaN\n",
              "1  1.455036       NaN       NaN\n",
              "2  1.334481       NaN -1.208838\n",
              "3 -1.001076       NaN  2.365561\n",
              "4 -0.360475  0.525528  1.530065\n",
              "5  0.241174  0.083004 -0.299816\n",
              "6 -1.156792 -1.296698  1.883608"
            ]
          },
          "execution_count": 129,
          "metadata": {
            "tags": []
          },
          "output_type": "execute_result"
        }
      ],
      "source": [
        "# fillna returns a new object, but you can modify the existing object in-place:\n",
        "df.fillna(0)\n",
        "df\n"
      ]
    },
    {
      "cell_type": "code",
      "execution_count": 131,
      "metadata": {
        "colab": {
          "base_uri": "https://localhost:8080/",
          "height": 265
        },
        "id": "m7eQ-4wr61wl",
        "outputId": "5bad8e0f-f78c-4183-cc4f-6f98de20332c"
      },
      "outputs": [
        {
          "data": {
            "text/html": [
              "<div>\n",
              "<style scoped>\n",
              "    .dataframe tbody tr th:only-of-type {\n",
              "        vertical-align: middle;\n",
              "    }\n",
              "\n",
              "    .dataframe tbody tr th {\n",
              "        vertical-align: top;\n",
              "    }\n",
              "\n",
              "    .dataframe thead th {\n",
              "        text-align: right;\n",
              "    }\n",
              "</style>\n",
              "<table border=\"1\" class=\"dataframe\">\n",
              "  <thead>\n",
              "    <tr style=\"text-align: right;\">\n",
              "      <th></th>\n",
              "      <th>gold</th>\n",
              "      <th>silver</th>\n",
              "      <th>copper</th>\n",
              "    </tr>\n",
              "  </thead>\n",
              "  <tbody>\n",
              "    <tr>\n",
              "      <th>0</th>\n",
              "      <td>0.960932</td>\n",
              "      <td>0.000000</td>\n",
              "      <td>0.000000</td>\n",
              "    </tr>\n",
              "    <tr>\n",
              "      <th>1</th>\n",
              "      <td>1.455036</td>\n",
              "      <td>0.000000</td>\n",
              "      <td>0.000000</td>\n",
              "    </tr>\n",
              "    <tr>\n",
              "      <th>2</th>\n",
              "      <td>1.334481</td>\n",
              "      <td>0.000000</td>\n",
              "      <td>-1.208838</td>\n",
              "    </tr>\n",
              "    <tr>\n",
              "      <th>3</th>\n",
              "      <td>-1.001076</td>\n",
              "      <td>0.000000</td>\n",
              "      <td>2.365561</td>\n",
              "    </tr>\n",
              "    <tr>\n",
              "      <th>4</th>\n",
              "      <td>-0.360475</td>\n",
              "      <td>0.525528</td>\n",
              "      <td>1.530065</td>\n",
              "    </tr>\n",
              "    <tr>\n",
              "      <th>5</th>\n",
              "      <td>0.241174</td>\n",
              "      <td>0.083004</td>\n",
              "      <td>-0.299816</td>\n",
              "    </tr>\n",
              "    <tr>\n",
              "      <th>6</th>\n",
              "      <td>-1.156792</td>\n",
              "      <td>-1.296698</td>\n",
              "      <td>1.883608</td>\n",
              "    </tr>\n",
              "  </tbody>\n",
              "</table>\n",
              "</div>"
            ],
            "text/plain": [
              "       gold    silver    copper\n",
              "0  0.960932  0.000000  0.000000\n",
              "1  1.455036  0.000000  0.000000\n",
              "2  1.334481  0.000000 -1.208838\n",
              "3 -1.001076  0.000000  2.365561\n",
              "4 -0.360475  0.525528  1.530065\n",
              "5  0.241174  0.083004 -0.299816\n",
              "6 -1.156792 -1.296698  1.883608"
            ]
          },
          "execution_count": 131,
          "metadata": {
            "tags": []
          },
          "output_type": "execute_result"
        }
      ],
      "source": [
        "df.fillna(0, inplace=True) # Important\n",
        "df"
      ]
    },
    {
      "cell_type": "markdown",
      "metadata": {
        "id": "xpiB4nzzZkrd"
      },
      "source": [
        "The same **interpolation** methods available for reindexing can be used with fillna:"
      ]
    },
    {
      "cell_type": "code",
      "execution_count": 139,
      "metadata": {
        "colab": {
          "base_uri": "https://localhost:8080/",
          "height": 295
        },
        "id": "n3cLrs8kYsec",
        "outputId": "1c8d50fd-aa6e-48dc-e6a8-eb99ab811d9e"
      },
      "outputs": [
        {
          "data": {
            "text/html": [
              "<div>\n",
              "<style scoped>\n",
              "    .dataframe tbody tr th:only-of-type {\n",
              "        vertical-align: middle;\n",
              "    }\n",
              "\n",
              "    .dataframe tbody tr th {\n",
              "        vertical-align: top;\n",
              "    }\n",
              "\n",
              "    .dataframe thead th {\n",
              "        text-align: right;\n",
              "    }\n",
              "</style>\n",
              "<table border=\"1\" class=\"dataframe\">\n",
              "  <thead>\n",
              "    <tr style=\"text-align: right;\">\n",
              "      <th></th>\n",
              "      <th>gold</th>\n",
              "      <th>silver</th>\n",
              "      <th>copper</th>\n",
              "    </tr>\n",
              "  </thead>\n",
              "  <tbody>\n",
              "    <tr>\n",
              "      <th>0</th>\n",
              "      <td>0.159362</td>\n",
              "      <td>0.527933</td>\n",
              "      <td>1.037528</td>\n",
              "    </tr>\n",
              "    <tr>\n",
              "      <th>1</th>\n",
              "      <td>-0.596954</td>\n",
              "      <td>1.031973</td>\n",
              "      <td>-0.395796</td>\n",
              "    </tr>\n",
              "    <tr>\n",
              "      <th>2</th>\n",
              "      <td>0.501706</td>\n",
              "      <td>NaN</td>\n",
              "      <td>0.790893</td>\n",
              "    </tr>\n",
              "    <tr>\n",
              "      <th>3</th>\n",
              "      <td>0.379001</td>\n",
              "      <td>NaN</td>\n",
              "      <td>-0.332592</td>\n",
              "    </tr>\n",
              "    <tr>\n",
              "      <th>4</th>\n",
              "      <td>-1.497654</td>\n",
              "      <td>NaN</td>\n",
              "      <td>NaN</td>\n",
              "    </tr>\n",
              "    <tr>\n",
              "      <th>5</th>\n",
              "      <td>0.633566</td>\n",
              "      <td>NaN</td>\n",
              "      <td>NaN</td>\n",
              "    </tr>\n",
              "    <tr>\n",
              "      <th>6</th>\n",
              "      <td>0.945829</td>\n",
              "      <td>NaN</td>\n",
              "      <td>NaN</td>\n",
              "    </tr>\n",
              "    <tr>\n",
              "      <th>7</th>\n",
              "      <td>-1.339841</td>\n",
              "      <td>NaN</td>\n",
              "      <td>NaN</td>\n",
              "    </tr>\n",
              "  </tbody>\n",
              "</table>\n",
              "</div>"
            ],
            "text/plain": [
              "       gold    silver    copper\n",
              "0  0.159362  0.527933  1.037528\n",
              "1 -0.596954  1.031973 -0.395796\n",
              "2  0.501706       NaN  0.790893\n",
              "3  0.379001       NaN -0.332592\n",
              "4 -1.497654       NaN       NaN\n",
              "5  0.633566       NaN       NaN\n",
              "6  0.945829       NaN       NaN\n",
              "7 -1.339841       NaN       NaN"
            ]
          },
          "execution_count": 139,
          "metadata": {
            "tags": []
          },
          "output_type": "execute_result"
        }
      ],
      "source": [
        "# Creating Dataframe\n",
        "df = pd.DataFrame(np.random.randn(8, 3), columns=['gold', 'silver', 'copper'])\n",
        "df.iloc[2:, 1] = NA\n",
        "df.iloc[4:, 2] = NA\n",
        "df"
      ]
    },
    {
      "cell_type": "code",
      "execution_count": 133,
      "metadata": {
        "colab": {
          "base_uri": "https://localhost:8080/",
          "height": 295
        },
        "id": "wgCWjwirZ4SP",
        "outputId": "c5af4458-c3b5-4354-f36f-f26eb399d7d0"
      },
      "outputs": [
        {
          "data": {
            "text/html": [
              "<div>\n",
              "<style scoped>\n",
              "    .dataframe tbody tr th:only-of-type {\n",
              "        vertical-align: middle;\n",
              "    }\n",
              "\n",
              "    .dataframe tbody tr th {\n",
              "        vertical-align: top;\n",
              "    }\n",
              "\n",
              "    .dataframe thead th {\n",
              "        text-align: right;\n",
              "    }\n",
              "</style>\n",
              "<table border=\"1\" class=\"dataframe\">\n",
              "  <thead>\n",
              "    <tr style=\"text-align: right;\">\n",
              "      <th></th>\n",
              "      <th>gold</th>\n",
              "      <th>silver</th>\n",
              "      <th>copper</th>\n",
              "    </tr>\n",
              "  </thead>\n",
              "  <tbody>\n",
              "    <tr>\n",
              "      <th>0</th>\n",
              "      <td>0.611627</td>\n",
              "      <td>-0.148583</td>\n",
              "      <td>-0.680851</td>\n",
              "    </tr>\n",
              "    <tr>\n",
              "      <th>1</th>\n",
              "      <td>-0.784319</td>\n",
              "      <td>-0.310510</td>\n",
              "      <td>-0.314903</td>\n",
              "    </tr>\n",
              "    <tr>\n",
              "      <th>2</th>\n",
              "      <td>1.517101</td>\n",
              "      <td>-0.310510</td>\n",
              "      <td>-0.349676</td>\n",
              "    </tr>\n",
              "    <tr>\n",
              "      <th>3</th>\n",
              "      <td>0.987027</td>\n",
              "      <td>-0.310510</td>\n",
              "      <td>0.007926</td>\n",
              "    </tr>\n",
              "    <tr>\n",
              "      <th>4</th>\n",
              "      <td>-3.077174</td>\n",
              "      <td>-0.310510</td>\n",
              "      <td>0.007926</td>\n",
              "    </tr>\n",
              "    <tr>\n",
              "      <th>5</th>\n",
              "      <td>0.726522</td>\n",
              "      <td>-0.310510</td>\n",
              "      <td>0.007926</td>\n",
              "    </tr>\n",
              "    <tr>\n",
              "      <th>6</th>\n",
              "      <td>0.106931</td>\n",
              "      <td>-0.310510</td>\n",
              "      <td>0.007926</td>\n",
              "    </tr>\n",
              "    <tr>\n",
              "      <th>7</th>\n",
              "      <td>0.993971</td>\n",
              "      <td>-0.310510</td>\n",
              "      <td>0.007926</td>\n",
              "    </tr>\n",
              "  </tbody>\n",
              "</table>\n",
              "</div>"
            ],
            "text/plain": [
              "       gold    silver    copper\n",
              "0  0.611627 -0.148583 -0.680851\n",
              "1 -0.784319 -0.310510 -0.314903\n",
              "2  1.517101 -0.310510 -0.349676\n",
              "3  0.987027 -0.310510  0.007926\n",
              "4 -3.077174 -0.310510  0.007926\n",
              "5  0.726522 -0.310510  0.007926\n",
              "6  0.106931 -0.310510  0.007926\n",
              "7  0.993971 -0.310510  0.007926"
            ]
          },
          "execution_count": 133,
          "metadata": {
            "tags": []
          },
          "output_type": "execute_result"
        }
      ],
      "source": [
        "# Fill 'NA' with forword fill method\n",
        "df.fillna(method='ffill')"
      ]
    },
    {
      "cell_type": "code",
      "execution_count": 135,
      "metadata": {
        "colab": {
          "base_uri": "https://localhost:8080/",
          "height": 295
        },
        "id": "SpH3JahKaGwQ",
        "outputId": "0e8dceae-19d7-4e20-acb8-894e50d00e06"
      },
      "outputs": [
        {
          "data": {
            "text/html": [
              "<div>\n",
              "<style scoped>\n",
              "    .dataframe tbody tr th:only-of-type {\n",
              "        vertical-align: middle;\n",
              "    }\n",
              "\n",
              "    .dataframe tbody tr th {\n",
              "        vertical-align: top;\n",
              "    }\n",
              "\n",
              "    .dataframe thead th {\n",
              "        text-align: right;\n",
              "    }\n",
              "</style>\n",
              "<table border=\"1\" class=\"dataframe\">\n",
              "  <thead>\n",
              "    <tr style=\"text-align: right;\">\n",
              "      <th></th>\n",
              "      <th>gold</th>\n",
              "      <th>silver</th>\n",
              "      <th>copper</th>\n",
              "    </tr>\n",
              "  </thead>\n",
              "  <tbody>\n",
              "    <tr>\n",
              "      <th>0</th>\n",
              "      <td>0.611627</td>\n",
              "      <td>-0.148583</td>\n",
              "      <td>-0.680851</td>\n",
              "    </tr>\n",
              "    <tr>\n",
              "      <th>1</th>\n",
              "      <td>-0.784319</td>\n",
              "      <td>-0.310510</td>\n",
              "      <td>-0.314903</td>\n",
              "    </tr>\n",
              "    <tr>\n",
              "      <th>2</th>\n",
              "      <td>1.517101</td>\n",
              "      <td>-0.310510</td>\n",
              "      <td>-0.349676</td>\n",
              "    </tr>\n",
              "    <tr>\n",
              "      <th>3</th>\n",
              "      <td>0.987027</td>\n",
              "      <td>-0.310510</td>\n",
              "      <td>0.007926</td>\n",
              "    </tr>\n",
              "    <tr>\n",
              "      <th>4</th>\n",
              "      <td>-3.077174</td>\n",
              "      <td>-0.310510</td>\n",
              "      <td>0.007926</td>\n",
              "    </tr>\n",
              "    <tr>\n",
              "      <th>5</th>\n",
              "      <td>0.726522</td>\n",
              "      <td>NaN</td>\n",
              "      <td>0.007926</td>\n",
              "    </tr>\n",
              "    <tr>\n",
              "      <th>6</th>\n",
              "      <td>0.106931</td>\n",
              "      <td>NaN</td>\n",
              "      <td>0.007926</td>\n",
              "    </tr>\n",
              "    <tr>\n",
              "      <th>7</th>\n",
              "      <td>0.993971</td>\n",
              "      <td>NaN</td>\n",
              "      <td>NaN</td>\n",
              "    </tr>\n",
              "  </tbody>\n",
              "</table>\n",
              "</div>"
            ],
            "text/plain": [
              "       gold    silver    copper\n",
              "0  0.611627 -0.148583 -0.680851\n",
              "1 -0.784319 -0.310510 -0.314903\n",
              "2  1.517101 -0.310510 -0.349676\n",
              "3  0.987027 -0.310510  0.007926\n",
              "4 -3.077174 -0.310510  0.007926\n",
              "5  0.726522       NaN  0.007926\n",
              "6  0.106931       NaN  0.007926\n",
              "7  0.993971       NaN       NaN"
            ]
          },
          "execution_count": 135,
          "metadata": {
            "tags": []
          },
          "output_type": "execute_result"
        }
      ],
      "source": [
        "# limit by row\n",
        "df.fillna(method='ffill', limit=3)"
      ]
    },
    {
      "cell_type": "code",
      "execution_count": 140,
      "metadata": {
        "colab": {
          "base_uri": "https://localhost:8080/",
          "height": 295
        },
        "id": "0-vjGuGOabYD",
        "outputId": "f6c16fd9-2968-4e06-f905-2f51bf923171"
      },
      "outputs": [
        {
          "data": {
            "text/html": [
              "<div>\n",
              "<style scoped>\n",
              "    .dataframe tbody tr th:only-of-type {\n",
              "        vertical-align: middle;\n",
              "    }\n",
              "\n",
              "    .dataframe tbody tr th {\n",
              "        vertical-align: top;\n",
              "    }\n",
              "\n",
              "    .dataframe thead th {\n",
              "        text-align: right;\n",
              "    }\n",
              "</style>\n",
              "<table border=\"1\" class=\"dataframe\">\n",
              "  <thead>\n",
              "    <tr style=\"text-align: right;\">\n",
              "      <th></th>\n",
              "      <th>gold</th>\n",
              "      <th>silver</th>\n",
              "      <th>copper</th>\n",
              "    </tr>\n",
              "  </thead>\n",
              "  <tbody>\n",
              "    <tr>\n",
              "      <th>0</th>\n",
              "      <td>0.159362</td>\n",
              "      <td>0.527933</td>\n",
              "      <td>1.037528</td>\n",
              "    </tr>\n",
              "    <tr>\n",
              "      <th>1</th>\n",
              "      <td>-0.596954</td>\n",
              "      <td>1.031973</td>\n",
              "      <td>-0.395796</td>\n",
              "    </tr>\n",
              "    <tr>\n",
              "      <th>2</th>\n",
              "      <td>0.501706</td>\n",
              "      <td>1.031973</td>\n",
              "      <td>0.790893</td>\n",
              "    </tr>\n",
              "    <tr>\n",
              "      <th>3</th>\n",
              "      <td>0.379001</td>\n",
              "      <td>1.031973</td>\n",
              "      <td>-0.332592</td>\n",
              "    </tr>\n",
              "    <tr>\n",
              "      <th>4</th>\n",
              "      <td>-1.497654</td>\n",
              "      <td>1.031973</td>\n",
              "      <td>1.037528</td>\n",
              "    </tr>\n",
              "    <tr>\n",
              "      <th>5</th>\n",
              "      <td>0.633566</td>\n",
              "      <td>1.031973</td>\n",
              "      <td>1.037528</td>\n",
              "    </tr>\n",
              "    <tr>\n",
              "      <th>6</th>\n",
              "      <td>0.945829</td>\n",
              "      <td>1.031973</td>\n",
              "      <td>1.037528</td>\n",
              "    </tr>\n",
              "    <tr>\n",
              "      <th>7</th>\n",
              "      <td>-1.339841</td>\n",
              "      <td>1.031973</td>\n",
              "      <td>1.037528</td>\n",
              "    </tr>\n",
              "  </tbody>\n",
              "</table>\n",
              "</div>"
            ],
            "text/plain": [
              "       gold    silver    copper\n",
              "0  0.159362  0.527933  1.037528\n",
              "1 -0.596954  1.031973 -0.395796\n",
              "2  0.501706  1.031973  0.790893\n",
              "3  0.379001  1.031973 -0.332592\n",
              "4 -1.497654  1.031973  1.037528\n",
              "5  0.633566  1.031973  1.037528\n",
              "6  0.945829  1.031973  1.037528\n",
              "7 -1.339841  1.031973  1.037528"
            ]
          },
          "execution_count": 140,
          "metadata": {
            "tags": []
          },
          "output_type": "execute_result"
        }
      ],
      "source": [
        "# you might pass the mean or median values\n",
        "df.fillna(df.max())"
      ]
    },
    {
      "cell_type": "code",
      "execution_count": 138,
      "metadata": {
        "colab": {
          "base_uri": "https://localhost:8080/",
          "height": 295
        },
        "id": "K4HMO--Br_sz",
        "outputId": "4bb5fbb6-c17c-4976-f043-5d76c4b815b2"
      },
      "outputs": [
        {
          "data": {
            "text/html": [
              "<div>\n",
              "<style scoped>\n",
              "    .dataframe tbody tr th:only-of-type {\n",
              "        vertical-align: middle;\n",
              "    }\n",
              "\n",
              "    .dataframe tbody tr th {\n",
              "        vertical-align: top;\n",
              "    }\n",
              "\n",
              "    .dataframe thead th {\n",
              "        text-align: right;\n",
              "    }\n",
              "</style>\n",
              "<table border=\"1\" class=\"dataframe\">\n",
              "  <thead>\n",
              "    <tr style=\"text-align: right;\">\n",
              "      <th></th>\n",
              "      <th>gold</th>\n",
              "      <th>silver</th>\n",
              "      <th>copper</th>\n",
              "    </tr>\n",
              "  </thead>\n",
              "  <tbody>\n",
              "    <tr>\n",
              "      <th>0</th>\n",
              "      <td>0.611627</td>\n",
              "      <td>-0.148583</td>\n",
              "      <td>-0.680851</td>\n",
              "    </tr>\n",
              "    <tr>\n",
              "      <th>1</th>\n",
              "      <td>-0.784319</td>\n",
              "      <td>-0.310510</td>\n",
              "      <td>-0.314903</td>\n",
              "    </tr>\n",
              "    <tr>\n",
              "      <th>2</th>\n",
              "      <td>1.517101</td>\n",
              "      <td>-0.229546</td>\n",
              "      <td>-0.349676</td>\n",
              "    </tr>\n",
              "    <tr>\n",
              "      <th>3</th>\n",
              "      <td>0.987027</td>\n",
              "      <td>-0.229546</td>\n",
              "      <td>0.007926</td>\n",
              "    </tr>\n",
              "    <tr>\n",
              "      <th>4</th>\n",
              "      <td>-3.077174</td>\n",
              "      <td>-0.229546</td>\n",
              "      <td>-0.334376</td>\n",
              "    </tr>\n",
              "    <tr>\n",
              "      <th>5</th>\n",
              "      <td>0.726522</td>\n",
              "      <td>-0.229546</td>\n",
              "      <td>-0.334376</td>\n",
              "    </tr>\n",
              "    <tr>\n",
              "      <th>6</th>\n",
              "      <td>0.106931</td>\n",
              "      <td>-0.229546</td>\n",
              "      <td>-0.334376</td>\n",
              "    </tr>\n",
              "    <tr>\n",
              "      <th>7</th>\n",
              "      <td>0.993971</td>\n",
              "      <td>-0.229546</td>\n",
              "      <td>-0.334376</td>\n",
              "    </tr>\n",
              "  </tbody>\n",
              "</table>\n",
              "</div>"
            ],
            "text/plain": [
              "       gold    silver    copper\n",
              "0  0.611627 -0.148583 -0.680851\n",
              "1 -0.784319 -0.310510 -0.314903\n",
              "2  1.517101 -0.229546 -0.349676\n",
              "3  0.987027 -0.229546  0.007926\n",
              "4 -3.077174 -0.229546 -0.334376\n",
              "5  0.726522 -0.229546 -0.334376\n",
              "6  0.106931 -0.229546 -0.334376\n",
              "7  0.993971 -0.229546 -0.334376"
            ]
          },
          "execution_count": 138,
          "metadata": {
            "tags": []
          },
          "output_type": "execute_result"
        }
      ],
      "source": [
        "df.fillna(df.mean(),inplace=True)\n",
        "df"
      ]
    },
    {
      "cell_type": "code",
      "execution_count": 143,
      "metadata": {
        "colab": {
          "base_uri": "https://localhost:8080/",
          "height": 295
        },
        "id": "XD_27zxCqwQg",
        "outputId": "87c88040-b33d-4584-d0a0-0915c222ad9c"
      },
      "outputs": [
        {
          "data": {
            "text/html": [
              "<div>\n",
              "<style scoped>\n",
              "    .dataframe tbody tr th:only-of-type {\n",
              "        vertical-align: middle;\n",
              "    }\n",
              "\n",
              "    .dataframe tbody tr th {\n",
              "        vertical-align: top;\n",
              "    }\n",
              "\n",
              "    .dataframe thead th {\n",
              "        text-align: right;\n",
              "    }\n",
              "</style>\n",
              "<table border=\"1\" class=\"dataframe\">\n",
              "  <thead>\n",
              "    <tr style=\"text-align: right;\">\n",
              "      <th></th>\n",
              "      <th>gold</th>\n",
              "      <th>silver</th>\n",
              "      <th>copper</th>\n",
              "      <th>category</th>\n",
              "    </tr>\n",
              "  </thead>\n",
              "  <tbody>\n",
              "    <tr>\n",
              "      <th>0</th>\n",
              "      <td>0.159362</td>\n",
              "      <td>0.527933</td>\n",
              "      <td>1.037528</td>\n",
              "      <td>NaN</td>\n",
              "    </tr>\n",
              "    <tr>\n",
              "      <th>1</th>\n",
              "      <td>-0.596954</td>\n",
              "      <td>1.031973</td>\n",
              "      <td>-0.395796</td>\n",
              "      <td>A</td>\n",
              "    </tr>\n",
              "    <tr>\n",
              "      <th>2</th>\n",
              "      <td>0.501706</td>\n",
              "      <td>NaN</td>\n",
              "      <td>0.790893</td>\n",
              "      <td>B</td>\n",
              "    </tr>\n",
              "    <tr>\n",
              "      <th>3</th>\n",
              "      <td>0.379001</td>\n",
              "      <td>NaN</td>\n",
              "      <td>-0.332592</td>\n",
              "      <td>NaN</td>\n",
              "    </tr>\n",
              "    <tr>\n",
              "      <th>4</th>\n",
              "      <td>-1.497654</td>\n",
              "      <td>NaN</td>\n",
              "      <td>NaN</td>\n",
              "      <td>A</td>\n",
              "    </tr>\n",
              "    <tr>\n",
              "      <th>5</th>\n",
              "      <td>0.633566</td>\n",
              "      <td>NaN</td>\n",
              "      <td>NaN</td>\n",
              "      <td>C</td>\n",
              "    </tr>\n",
              "    <tr>\n",
              "      <th>6</th>\n",
              "      <td>0.945829</td>\n",
              "      <td>NaN</td>\n",
              "      <td>NaN</td>\n",
              "      <td>A</td>\n",
              "    </tr>\n",
              "    <tr>\n",
              "      <th>7</th>\n",
              "      <td>-1.339841</td>\n",
              "      <td>NaN</td>\n",
              "      <td>NaN</td>\n",
              "      <td>B</td>\n",
              "    </tr>\n",
              "  </tbody>\n",
              "</table>\n",
              "</div>"
            ],
            "text/plain": [
              "       gold    silver    copper category\n",
              "0  0.159362  0.527933  1.037528      NaN\n",
              "1 -0.596954  1.031973 -0.395796        A\n",
              "2  0.501706       NaN  0.790893        B\n",
              "3  0.379001       NaN -0.332592      NaN\n",
              "4 -1.497654       NaN       NaN        A\n",
              "5  0.633566       NaN       NaN        C\n",
              "6  0.945829       NaN       NaN        A\n",
              "7 -1.339841       NaN       NaN        B"
            ]
          },
          "execution_count": 143,
          "metadata": {
            "tags": []
          },
          "output_type": "execute_result"
        }
      ],
      "source": [
        "df['category'] = [NA,'A','B',NA,'A','C','A','B']\n",
        "df"
      ]
    },
    {
      "cell_type": "code",
      "execution_count": 146,
      "metadata": {
        "colab": {
          "base_uri": "https://localhost:8080/",
          "height": 35
        },
        "id": "ikWnPV1l8Hy4",
        "outputId": "f39347a0-eb9c-4b97-9644-ff459d9b74db"
      },
      "outputs": [
        {
          "data": {
            "application/vnd.google.colaboratory.intrinsic+json": {
              "type": "string"
            },
            "text/plain": [
              "'A'"
            ]
          },
          "execution_count": 146,
          "metadata": {
            "tags": []
          },
          "output_type": "execute_result"
        }
      ],
      "source": [
        "df['category'].mode()[0] # Fisrt one"
      ]
    },
    {
      "cell_type": "code",
      "execution_count": 142,
      "metadata": {
        "colab": {
          "base_uri": "https://localhost:8080/",
          "height": 295
        },
        "id": "4EECAoCArll9",
        "outputId": "ac645fad-2d0f-4184-911d-44322bc23e1a"
      },
      "outputs": [
        {
          "data": {
            "text/html": [
              "<div>\n",
              "<style scoped>\n",
              "    .dataframe tbody tr th:only-of-type {\n",
              "        vertical-align: middle;\n",
              "    }\n",
              "\n",
              "    .dataframe tbody tr th {\n",
              "        vertical-align: top;\n",
              "    }\n",
              "\n",
              "    .dataframe thead th {\n",
              "        text-align: right;\n",
              "    }\n",
              "</style>\n",
              "<table border=\"1\" class=\"dataframe\">\n",
              "  <thead>\n",
              "    <tr style=\"text-align: right;\">\n",
              "      <th></th>\n",
              "      <th>gold</th>\n",
              "      <th>silver</th>\n",
              "      <th>copper</th>\n",
              "      <th>category</th>\n",
              "    </tr>\n",
              "  </thead>\n",
              "  <tbody>\n",
              "    <tr>\n",
              "      <th>0</th>\n",
              "      <td>0.159362</td>\n",
              "      <td>0.527933</td>\n",
              "      <td>1.037528</td>\n",
              "      <td>A</td>\n",
              "    </tr>\n",
              "    <tr>\n",
              "      <th>1</th>\n",
              "      <td>-0.596954</td>\n",
              "      <td>1.031973</td>\n",
              "      <td>-0.395796</td>\n",
              "      <td>A</td>\n",
              "    </tr>\n",
              "    <tr>\n",
              "      <th>2</th>\n",
              "      <td>0.501706</td>\n",
              "      <td>NaN</td>\n",
              "      <td>0.790893</td>\n",
              "      <td>B</td>\n",
              "    </tr>\n",
              "    <tr>\n",
              "      <th>3</th>\n",
              "      <td>0.379001</td>\n",
              "      <td>NaN</td>\n",
              "      <td>-0.332592</td>\n",
              "      <td>A</td>\n",
              "    </tr>\n",
              "    <tr>\n",
              "      <th>4</th>\n",
              "      <td>-1.497654</td>\n",
              "      <td>NaN</td>\n",
              "      <td>NaN</td>\n",
              "      <td>A</td>\n",
              "    </tr>\n",
              "    <tr>\n",
              "      <th>5</th>\n",
              "      <td>0.633566</td>\n",
              "      <td>NaN</td>\n",
              "      <td>NaN</td>\n",
              "      <td>C</td>\n",
              "    </tr>\n",
              "    <tr>\n",
              "      <th>6</th>\n",
              "      <td>0.945829</td>\n",
              "      <td>NaN</td>\n",
              "      <td>NaN</td>\n",
              "      <td>A</td>\n",
              "    </tr>\n",
              "    <tr>\n",
              "      <th>7</th>\n",
              "      <td>-1.339841</td>\n",
              "      <td>NaN</td>\n",
              "      <td>NaN</td>\n",
              "      <td>B</td>\n",
              "    </tr>\n",
              "  </tbody>\n",
              "</table>\n",
              "</div>"
            ],
            "text/plain": [
              "       gold    silver    copper category\n",
              "0  0.159362  0.527933  1.037528        A\n",
              "1 -0.596954  1.031973 -0.395796        A\n",
              "2  0.501706       NaN  0.790893        B\n",
              "3  0.379001       NaN -0.332592        A\n",
              "4 -1.497654       NaN       NaN        A\n",
              "5  0.633566       NaN       NaN        C\n",
              "6  0.945829       NaN       NaN        A\n",
              "7 -1.339841       NaN       NaN        B"
            ]
          },
          "execution_count": 142,
          "metadata": {
            "tags": []
          },
          "output_type": "execute_result"
        }
      ],
      "source": [
        "df['category'].fillna(df['category'].mode()[0], inplace=True) # mode most freq\n",
        "df"
      ]
    },
    {
      "cell_type": "markdown",
      "metadata": {
        "id": "UDP2Eg-rKiXl"
      },
      "source": [
        "## B. Data Transformation\n",
        "\n",
        "### Removing Duplicates\n",
        "Duplicate rows may be found in a DataFrame for any number of reasons. Here is an example:"
      ]
    },
    {
      "cell_type": "code",
      "execution_count": 147,
      "metadata": {
        "colab": {
          "base_uri": "https://localhost:8080/",
          "height": 265
        },
        "id": "9W_8vri8KhB3",
        "outputId": "89f41919-9db2-4fbb-98cb-2c06ea0ad89a"
      },
      "outputs": [
        {
          "data": {
            "text/html": [
              "<div>\n",
              "<style scoped>\n",
              "    .dataframe tbody tr th:only-of-type {\n",
              "        vertical-align: middle;\n",
              "    }\n",
              "\n",
              "    .dataframe tbody tr th {\n",
              "        vertical-align: top;\n",
              "    }\n",
              "\n",
              "    .dataframe thead th {\n",
              "        text-align: right;\n",
              "    }\n",
              "</style>\n",
              "<table border=\"1\" class=\"dataframe\">\n",
              "  <thead>\n",
              "    <tr style=\"text-align: right;\">\n",
              "      <th></th>\n",
              "      <th>city</th>\n",
              "      <th>count</th>\n",
              "    </tr>\n",
              "  </thead>\n",
              "  <tbody>\n",
              "    <tr>\n",
              "      <th>0</th>\n",
              "      <td>kolkata</td>\n",
              "      <td>1</td>\n",
              "    </tr>\n",
              "    <tr>\n",
              "      <th>1</th>\n",
              "      <td>delhi</td>\n",
              "      <td>1</td>\n",
              "    </tr>\n",
              "    <tr>\n",
              "      <th>2</th>\n",
              "      <td>kolkata</td>\n",
              "      <td>2</td>\n",
              "    </tr>\n",
              "    <tr>\n",
              "      <th>3</th>\n",
              "      <td>delhi</td>\n",
              "      <td>3</td>\n",
              "    </tr>\n",
              "    <tr>\n",
              "      <th>4</th>\n",
              "      <td>kolkata</td>\n",
              "      <td>3</td>\n",
              "    </tr>\n",
              "    <tr>\n",
              "      <th>5</th>\n",
              "      <td>delhi</td>\n",
              "      <td>4</td>\n",
              "    </tr>\n",
              "    <tr>\n",
              "      <th>6</th>\n",
              "      <td>delhi</td>\n",
              "      <td>4</td>\n",
              "    </tr>\n",
              "  </tbody>\n",
              "</table>\n",
              "</div>"
            ],
            "text/plain": [
              "      city  count\n",
              "0  kolkata      1\n",
              "1    delhi      1\n",
              "2  kolkata      2\n",
              "3    delhi      3\n",
              "4  kolkata      3\n",
              "5    delhi      4\n",
              "6    delhi      4"
            ]
          },
          "execution_count": 147,
          "metadata": {
            "tags": []
          },
          "output_type": "execute_result"
        }
      ],
      "source": [
        "data = pd.DataFrame({'city': ['kolkata', 'delhi'] * 3 + ['delhi'],'count': [1, 1, 2, 3, 3, 4, 4]})\n",
        "data"
      ]
    },
    {
      "cell_type": "markdown",
      "metadata": {
        "id": "zIXiCffVMFV1"
      },
      "source": [
        "The DataFrame method `duplicated()` returns a **boolean Series** indicating whether each row is a duplicate (has been observed in a previous row) or not:"
      ]
    },
    {
      "cell_type": "code",
      "execution_count": 149,
      "metadata": {
        "colab": {
          "base_uri": "https://localhost:8080/"
        },
        "id": "-gHG-m6KMC_H",
        "outputId": "c56a7d6f-80d1-4d7a-a1e0-b7942e9978e1"
      },
      "outputs": [
        {
          "data": {
            "text/plain": [
              "0    False\n",
              "1    False\n",
              "2    False\n",
              "3    False\n",
              "4    False\n",
              "5    False\n",
              "6     True\n",
              "dtype: bool"
            ]
          },
          "execution_count": 149,
          "metadata": {
            "tags": []
          },
          "output_type": "execute_result"
        }
      ],
      "source": [
        "data.duplicated()"
      ]
    },
    {
      "cell_type": "markdown",
      "metadata": {
        "id": "F5AUcKrZMp86"
      },
      "source": [
        "The `drop_duplicates()` returns a DataFrame where the duplicated array is False:"
      ]
    },
    {
      "cell_type": "code",
      "execution_count": 150,
      "metadata": {
        "colab": {
          "base_uri": "https://localhost:8080/",
          "height": 234
        },
        "id": "APi8MYEpLkUG",
        "outputId": "beacb807-313f-4df6-80bf-e3400bed96d2"
      },
      "outputs": [
        {
          "data": {
            "text/html": [
              "<div>\n",
              "<style scoped>\n",
              "    .dataframe tbody tr th:only-of-type {\n",
              "        vertical-align: middle;\n",
              "    }\n",
              "\n",
              "    .dataframe tbody tr th {\n",
              "        vertical-align: top;\n",
              "    }\n",
              "\n",
              "    .dataframe thead th {\n",
              "        text-align: right;\n",
              "    }\n",
              "</style>\n",
              "<table border=\"1\" class=\"dataframe\">\n",
              "  <thead>\n",
              "    <tr style=\"text-align: right;\">\n",
              "      <th></th>\n",
              "      <th>city</th>\n",
              "      <th>count</th>\n",
              "    </tr>\n",
              "  </thead>\n",
              "  <tbody>\n",
              "    <tr>\n",
              "      <th>0</th>\n",
              "      <td>kolkata</td>\n",
              "      <td>1</td>\n",
              "    </tr>\n",
              "    <tr>\n",
              "      <th>1</th>\n",
              "      <td>delhi</td>\n",
              "      <td>1</td>\n",
              "    </tr>\n",
              "    <tr>\n",
              "      <th>2</th>\n",
              "      <td>kolkata</td>\n",
              "      <td>2</td>\n",
              "    </tr>\n",
              "    <tr>\n",
              "      <th>3</th>\n",
              "      <td>delhi</td>\n",
              "      <td>3</td>\n",
              "    </tr>\n",
              "    <tr>\n",
              "      <th>4</th>\n",
              "      <td>kolkata</td>\n",
              "      <td>3</td>\n",
              "    </tr>\n",
              "    <tr>\n",
              "      <th>5</th>\n",
              "      <td>delhi</td>\n",
              "      <td>4</td>\n",
              "    </tr>\n",
              "  </tbody>\n",
              "</table>\n",
              "</div>"
            ],
            "text/plain": [
              "      city  count\n",
              "0  kolkata      1\n",
              "1    delhi      1\n",
              "2  kolkata      2\n",
              "3    delhi      3\n",
              "4  kolkata      3\n",
              "5    delhi      4"
            ]
          },
          "execution_count": 150,
          "metadata": {
            "tags": []
          },
          "output_type": "execute_result"
        }
      ],
      "source": [
        "data.drop_duplicates()"
      ]
    },
    {
      "cell_type": "code",
      "execution_count": 151,
      "metadata": {
        "colab": {
          "base_uri": "https://localhost:8080/",
          "height": 265
        },
        "id": "PeNFgOzXLncS",
        "outputId": "ee36318a-3256-4c69-881c-86a22dbe011a"
      },
      "outputs": [
        {
          "data": {
            "text/html": [
              "<div>\n",
              "<style scoped>\n",
              "    .dataframe tbody tr th:only-of-type {\n",
              "        vertical-align: middle;\n",
              "    }\n",
              "\n",
              "    .dataframe tbody tr th {\n",
              "        vertical-align: top;\n",
              "    }\n",
              "\n",
              "    .dataframe thead th {\n",
              "        text-align: right;\n",
              "    }\n",
              "</style>\n",
              "<table border=\"1\" class=\"dataframe\">\n",
              "  <thead>\n",
              "    <tr style=\"text-align: right;\">\n",
              "      <th></th>\n",
              "      <th>city</th>\n",
              "      <th>count</th>\n",
              "      <th>price</th>\n",
              "    </tr>\n",
              "  </thead>\n",
              "  <tbody>\n",
              "    <tr>\n",
              "      <th>0</th>\n",
              "      <td>kolkata</td>\n",
              "      <td>1</td>\n",
              "      <td>57</td>\n",
              "    </tr>\n",
              "    <tr>\n",
              "      <th>1</th>\n",
              "      <td>delhi</td>\n",
              "      <td>1</td>\n",
              "      <td>44</td>\n",
              "    </tr>\n",
              "    <tr>\n",
              "      <th>2</th>\n",
              "      <td>kolkata</td>\n",
              "      <td>2</td>\n",
              "      <td>91</td>\n",
              "    </tr>\n",
              "    <tr>\n",
              "      <th>3</th>\n",
              "      <td>delhi</td>\n",
              "      <td>3</td>\n",
              "      <td>23</td>\n",
              "    </tr>\n",
              "    <tr>\n",
              "      <th>4</th>\n",
              "      <td>kolkata</td>\n",
              "      <td>3</td>\n",
              "      <td>39</td>\n",
              "    </tr>\n",
              "    <tr>\n",
              "      <th>5</th>\n",
              "      <td>delhi</td>\n",
              "      <td>4</td>\n",
              "      <td>61</td>\n",
              "    </tr>\n",
              "    <tr>\n",
              "      <th>6</th>\n",
              "      <td>delhi</td>\n",
              "      <td>4</td>\n",
              "      <td>78</td>\n",
              "    </tr>\n",
              "  </tbody>\n",
              "</table>\n",
              "</div>"
            ],
            "text/plain": [
              "      city  count  price\n",
              "0  kolkata      1     57\n",
              "1    delhi      1     44\n",
              "2  kolkata      2     91\n",
              "3    delhi      3     23\n",
              "4  kolkata      3     39\n",
              "5    delhi      4     61\n",
              "6    delhi      4     78"
            ]
          },
          "execution_count": 151,
          "metadata": {
            "tags": []
          },
          "output_type": "execute_result"
        }
      ],
      "source": [
        "data['price'] = np.random.randint(10,100,size=7)\n",
        "data"
      ]
    },
    {
      "cell_type": "code",
      "execution_count": 154,
      "metadata": {
        "colab": {
          "base_uri": "https://localhost:8080/",
          "height": 172
        },
        "id": "CUN_LZAvNrot",
        "outputId": "c8a1ae4d-be9e-479b-9b59-78645ab546f9"
      },
      "outputs": [
        {
          "data": {
            "text/html": [
              "<div>\n",
              "<style scoped>\n",
              "    .dataframe tbody tr th:only-of-type {\n",
              "        vertical-align: middle;\n",
              "    }\n",
              "\n",
              "    .dataframe tbody tr th {\n",
              "        vertical-align: top;\n",
              "    }\n",
              "\n",
              "    .dataframe thead th {\n",
              "        text-align: right;\n",
              "    }\n",
              "</style>\n",
              "<table border=\"1\" class=\"dataframe\">\n",
              "  <thead>\n",
              "    <tr style=\"text-align: right;\">\n",
              "      <th></th>\n",
              "      <th>city</th>\n",
              "      <th>count</th>\n",
              "      <th>price</th>\n",
              "    </tr>\n",
              "  </thead>\n",
              "  <tbody>\n",
              "    <tr>\n",
              "      <th>0</th>\n",
              "      <td>kolkata</td>\n",
              "      <td>1</td>\n",
              "      <td>57</td>\n",
              "    </tr>\n",
              "    <tr>\n",
              "      <th>2</th>\n",
              "      <td>kolkata</td>\n",
              "      <td>2</td>\n",
              "      <td>91</td>\n",
              "    </tr>\n",
              "    <tr>\n",
              "      <th>3</th>\n",
              "      <td>delhi</td>\n",
              "      <td>3</td>\n",
              "      <td>23</td>\n",
              "    </tr>\n",
              "    <tr>\n",
              "      <th>5</th>\n",
              "      <td>delhi</td>\n",
              "      <td>4</td>\n",
              "      <td>61</td>\n",
              "    </tr>\n",
              "  </tbody>\n",
              "</table>\n",
              "</div>"
            ],
            "text/plain": [
              "      city  count  price\n",
              "0  kolkata      1     57\n",
              "2  kolkata      2     91\n",
              "3    delhi      3     23\n",
              "5    delhi      4     61"
            ]
          },
          "execution_count": 154,
          "metadata": {
            "tags": []
          },
          "output_type": "execute_result"
        }
      ],
      "source": [
        " # Drop duplicate by column\n",
        " data.drop_duplicates(['count'])"
      ]
    },
    {
      "cell_type": "markdown",
      "metadata": {
        "id": "tCBrFMF9OVij"
      },
      "source": [
        "### Transforming Data Using a Function or Mapping\n",
        "For many datasets, you may wish to perform some transformation based on the values in an array, Series, or column in a DataFrame. "
      ]
    },
    {
      "cell_type": "code",
      "execution_count": 155,
      "metadata": {
        "colab": {
          "base_uri": "https://localhost:8080/",
          "height": 203
        },
        "id": "gWGXGsydN_57",
        "outputId": "5d3487a7-5f8c-46dc-e875-d9af70a16647"
      },
      "outputs": [
        {
          "data": {
            "text/html": [
              "<div>\n",
              "<style scoped>\n",
              "    .dataframe tbody tr th:only-of-type {\n",
              "        vertical-align: middle;\n",
              "    }\n",
              "\n",
              "    .dataframe tbody tr th {\n",
              "        vertical-align: top;\n",
              "    }\n",
              "\n",
              "    .dataframe thead th {\n",
              "        text-align: right;\n",
              "    }\n",
              "</style>\n",
              "<table border=\"1\" class=\"dataframe\">\n",
              "  <thead>\n",
              "    <tr style=\"text-align: right;\">\n",
              "      <th></th>\n",
              "      <th>city</th>\n",
              "      <th>pupulation</th>\n",
              "    </tr>\n",
              "  </thead>\n",
              "  <tbody>\n",
              "    <tr>\n",
              "      <th>0</th>\n",
              "      <td>New York</td>\n",
              "      <td>731581758</td>\n",
              "    </tr>\n",
              "    <tr>\n",
              "      <th>1</th>\n",
              "      <td>Delhi</td>\n",
              "      <td>855141249</td>\n",
              "    </tr>\n",
              "    <tr>\n",
              "      <th>2</th>\n",
              "      <td>Kolkata</td>\n",
              "      <td>39045168</td>\n",
              "    </tr>\n",
              "    <tr>\n",
              "      <th>3</th>\n",
              "      <td>Chicago</td>\n",
              "      <td>795039675</td>\n",
              "    </tr>\n",
              "    <tr>\n",
              "      <th>4</th>\n",
              "      <td>Las Vegas</td>\n",
              "      <td>487601410</td>\n",
              "    </tr>\n",
              "  </tbody>\n",
              "</table>\n",
              "</div>"
            ],
            "text/plain": [
              "        city  pupulation\n",
              "0   New York   731581758\n",
              "1      Delhi   855141249\n",
              "2    Kolkata    39045168\n",
              "3    Chicago   795039675\n",
              "4  Las Vegas   487601410"
            ]
          },
          "execution_count": 155,
          "metadata": {
            "tags": []
          },
          "output_type": "execute_result"
        }
      ],
      "source": [
        "data = pd.DataFrame({'city':['New York','Delhi','Kolkata','Chicago','Las Vegas'], \n",
        "                     'pupulation': np.random.randint(100000,1000000000,size=5)\n",
        "                     })\n",
        "data"
      ]
    },
    {
      "cell_type": "code",
      "execution_count": 156,
      "metadata": {
        "colab": {
          "base_uri": "https://localhost:8080/"
        },
        "id": "r8d1fc-VP67O",
        "outputId": "11407509-c23b-4326-dedd-c3b62e471f1b"
      },
      "outputs": [
        {
          "data": {
            "text/plain": [
              "{'chicago': 'usa',\n",
              " 'delhi': 'india',\n",
              " 'kolkata': 'india',\n",
              " 'las vegas': 'usa',\n",
              " 'new york': 'usa'}"
            ]
          },
          "execution_count": 156,
          "metadata": {
            "tags": []
          },
          "output_type": "execute_result"
        }
      ],
      "source": [
        "city_to_country = {'new york':'usa','delhi':'india','kolkata':'india','chicago':'usa','las vegas':'usa'}\n",
        "city_to_country"
      ]
    },
    {
      "cell_type": "code",
      "execution_count": 157,
      "metadata": {
        "colab": {
          "base_uri": "https://localhost:8080/"
        },
        "id": "6bwP8Ou_QbKP",
        "outputId": "6ee5cb78-beae-42eb-b35a-459f16ae7750"
      },
      "outputs": [
        {
          "data": {
            "text/plain": [
              "city          object\n",
              "pupulation     int64\n",
              "dtype: object"
            ]
          },
          "execution_count": 157,
          "metadata": {
            "tags": []
          },
          "output_type": "execute_result"
        }
      ],
      "source": [
        "# We Need to cheack the data type\n",
        "data.dtypes"
      ]
    },
    {
      "cell_type": "code",
      "execution_count": 158,
      "metadata": {
        "colab": {
          "base_uri": "https://localhost:8080/",
          "height": 203
        },
        "id": "MDbrjR_kQsMd",
        "outputId": "791559fc-0ff1-4d50-97d2-62aaa27aca2c"
      },
      "outputs": [
        {
          "data": {
            "text/html": [
              "<div>\n",
              "<style scoped>\n",
              "    .dataframe tbody tr th:only-of-type {\n",
              "        vertical-align: middle;\n",
              "    }\n",
              "\n",
              "    .dataframe tbody tr th {\n",
              "        vertical-align: top;\n",
              "    }\n",
              "\n",
              "    .dataframe thead th {\n",
              "        text-align: right;\n",
              "    }\n",
              "</style>\n",
              "<table border=\"1\" class=\"dataframe\">\n",
              "  <thead>\n",
              "    <tr style=\"text-align: right;\">\n",
              "      <th></th>\n",
              "      <th>city</th>\n",
              "      <th>pupulation</th>\n",
              "    </tr>\n",
              "  </thead>\n",
              "  <tbody>\n",
              "    <tr>\n",
              "      <th>0</th>\n",
              "      <td>new york</td>\n",
              "      <td>731581758</td>\n",
              "    </tr>\n",
              "    <tr>\n",
              "      <th>1</th>\n",
              "      <td>delhi</td>\n",
              "      <td>855141249</td>\n",
              "    </tr>\n",
              "    <tr>\n",
              "      <th>2</th>\n",
              "      <td>kolkata</td>\n",
              "      <td>39045168</td>\n",
              "    </tr>\n",
              "    <tr>\n",
              "      <th>3</th>\n",
              "      <td>chicago</td>\n",
              "      <td>795039675</td>\n",
              "    </tr>\n",
              "    <tr>\n",
              "      <th>4</th>\n",
              "      <td>las vegas</td>\n",
              "      <td>487601410</td>\n",
              "    </tr>\n",
              "  </tbody>\n",
              "</table>\n",
              "</div>"
            ],
            "text/plain": [
              "        city  pupulation\n",
              "0   new york   731581758\n",
              "1      delhi   855141249\n",
              "2    kolkata    39045168\n",
              "3    chicago   795039675\n",
              "4  las vegas   487601410"
            ]
          },
          "execution_count": 158,
          "metadata": {
            "tags": []
          },
          "output_type": "execute_result"
        }
      ],
      "source": [
        "data['city'] = data['city'].str.lower()\n",
        "data"
      ]
    },
    {
      "cell_type": "code",
      "execution_count": 159,
      "metadata": {
        "colab": {
          "base_uri": "https://localhost:8080/",
          "height": 203
        },
        "id": "DlW5uW66Reyj",
        "outputId": "b2335e78-5b62-4d2a-df3a-9cbeb3183da0"
      },
      "outputs": [
        {
          "data": {
            "text/html": [
              "<div>\n",
              "<style scoped>\n",
              "    .dataframe tbody tr th:only-of-type {\n",
              "        vertical-align: middle;\n",
              "    }\n",
              "\n",
              "    .dataframe tbody tr th {\n",
              "        vertical-align: top;\n",
              "    }\n",
              "\n",
              "    .dataframe thead th {\n",
              "        text-align: right;\n",
              "    }\n",
              "</style>\n",
              "<table border=\"1\" class=\"dataframe\">\n",
              "  <thead>\n",
              "    <tr style=\"text-align: right;\">\n",
              "      <th></th>\n",
              "      <th>city</th>\n",
              "      <th>pupulation</th>\n",
              "      <th>country</th>\n",
              "    </tr>\n",
              "  </thead>\n",
              "  <tbody>\n",
              "    <tr>\n",
              "      <th>0</th>\n",
              "      <td>new york</td>\n",
              "      <td>731581758</td>\n",
              "      <td>usa</td>\n",
              "    </tr>\n",
              "    <tr>\n",
              "      <th>1</th>\n",
              "      <td>delhi</td>\n",
              "      <td>855141249</td>\n",
              "      <td>india</td>\n",
              "    </tr>\n",
              "    <tr>\n",
              "      <th>2</th>\n",
              "      <td>kolkata</td>\n",
              "      <td>39045168</td>\n",
              "      <td>india</td>\n",
              "    </tr>\n",
              "    <tr>\n",
              "      <th>3</th>\n",
              "      <td>chicago</td>\n",
              "      <td>795039675</td>\n",
              "      <td>usa</td>\n",
              "    </tr>\n",
              "    <tr>\n",
              "      <th>4</th>\n",
              "      <td>las vegas</td>\n",
              "      <td>487601410</td>\n",
              "      <td>usa</td>\n",
              "    </tr>\n",
              "  </tbody>\n",
              "</table>\n",
              "</div>"
            ],
            "text/plain": [
              "        city  pupulation country\n",
              "0   new york   731581758     usa\n",
              "1      delhi   855141249   india\n",
              "2    kolkata    39045168   india\n",
              "3    chicago   795039675     usa\n",
              "4  las vegas   487601410     usa"
            ]
          },
          "execution_count": 159,
          "metadata": {
            "tags": []
          },
          "output_type": "execute_result"
        }
      ],
      "source": [
        "data['country'] = data['city'].map(city_to_country)\n",
        "data"
      ]
    },
    {
      "cell_type": "code",
      "execution_count": 160,
      "metadata": {
        "colab": {
          "base_uri": "https://localhost:8080/",
          "height": 203
        },
        "id": "JoHlvzzC9zOT",
        "outputId": "31c49894-3134-48d1-ecf9-e836d058b7cd"
      },
      "outputs": [
        {
          "data": {
            "text/html": [
              "<div>\n",
              "<style scoped>\n",
              "    .dataframe tbody tr th:only-of-type {\n",
              "        vertical-align: middle;\n",
              "    }\n",
              "\n",
              "    .dataframe tbody tr th {\n",
              "        vertical-align: top;\n",
              "    }\n",
              "\n",
              "    .dataframe thead th {\n",
              "        text-align: right;\n",
              "    }\n",
              "</style>\n",
              "<table border=\"1\" class=\"dataframe\">\n",
              "  <thead>\n",
              "    <tr style=\"text-align: right;\">\n",
              "      <th></th>\n",
              "      <th>city</th>\n",
              "      <th>pupulation</th>\n",
              "      <th>country</th>\n",
              "      <th>zip</th>\n",
              "    </tr>\n",
              "  </thead>\n",
              "  <tbody>\n",
              "    <tr>\n",
              "      <th>0</th>\n",
              "      <td>new york</td>\n",
              "      <td>731581758</td>\n",
              "      <td>usa</td>\n",
              "      <td>+1</td>\n",
              "    </tr>\n",
              "    <tr>\n",
              "      <th>1</th>\n",
              "      <td>delhi</td>\n",
              "      <td>855141249</td>\n",
              "      <td>india</td>\n",
              "      <td>+91</td>\n",
              "    </tr>\n",
              "    <tr>\n",
              "      <th>2</th>\n",
              "      <td>kolkata</td>\n",
              "      <td>39045168</td>\n",
              "      <td>india</td>\n",
              "      <td>+91</td>\n",
              "    </tr>\n",
              "    <tr>\n",
              "      <th>3</th>\n",
              "      <td>chicago</td>\n",
              "      <td>795039675</td>\n",
              "      <td>usa</td>\n",
              "      <td>+1</td>\n",
              "    </tr>\n",
              "    <tr>\n",
              "      <th>4</th>\n",
              "      <td>las vegas</td>\n",
              "      <td>487601410</td>\n",
              "      <td>usa</td>\n",
              "      <td>+1</td>\n",
              "    </tr>\n",
              "  </tbody>\n",
              "</table>\n",
              "</div>"
            ],
            "text/plain": [
              "        city  pupulation country  zip\n",
              "0   new york   731581758     usa   +1\n",
              "1      delhi   855141249   india  +91\n",
              "2    kolkata    39045168   india  +91\n",
              "3    chicago   795039675     usa   +1\n",
              "4  las vegas   487601410     usa   +1"
            ]
          },
          "execution_count": 160,
          "metadata": {
            "tags": []
          },
          "output_type": "execute_result"
        }
      ],
      "source": [
        "zip = {'usa': '+1','india':'+91','uk':'+7'}\n",
        "data['zip'] = data['country'].map(zip)\n",
        "data"
      ]
    },
    {
      "cell_type": "markdown",
      "metadata": {
        "id": "oKeQs9gfSATd"
      },
      "source": [
        "### Replacing Values\n",
        "Filling in missing data with the `fillna()` method is a special case of more general value replacement. As you’ve already seen, `map()` can be used to modify a subset of values in an object but replace provides a simpler and more flexible way to do so. "
      ]
    },
    {
      "cell_type": "code",
      "execution_count": 161,
      "metadata": {
        "colab": {
          "base_uri": "https://localhost:8080/",
          "height": 203
        },
        "id": "0oGRkLVwRubh",
        "outputId": "2ec1241a-940b-4126-e97c-2f9ab89275cd"
      },
      "outputs": [
        {
          "data": {
            "text/html": [
              "<div>\n",
              "<style scoped>\n",
              "    .dataframe tbody tr th:only-of-type {\n",
              "        vertical-align: middle;\n",
              "    }\n",
              "\n",
              "    .dataframe tbody tr th {\n",
              "        vertical-align: top;\n",
              "    }\n",
              "\n",
              "    .dataframe thead th {\n",
              "        text-align: right;\n",
              "    }\n",
              "</style>\n",
              "<table border=\"1\" class=\"dataframe\">\n",
              "  <thead>\n",
              "    <tr style=\"text-align: right;\">\n",
              "      <th></th>\n",
              "      <th>city</th>\n",
              "      <th>pupulation</th>\n",
              "      <th>country</th>\n",
              "      <th>zip</th>\n",
              "    </tr>\n",
              "  </thead>\n",
              "  <tbody>\n",
              "    <tr>\n",
              "      <th>0</th>\n",
              "      <td>new york</td>\n",
              "      <td>731581758</td>\n",
              "      <td>usa</td>\n",
              "      <td>+1</td>\n",
              "    </tr>\n",
              "    <tr>\n",
              "      <th>1</th>\n",
              "      <td>delhi</td>\n",
              "      <td>855141249</td>\n",
              "      <td>india</td>\n",
              "      <td>+91</td>\n",
              "    </tr>\n",
              "    <tr>\n",
              "      <th>2</th>\n",
              "      <td>kolkata</td>\n",
              "      <td>39045168</td>\n",
              "      <td>india</td>\n",
              "      <td>+91</td>\n",
              "    </tr>\n",
              "    <tr>\n",
              "      <th>3</th>\n",
              "      <td>chicago</td>\n",
              "      <td>795039675</td>\n",
              "      <td>usa</td>\n",
              "      <td>+1</td>\n",
              "    </tr>\n",
              "    <tr>\n",
              "      <th>4</th>\n",
              "      <td>las vegas</td>\n",
              "      <td>487601410</td>\n",
              "      <td>usa</td>\n",
              "      <td>+1</td>\n",
              "    </tr>\n",
              "  </tbody>\n",
              "</table>\n",
              "</div>"
            ],
            "text/plain": [
              "        city  pupulation country  zip\n",
              "0   new york   731581758     usa   +1\n",
              "1      delhi   855141249   india  +91\n",
              "2    kolkata    39045168   india  +91\n",
              "3    chicago   795039675     usa   +1\n",
              "4  las vegas   487601410     usa   +1"
            ]
          },
          "execution_count": 161,
          "metadata": {
            "tags": []
          },
          "output_type": "execute_result"
        }
      ],
      "source": [
        "data['pupulation'] = data['pupulation'].replace([843448647,127963973\t],np.nan)\n",
        "data"
      ]
    },
    {
      "cell_type": "markdown",
      "metadata": {
        "id": "oK7UyJ6CTobP"
      },
      "source": [
        "### Detecting and Filtering Outliers\n",
        "Filtering or transforming **outliers** is largely a matter of applying array operations. Consider a DataFrame with some normally distributed data:"
      ]
    },
    {
      "cell_type": "code",
      "execution_count": 162,
      "metadata": {
        "colab": {
          "base_uri": "https://localhost:8080/",
          "height": 295
        },
        "id": "DdGdrzDrSm0p",
        "outputId": "d4a5cd94-ffb6-4b72-8093-870519435cd5"
      },
      "outputs": [
        {
          "data": {
            "text/html": [
              "<div>\n",
              "<style scoped>\n",
              "    .dataframe tbody tr th:only-of-type {\n",
              "        vertical-align: middle;\n",
              "    }\n",
              "\n",
              "    .dataframe tbody tr th {\n",
              "        vertical-align: top;\n",
              "    }\n",
              "\n",
              "    .dataframe thead th {\n",
              "        text-align: right;\n",
              "    }\n",
              "</style>\n",
              "<table border=\"1\" class=\"dataframe\">\n",
              "  <thead>\n",
              "    <tr style=\"text-align: right;\">\n",
              "      <th></th>\n",
              "      <th>Aaba</th>\n",
              "      <th>Baba</th>\n",
              "      <th>Caca</th>\n",
              "      <th>Dada</th>\n",
              "    </tr>\n",
              "  </thead>\n",
              "  <tbody>\n",
              "    <tr>\n",
              "      <th>count</th>\n",
              "      <td>1000.000000</td>\n",
              "      <td>1000.000000</td>\n",
              "      <td>1000.000000</td>\n",
              "      <td>1000.000000</td>\n",
              "    </tr>\n",
              "    <tr>\n",
              "      <th>mean</th>\n",
              "      <td>-0.014128</td>\n",
              "      <td>-0.028830</td>\n",
              "      <td>-0.009874</td>\n",
              "      <td>0.004128</td>\n",
              "    </tr>\n",
              "    <tr>\n",
              "      <th>std</th>\n",
              "      <td>0.981378</td>\n",
              "      <td>0.962308</td>\n",
              "      <td>1.001781</td>\n",
              "      <td>1.027538</td>\n",
              "    </tr>\n",
              "    <tr>\n",
              "      <th>min</th>\n",
              "      <td>-2.964888</td>\n",
              "      <td>-3.355816</td>\n",
              "      <td>-3.549110</td>\n",
              "      <td>-3.167404</td>\n",
              "    </tr>\n",
              "    <tr>\n",
              "      <th>25%</th>\n",
              "      <td>-0.710339</td>\n",
              "      <td>-0.686079</td>\n",
              "      <td>-0.679527</td>\n",
              "      <td>-0.654529</td>\n",
              "    </tr>\n",
              "    <tr>\n",
              "      <th>50%</th>\n",
              "      <td>-0.012924</td>\n",
              "      <td>-0.024915</td>\n",
              "      <td>-0.062036</td>\n",
              "      <td>0.036778</td>\n",
              "    </tr>\n",
              "    <tr>\n",
              "      <th>75%</th>\n",
              "      <td>0.667580</td>\n",
              "      <td>0.629801</td>\n",
              "      <td>0.670944</td>\n",
              "      <td>0.725620</td>\n",
              "    </tr>\n",
              "    <tr>\n",
              "      <th>max</th>\n",
              "      <td>3.238140</td>\n",
              "      <td>2.930522</td>\n",
              "      <td>3.342285</td>\n",
              "      <td>2.978472</td>\n",
              "    </tr>\n",
              "  </tbody>\n",
              "</table>\n",
              "</div>"
            ],
            "text/plain": [
              "              Aaba         Baba         Caca         Dada\n",
              "count  1000.000000  1000.000000  1000.000000  1000.000000\n",
              "mean     -0.014128    -0.028830    -0.009874     0.004128\n",
              "std       0.981378     0.962308     1.001781     1.027538\n",
              "min      -2.964888    -3.355816    -3.549110    -3.167404\n",
              "25%      -0.710339    -0.686079    -0.679527    -0.654529\n",
              "50%      -0.012924    -0.024915    -0.062036     0.036778\n",
              "75%       0.667580     0.629801     0.670944     0.725620\n",
              "max       3.238140     2.930522     3.342285     2.978472"
            ]
          },
          "execution_count": 162,
          "metadata": {
            "tags": []
          },
          "output_type": "execute_result"
        }
      ],
      "source": [
        "data = pd.DataFrame(np.random.randn(1000, 4),columns=['Aaba','Baba','Caca','Dada'])\n",
        "\n",
        "# Lets find out the outliers\n",
        "data.describe()"
      ]
    },
    {
      "cell_type": "code",
      "execution_count": 163,
      "metadata": {
        "colab": {
          "base_uri": "https://localhost:8080/",
          "height": 142
        },
        "id": "feDtvMgGUkqZ",
        "outputId": "fb6c01a3-6af8-41b5-c5c8-ceb601e7de8f"
      },
      "outputs": [
        {
          "data": {
            "text/html": [
              "<div>\n",
              "<style scoped>\n",
              "    .dataframe tbody tr th:only-of-type {\n",
              "        vertical-align: middle;\n",
              "    }\n",
              "\n",
              "    .dataframe tbody tr th {\n",
              "        vertical-align: top;\n",
              "    }\n",
              "\n",
              "    .dataframe thead th {\n",
              "        text-align: right;\n",
              "    }\n",
              "</style>\n",
              "<table border=\"1\" class=\"dataframe\">\n",
              "  <thead>\n",
              "    <tr style=\"text-align: right;\">\n",
              "      <th></th>\n",
              "      <th>Aaba</th>\n",
              "      <th>Baba</th>\n",
              "      <th>Caca</th>\n",
              "      <th>Dada</th>\n",
              "    </tr>\n",
              "  </thead>\n",
              "  <tbody>\n",
              "    <tr>\n",
              "      <th>157</th>\n",
              "      <td>-1.459662</td>\n",
              "      <td>0.067723</td>\n",
              "      <td>-3.034796</td>\n",
              "      <td>1.111442</td>\n",
              "    </tr>\n",
              "    <tr>\n",
              "      <th>260</th>\n",
              "      <td>1.419877</td>\n",
              "      <td>0.725150</td>\n",
              "      <td>3.342285</td>\n",
              "      <td>-0.088954</td>\n",
              "    </tr>\n",
              "    <tr>\n",
              "      <th>645</th>\n",
              "      <td>1.001509</td>\n",
              "      <td>-0.440654</td>\n",
              "      <td>-3.549110</td>\n",
              "      <td>-0.188530</td>\n",
              "    </tr>\n",
              "  </tbody>\n",
              "</table>\n",
              "</div>"
            ],
            "text/plain": [
              "         Aaba      Baba      Caca      Dada\n",
              "157 -1.459662  0.067723 -3.034796  1.111442\n",
              "260  1.419877  0.725150  3.342285 -0.088954\n",
              "645  1.001509 -0.440654 -3.549110 -0.188530"
            ]
          },
          "execution_count": 163,
          "metadata": {
            "tags": []
          },
          "output_type": "execute_result"
        }
      ],
      "source": [
        "data[np.abs(data['Caca']) > 3]"
      ]
    },
    {
      "cell_type": "code",
      "execution_count": 164,
      "metadata": {
        "colab": {
          "base_uri": "https://localhost:8080/",
          "height": 418
        },
        "id": "Ga5Tr_5QVQqL",
        "outputId": "ef226ea8-d944-47f6-8e86-2f60735742db"
      },
      "outputs": [
        {
          "data": {
            "text/html": [
              "<div>\n",
              "<style scoped>\n",
              "    .dataframe tbody tr th:only-of-type {\n",
              "        vertical-align: middle;\n",
              "    }\n",
              "\n",
              "    .dataframe tbody tr th {\n",
              "        vertical-align: top;\n",
              "    }\n",
              "\n",
              "    .dataframe thead th {\n",
              "        text-align: right;\n",
              "    }\n",
              "</style>\n",
              "<table border=\"1\" class=\"dataframe\">\n",
              "  <thead>\n",
              "    <tr style=\"text-align: right;\">\n",
              "      <th></th>\n",
              "      <th>Aaba</th>\n",
              "      <th>Baba</th>\n",
              "      <th>Caca</th>\n",
              "      <th>Dada</th>\n",
              "    </tr>\n",
              "  </thead>\n",
              "  <tbody>\n",
              "    <tr>\n",
              "      <th>39</th>\n",
              "      <td>1.455963</td>\n",
              "      <td>-3.116615</td>\n",
              "      <td>-0.111660</td>\n",
              "      <td>-0.775272</td>\n",
              "    </tr>\n",
              "    <tr>\n",
              "      <th>46</th>\n",
              "      <td>1.100756</td>\n",
              "      <td>-0.036092</td>\n",
              "      <td>1.373986</td>\n",
              "      <td>-3.167404</td>\n",
              "    </tr>\n",
              "    <tr>\n",
              "      <th>157</th>\n",
              "      <td>-1.459662</td>\n",
              "      <td>0.067723</td>\n",
              "      <td>-3.034796</td>\n",
              "      <td>1.111442</td>\n",
              "    </tr>\n",
              "    <tr>\n",
              "      <th>260</th>\n",
              "      <td>1.419877</td>\n",
              "      <td>0.725150</td>\n",
              "      <td>3.342285</td>\n",
              "      <td>-0.088954</td>\n",
              "    </tr>\n",
              "    <tr>\n",
              "      <th>444</th>\n",
              "      <td>1.261487</td>\n",
              "      <td>1.118862</td>\n",
              "      <td>0.315600</td>\n",
              "      <td>-3.092298</td>\n",
              "    </tr>\n",
              "    <tr>\n",
              "      <th>504</th>\n",
              "      <td>-0.687179</td>\n",
              "      <td>-3.115978</td>\n",
              "      <td>1.511751</td>\n",
              "      <td>0.653478</td>\n",
              "    </tr>\n",
              "    <tr>\n",
              "      <th>518</th>\n",
              "      <td>-1.375066</td>\n",
              "      <td>-3.110294</td>\n",
              "      <td>0.935354</td>\n",
              "      <td>0.956307</td>\n",
              "    </tr>\n",
              "    <tr>\n",
              "      <th>645</th>\n",
              "      <td>1.001509</td>\n",
              "      <td>-0.440654</td>\n",
              "      <td>-3.549110</td>\n",
              "      <td>-0.188530</td>\n",
              "    </tr>\n",
              "    <tr>\n",
              "      <th>688</th>\n",
              "      <td>3.238140</td>\n",
              "      <td>0.435656</td>\n",
              "      <td>-0.571016</td>\n",
              "      <td>-1.438396</td>\n",
              "    </tr>\n",
              "    <tr>\n",
              "      <th>828</th>\n",
              "      <td>0.224491</td>\n",
              "      <td>-3.355816</td>\n",
              "      <td>0.763214</td>\n",
              "      <td>-0.383391</td>\n",
              "    </tr>\n",
              "    <tr>\n",
              "      <th>836</th>\n",
              "      <td>0.112581</td>\n",
              "      <td>-3.246067</td>\n",
              "      <td>0.279451</td>\n",
              "      <td>-1.012459</td>\n",
              "    </tr>\n",
              "    <tr>\n",
              "      <th>852</th>\n",
              "      <td>3.077381</td>\n",
              "      <td>-1.593965</td>\n",
              "      <td>-1.614326</td>\n",
              "      <td>-1.066925</td>\n",
              "    </tr>\n",
              "  </tbody>\n",
              "</table>\n",
              "</div>"
            ],
            "text/plain": [
              "         Aaba      Baba      Caca      Dada\n",
              "39   1.455963 -3.116615 -0.111660 -0.775272\n",
              "46   1.100756 -0.036092  1.373986 -3.167404\n",
              "157 -1.459662  0.067723 -3.034796  1.111442\n",
              "260  1.419877  0.725150  3.342285 -0.088954\n",
              "444  1.261487  1.118862  0.315600 -3.092298\n",
              "504 -0.687179 -3.115978  1.511751  0.653478\n",
              "518 -1.375066 -3.110294  0.935354  0.956307\n",
              "645  1.001509 -0.440654 -3.549110 -0.188530\n",
              "688  3.238140  0.435656 -0.571016 -1.438396\n",
              "828  0.224491 -3.355816  0.763214 -0.383391\n",
              "836  0.112581 -3.246067  0.279451 -1.012459\n",
              "852  3.077381 -1.593965 -1.614326 -1.066925"
            ]
          },
          "execution_count": 164,
          "metadata": {
            "tags": []
          },
          "output_type": "execute_result"
        }
      ],
      "source": [
        "# Detecting outleirs from any columns in the dataframe\n",
        "\n",
        "data[(np.abs(data) > 3).any(1)] # axis = 1 i.e column wise"
      ]
    },
    {
      "cell_type": "code",
      "execution_count": 165,
      "metadata": {
        "colab": {
          "base_uri": "https://localhost:8080/",
          "height": 49
        },
        "id": "iXNrY9wbXTb3",
        "outputId": "b5004977-3f1a-49ee-8b23-9d9848076ab2"
      },
      "outputs": [
        {
          "data": {
            "text/html": [
              "<div>\n",
              "<style scoped>\n",
              "    .dataframe tbody tr th:only-of-type {\n",
              "        vertical-align: middle;\n",
              "    }\n",
              "\n",
              "    .dataframe tbody tr th {\n",
              "        vertical-align: top;\n",
              "    }\n",
              "\n",
              "    .dataframe thead th {\n",
              "        text-align: right;\n",
              "    }\n",
              "</style>\n",
              "<table border=\"1\" class=\"dataframe\">\n",
              "  <thead>\n",
              "    <tr style=\"text-align: right;\">\n",
              "      <th></th>\n",
              "      <th>Aaba</th>\n",
              "      <th>Baba</th>\n",
              "      <th>Caca</th>\n",
              "      <th>Dada</th>\n",
              "    </tr>\n",
              "  </thead>\n",
              "  <tbody>\n",
              "  </tbody>\n",
              "</table>\n",
              "</div>"
            ],
            "text/plain": [
              "Empty DataFrame\n",
              "Columns: [Aaba, Baba, Caca, Dada]\n",
              "Index: []"
            ]
          },
          "execution_count": 165,
          "metadata": {
            "tags": []
          },
          "output_type": "execute_result"
        }
      ],
      "source": [
        "data[(np.abs(data) > 3).all(1)]"
      ]
    },
    {
      "cell_type": "code",
      "execution_count": 166,
      "metadata": {
        "colab": {
          "base_uri": "https://localhost:8080/",
          "height": 80
        },
        "id": "IQqQYN9NXXnE",
        "outputId": "dddce698-d277-4893-be0d-d1b6e0cb53df"
      },
      "outputs": [
        {
          "data": {
            "text/html": [
              "<div>\n",
              "<style scoped>\n",
              "    .dataframe tbody tr th:only-of-type {\n",
              "        vertical-align: middle;\n",
              "    }\n",
              "\n",
              "    .dataframe tbody tr th {\n",
              "        vertical-align: top;\n",
              "    }\n",
              "\n",
              "    .dataframe thead th {\n",
              "        text-align: right;\n",
              "    }\n",
              "</style>\n",
              "<table border=\"1\" class=\"dataframe\">\n",
              "  <thead>\n",
              "    <tr style=\"text-align: right;\">\n",
              "      <th></th>\n",
              "      <th>Aaba</th>\n",
              "      <th>Baba</th>\n",
              "      <th>Caca</th>\n",
              "      <th>Dada</th>\n",
              "    </tr>\n",
              "  </thead>\n",
              "  <tbody>\n",
              "    <tr>\n",
              "      <th>1000</th>\n",
              "      <td>4.0</td>\n",
              "      <td>4.0</td>\n",
              "      <td>-4.0</td>\n",
              "      <td>-4.0</td>\n",
              "    </tr>\n",
              "  </tbody>\n",
              "</table>\n",
              "</div>"
            ],
            "text/plain": [
              "      Aaba  Baba  Caca  Dada\n",
              "1000   4.0   4.0  -4.0  -4.0"
            ]
          },
          "execution_count": 166,
          "metadata": {
            "tags": []
          },
          "output_type": "execute_result"
        }
      ],
      "source": [
        "new_row = {'Aaba' : 4,\t'Baba':4,\t'Caca': -4,\t'Dada': -4}\n",
        "data = data.append(new_row,ignore_index=True)\n",
        "data[(np.abs(data) > 3).all(1)]"
      ]
    },
    {
      "cell_type": "code",
      "execution_count": null,
      "metadata": {
        "id": "c9aFzIt6YnKP"
      },
      "outputs": [],
      "source": []
    },
    {
      "cell_type": "markdown",
      "metadata": {
        "id": "BYT7FM56w49Y"
      },
      "source": [
        "# Project: Risk of being drawn into online sex work\n",
        "\n",
        "### Context\n",
        "This database was used in the paper: Covert online ethnography and machine learning for detecting individuals at risk of being drawn into online sex work. 2018 IEEE/ACM International Conference on Advances in Social Networks Analysis and Mining (ASONAM), Barcelona, Spain, 28-31 August.\n",
        "\n",
        "### Content\n",
        "The database includes data scraped from a European online adult forum. Using covert online ethnography we interviewed a small number of participants and determined their risk to either supply or demand sex services through that forum. This is a great dataset for semi-supervised learning.\n",
        "\n",
        "### Inspiration\n",
        "How can we identify individuals at risk of being drawn into online sex work? The spread of online social media enables a greater number of people to be involved into online sex trade; however, detecting deviant behaviors online is limited by the low available of data. To overcome this challenge, we combine covert online ethnography with semi-supervised learning using data from a popular European adult forum."
      ]
    },
    {
      "cell_type": "markdown",
      "metadata": {
        "id": "j7d7ldUQyWca"
      },
      "source": [
        "## Importing Data"
      ]
    },
    {
      "cell_type": "code",
      "execution_count": 167,
      "metadata": {
        "id": "aaqtbgM-yK84"
      },
      "outputs": [],
      "source": [
        "import pandas as pd\n",
        "import numpy as np\n",
        "\n",
        "import warnings; warnings.filterwarnings('ignore')"
      ]
    },
    {
      "cell_type": "code",
      "execution_count": 168,
      "metadata": {
        "colab": {
          "base_uri": "https://localhost:8080/",
          "height": 254
        },
        "id": "Cr55C83rya2a",
        "outputId": "5bb7c158-5d0c-4652-c5be-5356ca04ab56"
      },
      "outputs": [
        {
          "data": {
            "text/html": [
              "<div>\n",
              "<style scoped>\n",
              "    .dataframe tbody tr th:only-of-type {\n",
              "        vertical-align: middle;\n",
              "    }\n",
              "\n",
              "    .dataframe tbody tr th {\n",
              "        vertical-align: top;\n",
              "    }\n",
              "\n",
              "    .dataframe thead th {\n",
              "        text-align: right;\n",
              "    }\n",
              "</style>\n",
              "<table border=\"1\" class=\"dataframe\">\n",
              "  <thead>\n",
              "    <tr style=\"text-align: right;\">\n",
              "      <th></th>\n",
              "      <th>Gender</th>\n",
              "      <th>Age</th>\n",
              "      <th>Location</th>\n",
              "      <th>Verification</th>\n",
              "      <th>Sexual_orientation</th>\n",
              "      <th>Sexual_polarity</th>\n",
              "      <th>Looking_for</th>\n",
              "      <th>Points_Rank</th>\n",
              "      <th>Last_login</th>\n",
              "      <th>Member_since</th>\n",
              "      <th>Number_of_Comments_in_public_forum</th>\n",
              "      <th>Time_spent_chating_H:M</th>\n",
              "      <th>Number_of_advertisments_posted</th>\n",
              "      <th>Number_of_offline_meetings_attended</th>\n",
              "      <th>Profile_pictures</th>\n",
              "      <th>Friends_ID_list</th>\n",
              "      <th>Risk</th>\n",
              "    </tr>\n",
              "    <tr>\n",
              "      <th>User_ID</th>\n",
              "      <th></th>\n",
              "      <th></th>\n",
              "      <th></th>\n",
              "      <th></th>\n",
              "      <th></th>\n",
              "      <th></th>\n",
              "      <th></th>\n",
              "      <th></th>\n",
              "      <th></th>\n",
              "      <th></th>\n",
              "      <th></th>\n",
              "      <th></th>\n",
              "      <th></th>\n",
              "      <th></th>\n",
              "      <th></th>\n",
              "      <th></th>\n",
              "      <th></th>\n",
              "    </tr>\n",
              "  </thead>\n",
              "  <tbody>\n",
              "    <tr>\n",
              "      <th>10386.0</th>\n",
              "      <td>male</td>\n",
              "      <td>34,6</td>\n",
              "      <td>A</td>\n",
              "      <td>Non_Verified</td>\n",
              "      <td>Homosexual</td>\n",
              "      <td>Switch</td>\n",
              "      <td>Men</td>\n",
              "      <td>50</td>\n",
              "      <td>before_10_days</td>\n",
              "      <td>17.9.2012</td>\n",
              "      <td>32</td>\n",
              "      <td>0:2</td>\n",
              "      <td>0.0</td>\n",
              "      <td>0.0</td>\n",
              "      <td>0.0</td>\n",
              "      <td>18260</td>\n",
              "      <td>No_risk</td>\n",
              "    </tr>\n",
              "    <tr>\n",
              "      <th>14.0</th>\n",
              "      <td>male</td>\n",
              "      <td>32,2</td>\n",
              "      <td>J</td>\n",
              "      <td>Non_Verified</td>\n",
              "      <td>Heterosexual</td>\n",
              "      <td>Dominant</td>\n",
              "      <td>Women</td>\n",
              "      <td>518</td>\n",
              "      <td>before_1_days</td>\n",
              "      <td>1.11.2009</td>\n",
              "      <td>710</td>\n",
              "      <td>3:45</td>\n",
              "      <td>9.0</td>\n",
              "      <td>0.0</td>\n",
              "      <td>0.0</td>\n",
              "      <td>11778,32024,43768,23969,27318,45884,31277</td>\n",
              "      <td>No_risk</td>\n",
              "    </tr>\n",
              "    <tr>\n",
              "      <th>16721.0</th>\n",
              "      <td>male</td>\n",
              "      <td>33,6</td>\n",
              "      <td>K</td>\n",
              "      <td>Non_Verified</td>\n",
              "      <td>Heterosexual</td>\n",
              "      <td>Dominant</td>\n",
              "      <td>Women</td>\n",
              "      <td>150</td>\n",
              "      <td>before_3_days</td>\n",
              "      <td>1.4.2013</td>\n",
              "      <td>25</td>\n",
              "      <td>2:15</td>\n",
              "      <td>1.0</td>\n",
              "      <td>1.0</td>\n",
              "      <td>45.0</td>\n",
              "      <td>19805,21721,19802</td>\n",
              "      <td>No_risk</td>\n",
              "    </tr>\n",
              "    <tr>\n",
              "      <th>16957.0</th>\n",
              "      <td>male</td>\n",
              "      <td>34</td>\n",
              "      <td>H</td>\n",
              "      <td>Non_Verified</td>\n",
              "      <td>Heterosexual</td>\n",
              "      <td>Dominant</td>\n",
              "      <td>Women</td>\n",
              "      <td>114</td>\n",
              "      <td>before_4_days</td>\n",
              "      <td>8.4.2013</td>\n",
              "      <td>107</td>\n",
              "      <td>359:22</td>\n",
              "      <td>1.0</td>\n",
              "      <td>0.0</td>\n",
              "      <td>1.0</td>\n",
              "      <td>40847,38183,9507,42259,5807,28118,24848,37170,...</td>\n",
              "      <td>No_risk</td>\n",
              "    </tr>\n",
              "    <tr>\n",
              "      <th>17125.0</th>\n",
              "      <td>male</td>\n",
              "      <td>39,5</td>\n",
              "      <td>B</td>\n",
              "      <td>Non_Verified</td>\n",
              "      <td>Heterosexual</td>\n",
              "      <td>Dominant</td>\n",
              "      <td>Women</td>\n",
              "      <td>497</td>\n",
              "      <td>before_5_days</td>\n",
              "      <td>14.4.2013</td>\n",
              "      <td>600</td>\n",
              "      <td>0:21</td>\n",
              "      <td>0.0</td>\n",
              "      <td>6.0</td>\n",
              "      <td>8.0</td>\n",
              "      <td>1320,35739,34231,19097,20197,18069,12330,43342...</td>\n",
              "      <td>No_risk</td>\n",
              "    </tr>\n",
              "  </tbody>\n",
              "</table>\n",
              "</div>"
            ],
            "text/plain": [
              "        Gender  ...     Risk\n",
              "User_ID         ...         \n",
              "10386.0   male  ...  No_risk\n",
              "14.0      male  ...  No_risk\n",
              "16721.0   male  ...  No_risk\n",
              "16957.0   male  ...  No_risk\n",
              "17125.0   male  ...  No_risk\n",
              "\n",
              "[5 rows x 17 columns]"
            ]
          },
          "execution_count": 168,
          "metadata": {
            "tags": []
          },
          "output_type": "execute_result"
        }
      ],
      "source": [
        "df = pd.read_csv('/content/online_sex_work.csv', index_col=0)\n",
        "df = df.iloc[: 28831, :]\n",
        "\n",
        "df.head()"
      ]
    },
    {
      "cell_type": "code",
      "execution_count": null,
      "metadata": {
        "id": "y_wXTIB-ymwW"
      },
      "outputs": [],
      "source": [
        "# Understand the Data Types\n",
        "df.dtypes"
      ]
    },
    {
      "cell_type": "markdown",
      "metadata": {
        "id": "16hSyAZyzLs8"
      },
      "source": [
        "## Data Cleaning\n"
      ]
    },
    {
      "cell_type": "markdown",
      "metadata": {
        "id": "XKt4YaS9zQrQ"
      },
      "source": [
        "### Change datatype for some features\n",
        "\n",
        "Data in a number of features that contain numerical data could be converted into pure numbers (integers), which would take less memory and could be interpreted more easily by machine learning models."
      ]
    },
    {
      "cell_type": "code",
      "execution_count": null,
      "metadata": {
        "id": "oympJlMjy3Ym"
      },
      "outputs": [],
      "source": [
        "df.index = df.index.astype(int)\n",
        "df['Number_of_advertisments_posted'] = df['Number_of_advertisments_posted'].astype(int)\n",
        "df['Number_of_offline_meetings_attended'] = df['Number_of_offline_meetings_attended'].astype(int)\n",
        "df['Profile_pictures'] = df['Profile_pictures'].astype(int)\n",
        "df['Friends_ID_list'] = df['Friends_ID_list'].astype(str)\n",
        "df['Risk'] = df['Risk'].astype(str)\n",
        "\n",
        "df.head()"
      ]
    },
    {
      "cell_type": "code",
      "execution_count": null,
      "metadata": {
        "id": "kqj1TlUpzgfT"
      },
      "outputs": [],
      "source": [
        "df.dtypes"
      ]
    },
    {
      "cell_type": "code",
      "execution_count": null,
      "metadata": {
        "id": "5jB7rEZ0z2sH"
      },
      "outputs": [],
      "source": [
        "# cheack the Error\n",
        "# df['Number_of_Comments_in_public_forum'] = df['Number_of_Comments_in_public_forum'].astype(int)"
      ]
    },
    {
      "cell_type": "code",
      "execution_count": null,
      "metadata": {
        "id": "bJUltVdez-5w"
      },
      "outputs": [],
      "source": [
        "df['Number_of_Comments_in_public_forum'] = df['Number_of_Comments_in_public_forum'].str.replace(' ', '').astype(int)"
      ]
    },
    {
      "cell_type": "markdown",
      "metadata": {
        "id": "yYvNIdpTgWt1"
      },
      "source": [
        "### Counting the Missing Values"
      ]
    },
    {
      "cell_type": "code",
      "execution_count": null,
      "metadata": {
        "id": "ugRatz1adCYF"
      },
      "outputs": [],
      "source": [
        "# Count of missing values column wise\n",
        "df.isnull().sum()"
      ]
    },
    {
      "cell_type": "markdown",
      "metadata": {
        "id": "eZbL1-ijfVJE"
      },
      "source": [
        "### Convert `Gender` to binary data\n",
        "\n",
        "In the `Gender` column, We fill some missing values using some simple conditions (if the entry is, for example, homosexual, and looking for men, we fill that entry with `male`), using the `fill_gender_na` function below. Then in every entry, we change the data to whether it specifies `female` or not."
      ]
    },
    {
      "cell_type": "code",
      "execution_count": null,
      "metadata": {
        "id": "YeE2N25bgIGz"
      },
      "outputs": [],
      "source": [
        "def fill_gender_na(row):\n",
        "    if row['Sexual_orientation'] == 'Homosexual':\n",
        "        if row['Looking_for'] == 'Men':\n",
        "            return 'male'\n",
        "        elif row['Looking_for'] == 'Women':\n",
        "            return 'female'\n",
        "    elif row['Sexual_orientation'] == 'Heterosexual':\n",
        "        if row['Looking_for'] == 'Men':\n",
        "            return 'female'\n",
        "        elif row['Looking_for'] == 'Women':\n",
        "            return 'male'\n",
        "    return np.nan"
      ]
    },
    {
      "cell_type": "code",
      "execution_count": null,
      "metadata": {
        "id": "OVSCic_pghp7"
      },
      "outputs": [],
      "source": [
        "## Fill the missing data\n",
        "fill_values = df.apply(fill_gender_na, axis=1)\n",
        "df['Gender'].fillna(fill_values, inplace=True)"
      ]
    },
    {
      "cell_type": "code",
      "execution_count": null,
      "metadata": {
        "id": "s-4lcqsxhHlN"
      },
      "outputs": [],
      "source": [
        "# Lets check the missing values\n",
        "df.isnull().sum()"
      ]
    },
    {
      "cell_type": "code",
      "execution_count": null,
      "metadata": {
        "id": "bvkkJxjShKCy"
      },
      "outputs": [],
      "source": [
        "# Add missing value with summary statistics \n",
        "df['Gender'].fillna(df['Gender'].mode()[0], inplace=True)\n",
        "df.head()"
      ]
    },
    {
      "cell_type": "code",
      "execution_count": null,
      "metadata": {
        "id": "VLSsYnIOheq9"
      },
      "outputs": [],
      "source": [
        "# Lets check the missing values\n",
        "df.isnull().sum()"
      ]
    },
    {
      "cell_type": "markdown",
      "metadata": {
        "id": "a708xJHmjND3"
      },
      "source": [
        "### Insert new Binary column named 'Female'"
      ]
    },
    {
      "cell_type": "code",
      "execution_count": null,
      "metadata": {
        "id": "r0wmwLVtjMBT"
      },
      "outputs": [],
      "source": [
        "df.insert(0, 'Female', df['Gender'] == 'female')\n",
        "df.head()"
      ]
    },
    {
      "cell_type": "markdown",
      "metadata": {
        "id": "K2rUDYrSpREa"
      },
      "source": [
        "### Missing values in `Location`"
      ]
    },
    {
      "cell_type": "code",
      "execution_count": null,
      "metadata": {
        "id": "xkFMIwg0pSDR"
      },
      "outputs": [],
      "source": [
        "df['Location'].fillna(df['Location'].mode()[0], inplace=True)"
      ]
    },
    {
      "cell_type": "markdown",
      "metadata": {
        "id": "VrCEe6OCj9Ye"
      },
      "source": [
        "### Decimal points in `Age`\n",
        "\n",
        "We replace all commas (European decimal separator) with periods, while handling some unformatted values."
      ]
    },
    {
      "cell_type": "code",
      "execution_count": null,
      "metadata": {
        "id": "WRyFqmK-kQe6"
      },
      "outputs": [],
      "source": [
        "def comma_replace(obj):\n",
        "  return obj.replace(\",\",\".\")\n",
        "\n",
        "df['Age'].head().apply(comma_replace)"
      ]
    },
    {
      "cell_type": "code",
      "execution_count": null,
      "metadata": {
        "id": "J2MQK_OkiI7o"
      },
      "outputs": [],
      "source": [
        "# Lets do with single line with lambda\n",
        "df['Age'] = df['Age'].apply(lambda obj: obj.replace(',', '.'))\n",
        "df.head()"
      ]
    },
    {
      "cell_type": "code",
      "execution_count": null,
      "metadata": {
        "id": "_hOfH4E6kOfS"
      },
      "outputs": [],
      "source": [
        "# Error: Convering age to numeric\n",
        "pd.to_numeric(df['Age'])"
      ]
    },
    {
      "cell_type": "code",
      "execution_count": null,
      "metadata": {
        "id": "wWbC8mgTomBK"
      },
      "outputs": [],
      "source": [
        "# Method 1\n",
        "df['Age'] = df['Age'].replace('???', np.nan)\n",
        "df['Age'] = df['Age'].astype(float)"
      ]
    },
    {
      "cell_type": "code",
      "execution_count": null,
      "metadata": {
        "id": "-TKtFqZcn9gG"
      },
      "outputs": [],
      "source": [
        "# Method 2\n",
        "df['Age'] = pd.to_numeric(df['Age'], errors='coerce')"
      ]
    },
    {
      "cell_type": "code",
      "execution_count": null,
      "metadata": {
        "id": "895_zlb5o5Qk"
      },
      "outputs": [],
      "source": [
        "# Lets check the missing values\n",
        "df.isnull().sum()"
      ]
    },
    {
      "cell_type": "code",
      "execution_count": null,
      "metadata": {
        "id": "7sAi3mBWo878"
      },
      "outputs": [],
      "source": [
        "df['Age'].fillna(df['Age'].mean(), inplace=True)"
      ]
    },
    {
      "cell_type": "code",
      "execution_count": null,
      "metadata": {
        "id": "IOrz3JA7pGEU"
      },
      "outputs": [],
      "source": [
        "df.isnull().sum()"
      ]
    },
    {
      "cell_type": "markdown",
      "metadata": {
        "id": "B1IxWRiypf-S"
      },
      "source": [
        "### Convert `Verification` to binary data\n",
        "\n",
        "In every entry, we change the data to whether the user is verified or not."
      ]
    },
    {
      "cell_type": "code",
      "execution_count": null,
      "metadata": {
        "id": "DJWvVOHLpfHk"
      },
      "outputs": [],
      "source": [
        "df['Verification'] = df['Verification'] != 'Non_Verified'\n",
        "df[['Verification']].head()"
      ]
    }
  ],
  "metadata": {
    "colab": {
      "include_colab_link": true,
      "name": "08 - Pandas II - Data Cleaning and Preparation.ipynb",
      "provenance": []
    },
    "interpreter": {
      "hash": "7dae6437c12b1d87f00e0e10a4bd22be66a3b8ec05fb1161d95372f28c39fa9e"
    },
    "kernelspec": {
      "display_name": "Python 3.8.8 64-bit ('base': conda)",
      "name": "python3"
    },
    "language_info": {
      "codemirror_mode": {
        "name": "ipython",
        "version": 3
      },
      "file_extension": ".py",
      "mimetype": "text/x-python",
      "name": "python",
      "nbconvert_exporter": "python",
      "pygments_lexer": "ipython3",
      "version": "3.8.8"
    },
    "orig_nbformat": 4
  },
  "nbformat": 4,
  "nbformat_minor": 0
}
