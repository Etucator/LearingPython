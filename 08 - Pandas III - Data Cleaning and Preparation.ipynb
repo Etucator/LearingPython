{
  "nbformat": 4,
  "nbformat_minor": 0,
  "metadata": {
    "language_info": {
      "codemirror_mode": {
        "name": "ipython",
        "version": 3
      },
      "file_extension": ".py",
      "mimetype": "text/x-python",
      "name": "python",
      "nbconvert_exporter": "python",
      "pygments_lexer": "ipython3",
      "version": "3.7.4"
    },
    "orig_nbformat": 4,
    "kernelspec": {
      "name": "python3",
      "display_name": "Python 3.7.4 64-bit ('base': conda)"
    },
    "interpreter": {
      "hash": "7dae6437c12b1d87f00e0e10a4bd22be66a3b8ec05fb1161d95372f28c39fa9e"
    },
    "colab": {
      "name": "08 - Pandas II - Data Cleaning and Preparation.ipynb",
      "provenance": [],
      "include_colab_link": true
    }
  },
  "cells": [
    {
      "cell_type": "markdown",
      "metadata": {
        "id": "view-in-github",
        "colab_type": "text"
      },
      "source": [
        "<a href=\"https://colab.research.google.com/github/recervictory/LearingPython/blob/Student/08%20-%20Pandas%20III%20-%20Data%20Cleaning%20and%20Preparation.ipynb\" target=\"_parent\"><img src=\"https://colab.research.google.com/assets/colab-badge.svg\" alt=\"Open In Colab\"/></a>"
      ]
    },
    {
      "cell_type": "markdown",
      "metadata": {
        "id": "EltOY5JGWFLk"
      },
      "source": [
        "# Data Cleaning and Preparation\n",
        "\n",
        "During the course of doing data analysis and modeling, a *significant amount of time* is spent on data preparation: loading, cleaning, transforming, and rearranging. Such tasks are often reported to take up *80% or more of an analyst’s time*.\n",
        "\n"
      ]
    },
    {
      "cell_type": "code",
      "metadata": {
        "id": "zOOw9XmiWFLn"
      },
      "source": [
        "import pandas as pd\n",
        "import numpy as np\n",
        "from numpy import nan as NA # represent NaN as NA"
      ],
      "execution_count": 2,
      "outputs": []
    },
    {
      "cell_type": "markdown",
      "metadata": {
        "id": "lqlK9iiLWFLm"
      },
      "source": [
        "## A. Handling Missing Data\n",
        "Missing data occurs commonly in many data analysis applications. One of the goals\n",
        "of pandas is to make working with missing data as painless as possible. For example,\n",
        "all of the descriptive statistics on pandas objects exclude missing data by default.\n",
        "\n",
        "The way that missing data is represented in pandas objects is somewhat imperfect,\n",
        "but it is functional for a lot of users. For numeric data, pandas uses the floating-point\n",
        "value NaN (Not a Number) to represent missing data.\n",
        "\n",
        "The built-in Python **None** value is also treated as NA in object arrays:"
      ]
    },
    {
      "cell_type": "code",
      "metadata": {
        "id": "cCEJ3z8oWFLn",
        "colab": {
          "base_uri": "https://localhost:8080/"
        },
        "outputId": "20cc68de-0f55-406b-9770-eb96efe50aad"
      },
      "source": [
        "string_data = pd.Series(['Kolkata', 'Delhi', np.nan, 'Bangalore'])\n",
        "string_data"
      ],
      "execution_count": null,
      "outputs": [
        {
          "output_type": "execute_result",
          "data": {
            "text/plain": [
              "0      Kolkata\n",
              "1        Delhi\n",
              "2          NaN\n",
              "3    Bangalore\n",
              "dtype: object"
            ]
          },
          "metadata": {
            "tags": []
          },
          "execution_count": 103
        }
      ]
    },
    {
      "cell_type": "code",
      "metadata": {
        "id": "Le97z5xwWFLo",
        "colab": {
          "base_uri": "https://localhost:8080/"
        },
        "outputId": "ce3938cd-4fd5-45bf-9f43-d747f1871c12"
      },
      "source": [
        "# Is any value null/ none /nan\n",
        "string_data.isnull()"
      ],
      "execution_count": null,
      "outputs": [
        {
          "output_type": "execute_result",
          "data": {
            "text/plain": [
              "0    False\n",
              "1    False\n",
              "2     True\n",
              "3    False\n",
              "dtype: bool"
            ]
          },
          "metadata": {
            "tags": []
          },
          "execution_count": 104
        }
      ]
    },
    {
      "cell_type": "code",
      "metadata": {
        "id": "qvjlbbcrWFLo",
        "colab": {
          "base_uri": "https://localhost:8080/"
        },
        "outputId": "d3646307-1c17-47d6-f1d5-b40ed4f9dd95"
      },
      "source": [
        "# The built-in Python None value is also treated as NA in object arrays: None, NA, nan\n",
        "string_data[0] = None\n",
        "string_data.isnull()"
      ],
      "execution_count": null,
      "outputs": [
        {
          "output_type": "execute_result",
          "data": {
            "text/plain": [
              "0     True\n",
              "1    False\n",
              "2     True\n",
              "3    False\n",
              "dtype: bool"
            ]
          },
          "metadata": {
            "tags": []
          },
          "execution_count": 105
        }
      ]
    },
    {
      "cell_type": "markdown",
      "metadata": {
        "id": "nZgbAWUpWFLp"
      },
      "source": [
        "### NA handling methods\n",
        "- `dropna` Filter axis labels based on whether values for each label have missing data, with varying thresholds for how much missing data to tolerate.\n",
        "- `fillna` Fill in missing data with some value or using an interpolation method such as 'ffill' or 'bfill'.\n",
        "- `isnull` Return boolean values indicating which values are missing/NA.\n",
        "- `notnull` Negation of isnull"
      ]
    },
    {
      "cell_type": "markdown",
      "metadata": {
        "id": "t2a3HFoJWFLp"
      },
      "source": [
        "### Filtering Out Missing Data\n",
        "While you always have the option to do it by hand using `pandas.isnull` and boolean indexing, the `dropna` can be helpful."
      ]
    },
    {
      "cell_type": "code",
      "metadata": {
        "id": "b4TszFS5WFLq",
        "colab": {
          "base_uri": "https://localhost:8080/"
        },
        "outputId": "24e95841-0ad2-4958-cfd5-d49f5f806320"
      },
      "source": [
        "data = pd.Series([1, NA, 3.5, NA, 7])\n",
        "data"
      ],
      "execution_count": null,
      "outputs": [
        {
          "output_type": "execute_result",
          "data": {
            "text/plain": [
              "0    1.0\n",
              "1    NaN\n",
              "2    3.5\n",
              "3    NaN\n",
              "4    7.0\n",
              "dtype: float64"
            ]
          },
          "metadata": {
            "tags": []
          },
          "execution_count": 106
        }
      ]
    },
    {
      "cell_type": "code",
      "metadata": {
        "id": "c2PVOHc6WFLq",
        "colab": {
          "base_uri": "https://localhost:8080/"
        },
        "outputId": "251f658a-b998-4db3-878b-4e27a934a109"
      },
      "source": [
        "# Droping the Data\n",
        "data.dropna() # not permanent"
      ],
      "execution_count": null,
      "outputs": [
        {
          "output_type": "execute_result",
          "data": {
            "text/plain": [
              "0    1.0\n",
              "2    3.5\n",
              "4    7.0\n",
              "dtype: float64"
            ]
          },
          "metadata": {
            "tags": []
          },
          "execution_count": 107
        }
      ]
    },
    {
      "cell_type": "code",
      "metadata": {
        "id": "13PnAavT2c3o",
        "colab": {
          "base_uri": "https://localhost:8080/"
        },
        "outputId": "bc1206cc-d212-40d2-cfbf-0001141fdfe3"
      },
      "source": [
        "data"
      ],
      "execution_count": null,
      "outputs": [
        {
          "output_type": "execute_result",
          "data": {
            "text/plain": [
              "0    1.0\n",
              "1    NaN\n",
              "2    3.5\n",
              "3    NaN\n",
              "4    7.0\n",
              "dtype: float64"
            ]
          },
          "metadata": {
            "tags": []
          },
          "execution_count": 110
        }
      ]
    },
    {
      "cell_type": "code",
      "metadata": {
        "id": "zUSuEg69WFLq",
        "colab": {
          "base_uri": "https://localhost:8080/"
        },
        "outputId": "e81bda09-84ec-4fa9-ac15-28fbefa7b724"
      },
      "source": [
        "# This is equivalent to:\n",
        "data[data.notnull()]"
      ],
      "execution_count": null,
      "outputs": [
        {
          "output_type": "execute_result",
          "data": {
            "text/plain": [
              "0    1.0\n",
              "2    3.5\n",
              "4    7.0\n",
              "dtype: float64"
            ]
          },
          "metadata": {
            "tags": []
          },
          "execution_count": 108
        }
      ]
    },
    {
      "cell_type": "markdown",
      "metadata": {
        "id": "0BsuulWhWFLr"
      },
      "source": [
        "With DataFrame objects, things are a bit more complex. You may want to drop rows\n",
        "or columns that are all NA or only those containing any `NAs`. \n",
        "The `dropna` by default drops **any row containing a missing value**:"
      ]
    },
    {
      "cell_type": "code",
      "metadata": {
        "id": "WLfS4AUXWFLr",
        "colab": {
          "base_uri": "https://localhost:8080/",
          "height": 172
        },
        "outputId": "887f3406-7863-4a38-c232-08c1a8af3c06"
      },
      "source": [
        " \n",
        " data = pd.DataFrame([[1., 6.5, 3.], [1., NA, NA], [NA, NA, NA], [NA, 6.5, 3.]])\n",
        "data"
      ],
      "execution_count": null,
      "outputs": [
        {
          "output_type": "execute_result",
          "data": {
            "text/html": [
              "<div>\n",
              "<style scoped>\n",
              "    .dataframe tbody tr th:only-of-type {\n",
              "        vertical-align: middle;\n",
              "    }\n",
              "\n",
              "    .dataframe tbody tr th {\n",
              "        vertical-align: top;\n",
              "    }\n",
              "\n",
              "    .dataframe thead th {\n",
              "        text-align: right;\n",
              "    }\n",
              "</style>\n",
              "<table border=\"1\" class=\"dataframe\">\n",
              "  <thead>\n",
              "    <tr style=\"text-align: right;\">\n",
              "      <th></th>\n",
              "      <th>0</th>\n",
              "      <th>1</th>\n",
              "      <th>2</th>\n",
              "    </tr>\n",
              "  </thead>\n",
              "  <tbody>\n",
              "    <tr>\n",
              "      <th>0</th>\n",
              "      <td>1.0</td>\n",
              "      <td>6.5</td>\n",
              "      <td>3.0</td>\n",
              "    </tr>\n",
              "    <tr>\n",
              "      <th>1</th>\n",
              "      <td>1.0</td>\n",
              "      <td>NaN</td>\n",
              "      <td>NaN</td>\n",
              "    </tr>\n",
              "    <tr>\n",
              "      <th>2</th>\n",
              "      <td>NaN</td>\n",
              "      <td>NaN</td>\n",
              "      <td>NaN</td>\n",
              "    </tr>\n",
              "    <tr>\n",
              "      <th>3</th>\n",
              "      <td>NaN</td>\n",
              "      <td>6.5</td>\n",
              "      <td>3.0</td>\n",
              "    </tr>\n",
              "  </tbody>\n",
              "</table>\n",
              "</div>"
            ],
            "text/plain": [
              "     0    1    2\n",
              "0  1.0  6.5  3.0\n",
              "1  1.0  NaN  NaN\n",
              "2  NaN  NaN  NaN\n",
              "3  NaN  6.5  3.0"
            ]
          },
          "metadata": {
            "tags": []
          },
          "execution_count": 112
        }
      ]
    },
    {
      "cell_type": "code",
      "metadata": {
        "id": "-WhDWuFV26Qd",
        "colab": {
          "base_uri": "https://localhost:8080/",
          "height": 80
        },
        "outputId": "36919ec6-eceb-4aa3-92d5-09b7e4ed7f90"
      },
      "source": [
        " cleaned = data.dropna()\n",
        " cleaned"
      ],
      "execution_count": null,
      "outputs": [
        {
          "output_type": "execute_result",
          "data": {
            "text/html": [
              "<div>\n",
              "<style scoped>\n",
              "    .dataframe tbody tr th:only-of-type {\n",
              "        vertical-align: middle;\n",
              "    }\n",
              "\n",
              "    .dataframe tbody tr th {\n",
              "        vertical-align: top;\n",
              "    }\n",
              "\n",
              "    .dataframe thead th {\n",
              "        text-align: right;\n",
              "    }\n",
              "</style>\n",
              "<table border=\"1\" class=\"dataframe\">\n",
              "  <thead>\n",
              "    <tr style=\"text-align: right;\">\n",
              "      <th></th>\n",
              "      <th>0</th>\n",
              "      <th>1</th>\n",
              "      <th>2</th>\n",
              "    </tr>\n",
              "  </thead>\n",
              "  <tbody>\n",
              "    <tr>\n",
              "      <th>0</th>\n",
              "      <td>1.0</td>\n",
              "      <td>6.5</td>\n",
              "      <td>3.0</td>\n",
              "    </tr>\n",
              "  </tbody>\n",
              "</table>\n",
              "</div>"
            ],
            "text/plain": [
              "     0    1    2\n",
              "0  1.0  6.5  3.0"
            ]
          },
          "metadata": {
            "tags": []
          },
          "execution_count": 113
        }
      ]
    },
    {
      "cell_type": "code",
      "metadata": {
        "id": "axEsji1I3Ybx",
        "colab": {
          "base_uri": "https://localhost:8080/"
        },
        "outputId": "6a5bbac0-d1d6-4312-e626-d14573a4d191"
      },
      "source": [
        "# check col wise missing value\n",
        "data.isnull().sum()"
      ],
      "execution_count": null,
      "outputs": [
        {
          "output_type": "execute_result",
          "data": {
            "text/plain": [
              "0    2\n",
              "1    2\n",
              "2    2\n",
              "dtype: int64"
            ]
          },
          "metadata": {
            "tags": []
          },
          "execution_count": 116
        }
      ]
    },
    {
      "cell_type": "code",
      "metadata": {
        "id": "s2sxWtIwWFLs"
      },
      "source": [
        "# Passing how='all' will only drop rows that are all NA:\n",
        "data.dropna(how='all')"
      ],
      "execution_count": null,
      "outputs": []
    },
    {
      "cell_type": "code",
      "metadata": {
        "id": "nKySadvaWFLs",
        "colab": {
          "base_uri": "https://localhost:8080/",
          "height": 172
        },
        "outputId": "8b5d74a2-ad84-416f-a7f8-abfccf0b98e8"
      },
      "source": [
        "# To drop columns in the same way, pass axis=1:\n",
        "data[4] = NA\n",
        "data"
      ],
      "execution_count": null,
      "outputs": [
        {
          "output_type": "execute_result",
          "data": {
            "text/html": [
              "<div>\n",
              "<style scoped>\n",
              "    .dataframe tbody tr th:only-of-type {\n",
              "        vertical-align: middle;\n",
              "    }\n",
              "\n",
              "    .dataframe tbody tr th {\n",
              "        vertical-align: top;\n",
              "    }\n",
              "\n",
              "    .dataframe thead th {\n",
              "        text-align: right;\n",
              "    }\n",
              "</style>\n",
              "<table border=\"1\" class=\"dataframe\">\n",
              "  <thead>\n",
              "    <tr style=\"text-align: right;\">\n",
              "      <th></th>\n",
              "      <th>0</th>\n",
              "      <th>1</th>\n",
              "      <th>2</th>\n",
              "      <th>4</th>\n",
              "    </tr>\n",
              "  </thead>\n",
              "  <tbody>\n",
              "    <tr>\n",
              "      <th>0</th>\n",
              "      <td>1.0</td>\n",
              "      <td>6.5</td>\n",
              "      <td>3.0</td>\n",
              "      <td>NaN</td>\n",
              "    </tr>\n",
              "    <tr>\n",
              "      <th>1</th>\n",
              "      <td>1.0</td>\n",
              "      <td>NaN</td>\n",
              "      <td>NaN</td>\n",
              "      <td>NaN</td>\n",
              "    </tr>\n",
              "    <tr>\n",
              "      <th>2</th>\n",
              "      <td>NaN</td>\n",
              "      <td>NaN</td>\n",
              "      <td>NaN</td>\n",
              "      <td>NaN</td>\n",
              "    </tr>\n",
              "    <tr>\n",
              "      <th>3</th>\n",
              "      <td>NaN</td>\n",
              "      <td>6.5</td>\n",
              "      <td>3.0</td>\n",
              "      <td>NaN</td>\n",
              "    </tr>\n",
              "  </tbody>\n",
              "</table>\n",
              "</div>"
            ],
            "text/plain": [
              "     0    1    2   4\n",
              "0  1.0  6.5  3.0 NaN\n",
              "1  1.0  NaN  NaN NaN\n",
              "2  NaN  NaN  NaN NaN\n",
              "3  NaN  6.5  3.0 NaN"
            ]
          },
          "metadata": {
            "tags": []
          },
          "execution_count": 117
        }
      ]
    },
    {
      "cell_type": "code",
      "metadata": {
        "id": "FlAIw98BWFLs",
        "colab": {
          "base_uri": "https://localhost:8080/",
          "height": 172
        },
        "outputId": "81698f5f-3ead-4de2-cd0b-1286bd8c0a4e"
      },
      "source": [
        "# Drop data column wise \n",
        "# in python \n",
        "# axis = 1 col\n",
        "# axis = 0 : row\n",
        "data.dropna(axis=1, how='all')"
      ],
      "execution_count": null,
      "outputs": [
        {
          "output_type": "execute_result",
          "data": {
            "text/html": [
              "<div>\n",
              "<style scoped>\n",
              "    .dataframe tbody tr th:only-of-type {\n",
              "        vertical-align: middle;\n",
              "    }\n",
              "\n",
              "    .dataframe tbody tr th {\n",
              "        vertical-align: top;\n",
              "    }\n",
              "\n",
              "    .dataframe thead th {\n",
              "        text-align: right;\n",
              "    }\n",
              "</style>\n",
              "<table border=\"1\" class=\"dataframe\">\n",
              "  <thead>\n",
              "    <tr style=\"text-align: right;\">\n",
              "      <th></th>\n",
              "      <th>0</th>\n",
              "      <th>1</th>\n",
              "      <th>2</th>\n",
              "    </tr>\n",
              "  </thead>\n",
              "  <tbody>\n",
              "    <tr>\n",
              "      <th>0</th>\n",
              "      <td>1.0</td>\n",
              "      <td>6.5</td>\n",
              "      <td>3.0</td>\n",
              "    </tr>\n",
              "    <tr>\n",
              "      <th>1</th>\n",
              "      <td>1.0</td>\n",
              "      <td>NaN</td>\n",
              "      <td>NaN</td>\n",
              "    </tr>\n",
              "    <tr>\n",
              "      <th>2</th>\n",
              "      <td>NaN</td>\n",
              "      <td>NaN</td>\n",
              "      <td>NaN</td>\n",
              "    </tr>\n",
              "    <tr>\n",
              "      <th>3</th>\n",
              "      <td>NaN</td>\n",
              "      <td>6.5</td>\n",
              "      <td>3.0</td>\n",
              "    </tr>\n",
              "  </tbody>\n",
              "</table>\n",
              "</div>"
            ],
            "text/plain": [
              "     0    1    2\n",
              "0  1.0  6.5  3.0\n",
              "1  1.0  NaN  NaN\n",
              "2  NaN  NaN  NaN\n",
              "3  NaN  6.5  3.0"
            ]
          },
          "metadata": {
            "tags": []
          },
          "execution_count": 118
        }
      ]
    },
    {
      "cell_type": "markdown",
      "metadata": {
        "id": "GhB7RiUSWFLs"
      },
      "source": [
        "### Filling In Missing Data\n",
        "For most purposes, the fillna method is the workhorse function to use. Calling fillna with a **constant** replaces **missing values** with that value:"
      ]
    },
    {
      "cell_type": "code",
      "metadata": {
        "id": "WkFsBVfWWlB2",
        "colab": {
          "base_uri": "https://localhost:8080/",
          "height": 265
        },
        "outputId": "f7134d56-e259-44ce-81e9-b2d408bca00f"
      },
      "source": [
        "# df created\n",
        "df = pd.DataFrame(np.random.randn(7, 3), columns=['gold', 'silver', 'copper'])\n",
        "df.iloc[:4, 1] = NA\n",
        "df.iloc[:2, 2] = NA\n",
        "df"
      ],
      "execution_count": null,
      "outputs": [
        {
          "output_type": "execute_result",
          "data": {
            "text/html": [
              "<div>\n",
              "<style scoped>\n",
              "    .dataframe tbody tr th:only-of-type {\n",
              "        vertical-align: middle;\n",
              "    }\n",
              "\n",
              "    .dataframe tbody tr th {\n",
              "        vertical-align: top;\n",
              "    }\n",
              "\n",
              "    .dataframe thead th {\n",
              "        text-align: right;\n",
              "    }\n",
              "</style>\n",
              "<table border=\"1\" class=\"dataframe\">\n",
              "  <thead>\n",
              "    <tr style=\"text-align: right;\">\n",
              "      <th></th>\n",
              "      <th>gold</th>\n",
              "      <th>silver</th>\n",
              "      <th>copper</th>\n",
              "    </tr>\n",
              "  </thead>\n",
              "  <tbody>\n",
              "    <tr>\n",
              "      <th>0</th>\n",
              "      <td>0.960932</td>\n",
              "      <td>NaN</td>\n",
              "      <td>NaN</td>\n",
              "    </tr>\n",
              "    <tr>\n",
              "      <th>1</th>\n",
              "      <td>1.455036</td>\n",
              "      <td>NaN</td>\n",
              "      <td>NaN</td>\n",
              "    </tr>\n",
              "    <tr>\n",
              "      <th>2</th>\n",
              "      <td>1.334481</td>\n",
              "      <td>NaN</td>\n",
              "      <td>-1.208838</td>\n",
              "    </tr>\n",
              "    <tr>\n",
              "      <th>3</th>\n",
              "      <td>-1.001076</td>\n",
              "      <td>NaN</td>\n",
              "      <td>2.365561</td>\n",
              "    </tr>\n",
              "    <tr>\n",
              "      <th>4</th>\n",
              "      <td>-0.360475</td>\n",
              "      <td>0.525528</td>\n",
              "      <td>1.530065</td>\n",
              "    </tr>\n",
              "    <tr>\n",
              "      <th>5</th>\n",
              "      <td>0.241174</td>\n",
              "      <td>0.083004</td>\n",
              "      <td>-0.299816</td>\n",
              "    </tr>\n",
              "    <tr>\n",
              "      <th>6</th>\n",
              "      <td>-1.156792</td>\n",
              "      <td>-1.296698</td>\n",
              "      <td>1.883608</td>\n",
              "    </tr>\n",
              "  </tbody>\n",
              "</table>\n",
              "</div>"
            ],
            "text/plain": [
              "       gold    silver    copper\n",
              "0  0.960932       NaN       NaN\n",
              "1  1.455036       NaN       NaN\n",
              "2  1.334481       NaN -1.208838\n",
              "3 -1.001076       NaN  2.365561\n",
              "4 -0.360475  0.525528  1.530065\n",
              "5  0.241174  0.083004 -0.299816\n",
              "6 -1.156792 -1.296698  1.883608"
            ]
          },
          "metadata": {
            "tags": []
          },
          "execution_count": 125
        }
      ]
    },
    {
      "cell_type": "code",
      "metadata": {
        "id": "ubh6cp0bW7o0",
        "colab": {
          "base_uri": "https://localhost:8080/",
          "height": 265
        },
        "outputId": "70eb1e1f-e313-49db-f809-c78c93da54c2"
      },
      "source": [
        "# Fill The missing values with Zero\n",
        "df.fillna(0)"
      ],
      "execution_count": null,
      "outputs": [
        {
          "output_type": "execute_result",
          "data": {
            "text/html": [
              "<div>\n",
              "<style scoped>\n",
              "    .dataframe tbody tr th:only-of-type {\n",
              "        vertical-align: middle;\n",
              "    }\n",
              "\n",
              "    .dataframe tbody tr th {\n",
              "        vertical-align: top;\n",
              "    }\n",
              "\n",
              "    .dataframe thead th {\n",
              "        text-align: right;\n",
              "    }\n",
              "</style>\n",
              "<table border=\"1\" class=\"dataframe\">\n",
              "  <thead>\n",
              "    <tr style=\"text-align: right;\">\n",
              "      <th></th>\n",
              "      <th>gold</th>\n",
              "      <th>silver</th>\n",
              "      <th>copper</th>\n",
              "    </tr>\n",
              "  </thead>\n",
              "  <tbody>\n",
              "    <tr>\n",
              "      <th>0</th>\n",
              "      <td>0.960932</td>\n",
              "      <td>0.000000</td>\n",
              "      <td>0.000000</td>\n",
              "    </tr>\n",
              "    <tr>\n",
              "      <th>1</th>\n",
              "      <td>1.455036</td>\n",
              "      <td>0.000000</td>\n",
              "      <td>0.000000</td>\n",
              "    </tr>\n",
              "    <tr>\n",
              "      <th>2</th>\n",
              "      <td>1.334481</td>\n",
              "      <td>0.000000</td>\n",
              "      <td>-1.208838</td>\n",
              "    </tr>\n",
              "    <tr>\n",
              "      <th>3</th>\n",
              "      <td>-1.001076</td>\n",
              "      <td>0.000000</td>\n",
              "      <td>2.365561</td>\n",
              "    </tr>\n",
              "    <tr>\n",
              "      <th>4</th>\n",
              "      <td>-0.360475</td>\n",
              "      <td>0.525528</td>\n",
              "      <td>1.530065</td>\n",
              "    </tr>\n",
              "    <tr>\n",
              "      <th>5</th>\n",
              "      <td>0.241174</td>\n",
              "      <td>0.083004</td>\n",
              "      <td>-0.299816</td>\n",
              "    </tr>\n",
              "    <tr>\n",
              "      <th>6</th>\n",
              "      <td>-1.156792</td>\n",
              "      <td>-1.296698</td>\n",
              "      <td>1.883608</td>\n",
              "    </tr>\n",
              "  </tbody>\n",
              "</table>\n",
              "</div>"
            ],
            "text/plain": [
              "       gold    silver    copper\n",
              "0  0.960932  0.000000  0.000000\n",
              "1  1.455036  0.000000  0.000000\n",
              "2  1.334481  0.000000 -1.208838\n",
              "3 -1.001076  0.000000  2.365561\n",
              "4 -0.360475  0.525528  1.530065\n",
              "5  0.241174  0.083004 -0.299816\n",
              "6 -1.156792 -1.296698  1.883608"
            ]
          },
          "metadata": {
            "tags": []
          },
          "execution_count": 126
        }
      ]
    },
    {
      "cell_type": "code",
      "metadata": {
        "id": "XPWs7qYsXJRm",
        "colab": {
          "base_uri": "https://localhost:8080/",
          "height": 265
        },
        "outputId": "bb08f15c-8e97-4fe0-e817-1f4f75e1c45d"
      },
      "source": [
        "# Calling fillna with a dict, you can use a different fill value for each column:\n",
        "df.fillna({'silver': -1, 'copper': 1})"
      ],
      "execution_count": null,
      "outputs": [
        {
          "output_type": "execute_result",
          "data": {
            "text/html": [
              "<div>\n",
              "<style scoped>\n",
              "    .dataframe tbody tr th:only-of-type {\n",
              "        vertical-align: middle;\n",
              "    }\n",
              "\n",
              "    .dataframe tbody tr th {\n",
              "        vertical-align: top;\n",
              "    }\n",
              "\n",
              "    .dataframe thead th {\n",
              "        text-align: right;\n",
              "    }\n",
              "</style>\n",
              "<table border=\"1\" class=\"dataframe\">\n",
              "  <thead>\n",
              "    <tr style=\"text-align: right;\">\n",
              "      <th></th>\n",
              "      <th>gold</th>\n",
              "      <th>silver</th>\n",
              "      <th>copper</th>\n",
              "    </tr>\n",
              "  </thead>\n",
              "  <tbody>\n",
              "    <tr>\n",
              "      <th>0</th>\n",
              "      <td>0.960932</td>\n",
              "      <td>-1.000000</td>\n",
              "      <td>1.000000</td>\n",
              "    </tr>\n",
              "    <tr>\n",
              "      <th>1</th>\n",
              "      <td>1.455036</td>\n",
              "      <td>-1.000000</td>\n",
              "      <td>1.000000</td>\n",
              "    </tr>\n",
              "    <tr>\n",
              "      <th>2</th>\n",
              "      <td>1.334481</td>\n",
              "      <td>-1.000000</td>\n",
              "      <td>-1.208838</td>\n",
              "    </tr>\n",
              "    <tr>\n",
              "      <th>3</th>\n",
              "      <td>-1.001076</td>\n",
              "      <td>-1.000000</td>\n",
              "      <td>2.365561</td>\n",
              "    </tr>\n",
              "    <tr>\n",
              "      <th>4</th>\n",
              "      <td>-0.360475</td>\n",
              "      <td>0.525528</td>\n",
              "      <td>1.530065</td>\n",
              "    </tr>\n",
              "    <tr>\n",
              "      <th>5</th>\n",
              "      <td>0.241174</td>\n",
              "      <td>0.083004</td>\n",
              "      <td>-0.299816</td>\n",
              "    </tr>\n",
              "    <tr>\n",
              "      <th>6</th>\n",
              "      <td>-1.156792</td>\n",
              "      <td>-1.296698</td>\n",
              "      <td>1.883608</td>\n",
              "    </tr>\n",
              "  </tbody>\n",
              "</table>\n",
              "</div>"
            ],
            "text/plain": [
              "       gold    silver    copper\n",
              "0  0.960932 -1.000000  1.000000\n",
              "1  1.455036 -1.000000  1.000000\n",
              "2  1.334481 -1.000000 -1.208838\n",
              "3 -1.001076 -1.000000  2.365561\n",
              "4 -0.360475  0.525528  1.530065\n",
              "5  0.241174  0.083004 -0.299816\n",
              "6 -1.156792 -1.296698  1.883608"
            ]
          },
          "metadata": {
            "tags": []
          },
          "execution_count": 127
        }
      ]
    },
    {
      "cell_type": "code",
      "metadata": {
        "id": "peUw5O3tYN0I",
        "colab": {
          "base_uri": "https://localhost:8080/",
          "height": 265
        },
        "outputId": "0f457d51-33e2-4efd-d914-0b5f2862ec62"
      },
      "source": [
        "# fillna returns a new object, but you can modify the existing object in-place:\n",
        "df.fillna(0)\n",
        "df\n"
      ],
      "execution_count": null,
      "outputs": [
        {
          "output_type": "execute_result",
          "data": {
            "text/html": [
              "<div>\n",
              "<style scoped>\n",
              "    .dataframe tbody tr th:only-of-type {\n",
              "        vertical-align: middle;\n",
              "    }\n",
              "\n",
              "    .dataframe tbody tr th {\n",
              "        vertical-align: top;\n",
              "    }\n",
              "\n",
              "    .dataframe thead th {\n",
              "        text-align: right;\n",
              "    }\n",
              "</style>\n",
              "<table border=\"1\" class=\"dataframe\">\n",
              "  <thead>\n",
              "    <tr style=\"text-align: right;\">\n",
              "      <th></th>\n",
              "      <th>gold</th>\n",
              "      <th>silver</th>\n",
              "      <th>copper</th>\n",
              "    </tr>\n",
              "  </thead>\n",
              "  <tbody>\n",
              "    <tr>\n",
              "      <th>0</th>\n",
              "      <td>0.960932</td>\n",
              "      <td>NaN</td>\n",
              "      <td>NaN</td>\n",
              "    </tr>\n",
              "    <tr>\n",
              "      <th>1</th>\n",
              "      <td>1.455036</td>\n",
              "      <td>NaN</td>\n",
              "      <td>NaN</td>\n",
              "    </tr>\n",
              "    <tr>\n",
              "      <th>2</th>\n",
              "      <td>1.334481</td>\n",
              "      <td>NaN</td>\n",
              "      <td>-1.208838</td>\n",
              "    </tr>\n",
              "    <tr>\n",
              "      <th>3</th>\n",
              "      <td>-1.001076</td>\n",
              "      <td>NaN</td>\n",
              "      <td>2.365561</td>\n",
              "    </tr>\n",
              "    <tr>\n",
              "      <th>4</th>\n",
              "      <td>-0.360475</td>\n",
              "      <td>0.525528</td>\n",
              "      <td>1.530065</td>\n",
              "    </tr>\n",
              "    <tr>\n",
              "      <th>5</th>\n",
              "      <td>0.241174</td>\n",
              "      <td>0.083004</td>\n",
              "      <td>-0.299816</td>\n",
              "    </tr>\n",
              "    <tr>\n",
              "      <th>6</th>\n",
              "      <td>-1.156792</td>\n",
              "      <td>-1.296698</td>\n",
              "      <td>1.883608</td>\n",
              "    </tr>\n",
              "  </tbody>\n",
              "</table>\n",
              "</div>"
            ],
            "text/plain": [
              "       gold    silver    copper\n",
              "0  0.960932       NaN       NaN\n",
              "1  1.455036       NaN       NaN\n",
              "2  1.334481       NaN -1.208838\n",
              "3 -1.001076       NaN  2.365561\n",
              "4 -0.360475  0.525528  1.530065\n",
              "5  0.241174  0.083004 -0.299816\n",
              "6 -1.156792 -1.296698  1.883608"
            ]
          },
          "metadata": {
            "tags": []
          },
          "execution_count": 129
        }
      ]
    },
    {
      "cell_type": "code",
      "metadata": {
        "id": "m7eQ-4wr61wl",
        "colab": {
          "base_uri": "https://localhost:8080/",
          "height": 265
        },
        "outputId": "5bad8e0f-f78c-4183-cc4f-6f98de20332c"
      },
      "source": [
        "df.fillna(0, inplace=True) # Important\n",
        "df"
      ],
      "execution_count": null,
      "outputs": [
        {
          "output_type": "execute_result",
          "data": {
            "text/html": [
              "<div>\n",
              "<style scoped>\n",
              "    .dataframe tbody tr th:only-of-type {\n",
              "        vertical-align: middle;\n",
              "    }\n",
              "\n",
              "    .dataframe tbody tr th {\n",
              "        vertical-align: top;\n",
              "    }\n",
              "\n",
              "    .dataframe thead th {\n",
              "        text-align: right;\n",
              "    }\n",
              "</style>\n",
              "<table border=\"1\" class=\"dataframe\">\n",
              "  <thead>\n",
              "    <tr style=\"text-align: right;\">\n",
              "      <th></th>\n",
              "      <th>gold</th>\n",
              "      <th>silver</th>\n",
              "      <th>copper</th>\n",
              "    </tr>\n",
              "  </thead>\n",
              "  <tbody>\n",
              "    <tr>\n",
              "      <th>0</th>\n",
              "      <td>0.960932</td>\n",
              "      <td>0.000000</td>\n",
              "      <td>0.000000</td>\n",
              "    </tr>\n",
              "    <tr>\n",
              "      <th>1</th>\n",
              "      <td>1.455036</td>\n",
              "      <td>0.000000</td>\n",
              "      <td>0.000000</td>\n",
              "    </tr>\n",
              "    <tr>\n",
              "      <th>2</th>\n",
              "      <td>1.334481</td>\n",
              "      <td>0.000000</td>\n",
              "      <td>-1.208838</td>\n",
              "    </tr>\n",
              "    <tr>\n",
              "      <th>3</th>\n",
              "      <td>-1.001076</td>\n",
              "      <td>0.000000</td>\n",
              "      <td>2.365561</td>\n",
              "    </tr>\n",
              "    <tr>\n",
              "      <th>4</th>\n",
              "      <td>-0.360475</td>\n",
              "      <td>0.525528</td>\n",
              "      <td>1.530065</td>\n",
              "    </tr>\n",
              "    <tr>\n",
              "      <th>5</th>\n",
              "      <td>0.241174</td>\n",
              "      <td>0.083004</td>\n",
              "      <td>-0.299816</td>\n",
              "    </tr>\n",
              "    <tr>\n",
              "      <th>6</th>\n",
              "      <td>-1.156792</td>\n",
              "      <td>-1.296698</td>\n",
              "      <td>1.883608</td>\n",
              "    </tr>\n",
              "  </tbody>\n",
              "</table>\n",
              "</div>"
            ],
            "text/plain": [
              "       gold    silver    copper\n",
              "0  0.960932  0.000000  0.000000\n",
              "1  1.455036  0.000000  0.000000\n",
              "2  1.334481  0.000000 -1.208838\n",
              "3 -1.001076  0.000000  2.365561\n",
              "4 -0.360475  0.525528  1.530065\n",
              "5  0.241174  0.083004 -0.299816\n",
              "6 -1.156792 -1.296698  1.883608"
            ]
          },
          "metadata": {
            "tags": []
          },
          "execution_count": 131
        }
      ]
    },
    {
      "cell_type": "markdown",
      "metadata": {
        "id": "xpiB4nzzZkrd"
      },
      "source": [
        "The same **interpolation** methods available for reindexing can be used with fillna:"
      ]
    },
    {
      "cell_type": "code",
      "metadata": {
        "id": "n3cLrs8kYsec",
        "colab": {
          "base_uri": "https://localhost:8080/",
          "height": 295
        },
        "outputId": "1c8d50fd-aa6e-48dc-e6a8-eb99ab811d9e"
      },
      "source": [
        "# Creating Dataframe\n",
        "df = pd.DataFrame(np.random.randn(8, 3), columns=['gold', 'silver', 'copper'])\n",
        "df.iloc[2:, 1] = NA\n",
        "df.iloc[4:, 2] = NA\n",
        "df"
      ],
      "execution_count": null,
      "outputs": [
        {
          "output_type": "execute_result",
          "data": {
            "text/html": [
              "<div>\n",
              "<style scoped>\n",
              "    .dataframe tbody tr th:only-of-type {\n",
              "        vertical-align: middle;\n",
              "    }\n",
              "\n",
              "    .dataframe tbody tr th {\n",
              "        vertical-align: top;\n",
              "    }\n",
              "\n",
              "    .dataframe thead th {\n",
              "        text-align: right;\n",
              "    }\n",
              "</style>\n",
              "<table border=\"1\" class=\"dataframe\">\n",
              "  <thead>\n",
              "    <tr style=\"text-align: right;\">\n",
              "      <th></th>\n",
              "      <th>gold</th>\n",
              "      <th>silver</th>\n",
              "      <th>copper</th>\n",
              "    </tr>\n",
              "  </thead>\n",
              "  <tbody>\n",
              "    <tr>\n",
              "      <th>0</th>\n",
              "      <td>0.159362</td>\n",
              "      <td>0.527933</td>\n",
              "      <td>1.037528</td>\n",
              "    </tr>\n",
              "    <tr>\n",
              "      <th>1</th>\n",
              "      <td>-0.596954</td>\n",
              "      <td>1.031973</td>\n",
              "      <td>-0.395796</td>\n",
              "    </tr>\n",
              "    <tr>\n",
              "      <th>2</th>\n",
              "      <td>0.501706</td>\n",
              "      <td>NaN</td>\n",
              "      <td>0.790893</td>\n",
              "    </tr>\n",
              "    <tr>\n",
              "      <th>3</th>\n",
              "      <td>0.379001</td>\n",
              "      <td>NaN</td>\n",
              "      <td>-0.332592</td>\n",
              "    </tr>\n",
              "    <tr>\n",
              "      <th>4</th>\n",
              "      <td>-1.497654</td>\n",
              "      <td>NaN</td>\n",
              "      <td>NaN</td>\n",
              "    </tr>\n",
              "    <tr>\n",
              "      <th>5</th>\n",
              "      <td>0.633566</td>\n",
              "      <td>NaN</td>\n",
              "      <td>NaN</td>\n",
              "    </tr>\n",
              "    <tr>\n",
              "      <th>6</th>\n",
              "      <td>0.945829</td>\n",
              "      <td>NaN</td>\n",
              "      <td>NaN</td>\n",
              "    </tr>\n",
              "    <tr>\n",
              "      <th>7</th>\n",
              "      <td>-1.339841</td>\n",
              "      <td>NaN</td>\n",
              "      <td>NaN</td>\n",
              "    </tr>\n",
              "  </tbody>\n",
              "</table>\n",
              "</div>"
            ],
            "text/plain": [
              "       gold    silver    copper\n",
              "0  0.159362  0.527933  1.037528\n",
              "1 -0.596954  1.031973 -0.395796\n",
              "2  0.501706       NaN  0.790893\n",
              "3  0.379001       NaN -0.332592\n",
              "4 -1.497654       NaN       NaN\n",
              "5  0.633566       NaN       NaN\n",
              "6  0.945829       NaN       NaN\n",
              "7 -1.339841       NaN       NaN"
            ]
          },
          "metadata": {
            "tags": []
          },
          "execution_count": 139
        }
      ]
    },
    {
      "cell_type": "code",
      "metadata": {
        "id": "wgCWjwirZ4SP",
        "colab": {
          "base_uri": "https://localhost:8080/",
          "height": 295
        },
        "outputId": "c5af4458-c3b5-4354-f36f-f26eb399d7d0"
      },
      "source": [
        "# Fill 'NA' with forword fill method\n",
        "df.fillna(method='ffill')"
      ],
      "execution_count": null,
      "outputs": [
        {
          "output_type": "execute_result",
          "data": {
            "text/html": [
              "<div>\n",
              "<style scoped>\n",
              "    .dataframe tbody tr th:only-of-type {\n",
              "        vertical-align: middle;\n",
              "    }\n",
              "\n",
              "    .dataframe tbody tr th {\n",
              "        vertical-align: top;\n",
              "    }\n",
              "\n",
              "    .dataframe thead th {\n",
              "        text-align: right;\n",
              "    }\n",
              "</style>\n",
              "<table border=\"1\" class=\"dataframe\">\n",
              "  <thead>\n",
              "    <tr style=\"text-align: right;\">\n",
              "      <th></th>\n",
              "      <th>gold</th>\n",
              "      <th>silver</th>\n",
              "      <th>copper</th>\n",
              "    </tr>\n",
              "  </thead>\n",
              "  <tbody>\n",
              "    <tr>\n",
              "      <th>0</th>\n",
              "      <td>0.611627</td>\n",
              "      <td>-0.148583</td>\n",
              "      <td>-0.680851</td>\n",
              "    </tr>\n",
              "    <tr>\n",
              "      <th>1</th>\n",
              "      <td>-0.784319</td>\n",
              "      <td>-0.310510</td>\n",
              "      <td>-0.314903</td>\n",
              "    </tr>\n",
              "    <tr>\n",
              "      <th>2</th>\n",
              "      <td>1.517101</td>\n",
              "      <td>-0.310510</td>\n",
              "      <td>-0.349676</td>\n",
              "    </tr>\n",
              "    <tr>\n",
              "      <th>3</th>\n",
              "      <td>0.987027</td>\n",
              "      <td>-0.310510</td>\n",
              "      <td>0.007926</td>\n",
              "    </tr>\n",
              "    <tr>\n",
              "      <th>4</th>\n",
              "      <td>-3.077174</td>\n",
              "      <td>-0.310510</td>\n",
              "      <td>0.007926</td>\n",
              "    </tr>\n",
              "    <tr>\n",
              "      <th>5</th>\n",
              "      <td>0.726522</td>\n",
              "      <td>-0.310510</td>\n",
              "      <td>0.007926</td>\n",
              "    </tr>\n",
              "    <tr>\n",
              "      <th>6</th>\n",
              "      <td>0.106931</td>\n",
              "      <td>-0.310510</td>\n",
              "      <td>0.007926</td>\n",
              "    </tr>\n",
              "    <tr>\n",
              "      <th>7</th>\n",
              "      <td>0.993971</td>\n",
              "      <td>-0.310510</td>\n",
              "      <td>0.007926</td>\n",
              "    </tr>\n",
              "  </tbody>\n",
              "</table>\n",
              "</div>"
            ],
            "text/plain": [
              "       gold    silver    copper\n",
              "0  0.611627 -0.148583 -0.680851\n",
              "1 -0.784319 -0.310510 -0.314903\n",
              "2  1.517101 -0.310510 -0.349676\n",
              "3  0.987027 -0.310510  0.007926\n",
              "4 -3.077174 -0.310510  0.007926\n",
              "5  0.726522 -0.310510  0.007926\n",
              "6  0.106931 -0.310510  0.007926\n",
              "7  0.993971 -0.310510  0.007926"
            ]
          },
          "metadata": {
            "tags": []
          },
          "execution_count": 133
        }
      ]
    },
    {
      "cell_type": "code",
      "metadata": {
        "id": "SpH3JahKaGwQ",
        "colab": {
          "base_uri": "https://localhost:8080/",
          "height": 295
        },
        "outputId": "0e8dceae-19d7-4e20-acb8-894e50d00e06"
      },
      "source": [
        "# limit by row\n",
        "df.fillna(method='ffill', limit=3)"
      ],
      "execution_count": null,
      "outputs": [
        {
          "output_type": "execute_result",
          "data": {
            "text/html": [
              "<div>\n",
              "<style scoped>\n",
              "    .dataframe tbody tr th:only-of-type {\n",
              "        vertical-align: middle;\n",
              "    }\n",
              "\n",
              "    .dataframe tbody tr th {\n",
              "        vertical-align: top;\n",
              "    }\n",
              "\n",
              "    .dataframe thead th {\n",
              "        text-align: right;\n",
              "    }\n",
              "</style>\n",
              "<table border=\"1\" class=\"dataframe\">\n",
              "  <thead>\n",
              "    <tr style=\"text-align: right;\">\n",
              "      <th></th>\n",
              "      <th>gold</th>\n",
              "      <th>silver</th>\n",
              "      <th>copper</th>\n",
              "    </tr>\n",
              "  </thead>\n",
              "  <tbody>\n",
              "    <tr>\n",
              "      <th>0</th>\n",
              "      <td>0.611627</td>\n",
              "      <td>-0.148583</td>\n",
              "      <td>-0.680851</td>\n",
              "    </tr>\n",
              "    <tr>\n",
              "      <th>1</th>\n",
              "      <td>-0.784319</td>\n",
              "      <td>-0.310510</td>\n",
              "      <td>-0.314903</td>\n",
              "    </tr>\n",
              "    <tr>\n",
              "      <th>2</th>\n",
              "      <td>1.517101</td>\n",
              "      <td>-0.310510</td>\n",
              "      <td>-0.349676</td>\n",
              "    </tr>\n",
              "    <tr>\n",
              "      <th>3</th>\n",
              "      <td>0.987027</td>\n",
              "      <td>-0.310510</td>\n",
              "      <td>0.007926</td>\n",
              "    </tr>\n",
              "    <tr>\n",
              "      <th>4</th>\n",
              "      <td>-3.077174</td>\n",
              "      <td>-0.310510</td>\n",
              "      <td>0.007926</td>\n",
              "    </tr>\n",
              "    <tr>\n",
              "      <th>5</th>\n",
              "      <td>0.726522</td>\n",
              "      <td>NaN</td>\n",
              "      <td>0.007926</td>\n",
              "    </tr>\n",
              "    <tr>\n",
              "      <th>6</th>\n",
              "      <td>0.106931</td>\n",
              "      <td>NaN</td>\n",
              "      <td>0.007926</td>\n",
              "    </tr>\n",
              "    <tr>\n",
              "      <th>7</th>\n",
              "      <td>0.993971</td>\n",
              "      <td>NaN</td>\n",
              "      <td>NaN</td>\n",
              "    </tr>\n",
              "  </tbody>\n",
              "</table>\n",
              "</div>"
            ],
            "text/plain": [
              "       gold    silver    copper\n",
              "0  0.611627 -0.148583 -0.680851\n",
              "1 -0.784319 -0.310510 -0.314903\n",
              "2  1.517101 -0.310510 -0.349676\n",
              "3  0.987027 -0.310510  0.007926\n",
              "4 -3.077174 -0.310510  0.007926\n",
              "5  0.726522       NaN  0.007926\n",
              "6  0.106931       NaN  0.007926\n",
              "7  0.993971       NaN       NaN"
            ]
          },
          "metadata": {
            "tags": []
          },
          "execution_count": 135
        }
      ]
    },
    {
      "cell_type": "code",
      "metadata": {
        "id": "0-vjGuGOabYD",
        "colab": {
          "base_uri": "https://localhost:8080/",
          "height": 295
        },
        "outputId": "f6c16fd9-2968-4e06-f905-2f51bf923171"
      },
      "source": [
        "# you might pass the mean or median values\n",
        "df.fillna(df.max())"
      ],
      "execution_count": null,
      "outputs": [
        {
          "output_type": "execute_result",
          "data": {
            "text/html": [
              "<div>\n",
              "<style scoped>\n",
              "    .dataframe tbody tr th:only-of-type {\n",
              "        vertical-align: middle;\n",
              "    }\n",
              "\n",
              "    .dataframe tbody tr th {\n",
              "        vertical-align: top;\n",
              "    }\n",
              "\n",
              "    .dataframe thead th {\n",
              "        text-align: right;\n",
              "    }\n",
              "</style>\n",
              "<table border=\"1\" class=\"dataframe\">\n",
              "  <thead>\n",
              "    <tr style=\"text-align: right;\">\n",
              "      <th></th>\n",
              "      <th>gold</th>\n",
              "      <th>silver</th>\n",
              "      <th>copper</th>\n",
              "    </tr>\n",
              "  </thead>\n",
              "  <tbody>\n",
              "    <tr>\n",
              "      <th>0</th>\n",
              "      <td>0.159362</td>\n",
              "      <td>0.527933</td>\n",
              "      <td>1.037528</td>\n",
              "    </tr>\n",
              "    <tr>\n",
              "      <th>1</th>\n",
              "      <td>-0.596954</td>\n",
              "      <td>1.031973</td>\n",
              "      <td>-0.395796</td>\n",
              "    </tr>\n",
              "    <tr>\n",
              "      <th>2</th>\n",
              "      <td>0.501706</td>\n",
              "      <td>1.031973</td>\n",
              "      <td>0.790893</td>\n",
              "    </tr>\n",
              "    <tr>\n",
              "      <th>3</th>\n",
              "      <td>0.379001</td>\n",
              "      <td>1.031973</td>\n",
              "      <td>-0.332592</td>\n",
              "    </tr>\n",
              "    <tr>\n",
              "      <th>4</th>\n",
              "      <td>-1.497654</td>\n",
              "      <td>1.031973</td>\n",
              "      <td>1.037528</td>\n",
              "    </tr>\n",
              "    <tr>\n",
              "      <th>5</th>\n",
              "      <td>0.633566</td>\n",
              "      <td>1.031973</td>\n",
              "      <td>1.037528</td>\n",
              "    </tr>\n",
              "    <tr>\n",
              "      <th>6</th>\n",
              "      <td>0.945829</td>\n",
              "      <td>1.031973</td>\n",
              "      <td>1.037528</td>\n",
              "    </tr>\n",
              "    <tr>\n",
              "      <th>7</th>\n",
              "      <td>-1.339841</td>\n",
              "      <td>1.031973</td>\n",
              "      <td>1.037528</td>\n",
              "    </tr>\n",
              "  </tbody>\n",
              "</table>\n",
              "</div>"
            ],
            "text/plain": [
              "       gold    silver    copper\n",
              "0  0.159362  0.527933  1.037528\n",
              "1 -0.596954  1.031973 -0.395796\n",
              "2  0.501706  1.031973  0.790893\n",
              "3  0.379001  1.031973 -0.332592\n",
              "4 -1.497654  1.031973  1.037528\n",
              "5  0.633566  1.031973  1.037528\n",
              "6  0.945829  1.031973  1.037528\n",
              "7 -1.339841  1.031973  1.037528"
            ]
          },
          "metadata": {
            "tags": []
          },
          "execution_count": 140
        }
      ]
    },
    {
      "cell_type": "code",
      "metadata": {
        "id": "K4HMO--Br_sz",
        "colab": {
          "base_uri": "https://localhost:8080/",
          "height": 295
        },
        "outputId": "4bb5fbb6-c17c-4976-f043-5d76c4b815b2"
      },
      "source": [
        "df.fillna(df.mean(),inplace=True)\n",
        "df"
      ],
      "execution_count": null,
      "outputs": [
        {
          "output_type": "execute_result",
          "data": {
            "text/html": [
              "<div>\n",
              "<style scoped>\n",
              "    .dataframe tbody tr th:only-of-type {\n",
              "        vertical-align: middle;\n",
              "    }\n",
              "\n",
              "    .dataframe tbody tr th {\n",
              "        vertical-align: top;\n",
              "    }\n",
              "\n",
              "    .dataframe thead th {\n",
              "        text-align: right;\n",
              "    }\n",
              "</style>\n",
              "<table border=\"1\" class=\"dataframe\">\n",
              "  <thead>\n",
              "    <tr style=\"text-align: right;\">\n",
              "      <th></th>\n",
              "      <th>gold</th>\n",
              "      <th>silver</th>\n",
              "      <th>copper</th>\n",
              "    </tr>\n",
              "  </thead>\n",
              "  <tbody>\n",
              "    <tr>\n",
              "      <th>0</th>\n",
              "      <td>0.611627</td>\n",
              "      <td>-0.148583</td>\n",
              "      <td>-0.680851</td>\n",
              "    </tr>\n",
              "    <tr>\n",
              "      <th>1</th>\n",
              "      <td>-0.784319</td>\n",
              "      <td>-0.310510</td>\n",
              "      <td>-0.314903</td>\n",
              "    </tr>\n",
              "    <tr>\n",
              "      <th>2</th>\n",
              "      <td>1.517101</td>\n",
              "      <td>-0.229546</td>\n",
              "      <td>-0.349676</td>\n",
              "    </tr>\n",
              "    <tr>\n",
              "      <th>3</th>\n",
              "      <td>0.987027</td>\n",
              "      <td>-0.229546</td>\n",
              "      <td>0.007926</td>\n",
              "    </tr>\n",
              "    <tr>\n",
              "      <th>4</th>\n",
              "      <td>-3.077174</td>\n",
              "      <td>-0.229546</td>\n",
              "      <td>-0.334376</td>\n",
              "    </tr>\n",
              "    <tr>\n",
              "      <th>5</th>\n",
              "      <td>0.726522</td>\n",
              "      <td>-0.229546</td>\n",
              "      <td>-0.334376</td>\n",
              "    </tr>\n",
              "    <tr>\n",
              "      <th>6</th>\n",
              "      <td>0.106931</td>\n",
              "      <td>-0.229546</td>\n",
              "      <td>-0.334376</td>\n",
              "    </tr>\n",
              "    <tr>\n",
              "      <th>7</th>\n",
              "      <td>0.993971</td>\n",
              "      <td>-0.229546</td>\n",
              "      <td>-0.334376</td>\n",
              "    </tr>\n",
              "  </tbody>\n",
              "</table>\n",
              "</div>"
            ],
            "text/plain": [
              "       gold    silver    copper\n",
              "0  0.611627 -0.148583 -0.680851\n",
              "1 -0.784319 -0.310510 -0.314903\n",
              "2  1.517101 -0.229546 -0.349676\n",
              "3  0.987027 -0.229546  0.007926\n",
              "4 -3.077174 -0.229546 -0.334376\n",
              "5  0.726522 -0.229546 -0.334376\n",
              "6  0.106931 -0.229546 -0.334376\n",
              "7  0.993971 -0.229546 -0.334376"
            ]
          },
          "metadata": {
            "tags": []
          },
          "execution_count": 138
        }
      ]
    },
    {
      "cell_type": "code",
      "metadata": {
        "id": "XD_27zxCqwQg",
        "colab": {
          "base_uri": "https://localhost:8080/",
          "height": 295
        },
        "outputId": "87c88040-b33d-4584-d0a0-0915c222ad9c"
      },
      "source": [
        "df['category'] = [NA,'A','B',NA,'A','C','A','B']\n",
        "df"
      ],
      "execution_count": null,
      "outputs": [
        {
          "output_type": "execute_result",
          "data": {
            "text/html": [
              "<div>\n",
              "<style scoped>\n",
              "    .dataframe tbody tr th:only-of-type {\n",
              "        vertical-align: middle;\n",
              "    }\n",
              "\n",
              "    .dataframe tbody tr th {\n",
              "        vertical-align: top;\n",
              "    }\n",
              "\n",
              "    .dataframe thead th {\n",
              "        text-align: right;\n",
              "    }\n",
              "</style>\n",
              "<table border=\"1\" class=\"dataframe\">\n",
              "  <thead>\n",
              "    <tr style=\"text-align: right;\">\n",
              "      <th></th>\n",
              "      <th>gold</th>\n",
              "      <th>silver</th>\n",
              "      <th>copper</th>\n",
              "      <th>category</th>\n",
              "    </tr>\n",
              "  </thead>\n",
              "  <tbody>\n",
              "    <tr>\n",
              "      <th>0</th>\n",
              "      <td>0.159362</td>\n",
              "      <td>0.527933</td>\n",
              "      <td>1.037528</td>\n",
              "      <td>NaN</td>\n",
              "    </tr>\n",
              "    <tr>\n",
              "      <th>1</th>\n",
              "      <td>-0.596954</td>\n",
              "      <td>1.031973</td>\n",
              "      <td>-0.395796</td>\n",
              "      <td>A</td>\n",
              "    </tr>\n",
              "    <tr>\n",
              "      <th>2</th>\n",
              "      <td>0.501706</td>\n",
              "      <td>NaN</td>\n",
              "      <td>0.790893</td>\n",
              "      <td>B</td>\n",
              "    </tr>\n",
              "    <tr>\n",
              "      <th>3</th>\n",
              "      <td>0.379001</td>\n",
              "      <td>NaN</td>\n",
              "      <td>-0.332592</td>\n",
              "      <td>NaN</td>\n",
              "    </tr>\n",
              "    <tr>\n",
              "      <th>4</th>\n",
              "      <td>-1.497654</td>\n",
              "      <td>NaN</td>\n",
              "      <td>NaN</td>\n",
              "      <td>A</td>\n",
              "    </tr>\n",
              "    <tr>\n",
              "      <th>5</th>\n",
              "      <td>0.633566</td>\n",
              "      <td>NaN</td>\n",
              "      <td>NaN</td>\n",
              "      <td>C</td>\n",
              "    </tr>\n",
              "    <tr>\n",
              "      <th>6</th>\n",
              "      <td>0.945829</td>\n",
              "      <td>NaN</td>\n",
              "      <td>NaN</td>\n",
              "      <td>A</td>\n",
              "    </tr>\n",
              "    <tr>\n",
              "      <th>7</th>\n",
              "      <td>-1.339841</td>\n",
              "      <td>NaN</td>\n",
              "      <td>NaN</td>\n",
              "      <td>B</td>\n",
              "    </tr>\n",
              "  </tbody>\n",
              "</table>\n",
              "</div>"
            ],
            "text/plain": [
              "       gold    silver    copper category\n",
              "0  0.159362  0.527933  1.037528      NaN\n",
              "1 -0.596954  1.031973 -0.395796        A\n",
              "2  0.501706       NaN  0.790893        B\n",
              "3  0.379001       NaN -0.332592      NaN\n",
              "4 -1.497654       NaN       NaN        A\n",
              "5  0.633566       NaN       NaN        C\n",
              "6  0.945829       NaN       NaN        A\n",
              "7 -1.339841       NaN       NaN        B"
            ]
          },
          "metadata": {
            "tags": []
          },
          "execution_count": 143
        }
      ]
    },
    {
      "cell_type": "code",
      "metadata": {
        "id": "ikWnPV1l8Hy4",
        "colab": {
          "base_uri": "https://localhost:8080/",
          "height": 35
        },
        "outputId": "f39347a0-eb9c-4b97-9644-ff459d9b74db"
      },
      "source": [
        "df['category'].mode()[0] # Fisrt one"
      ],
      "execution_count": null,
      "outputs": [
        {
          "output_type": "execute_result",
          "data": {
            "application/vnd.google.colaboratory.intrinsic+json": {
              "type": "string"
            },
            "text/plain": [
              "'A'"
            ]
          },
          "metadata": {
            "tags": []
          },
          "execution_count": 146
        }
      ]
    },
    {
      "cell_type": "code",
      "metadata": {
        "id": "4EECAoCArll9",
        "colab": {
          "base_uri": "https://localhost:8080/",
          "height": 295
        },
        "outputId": "ac645fad-2d0f-4184-911d-44322bc23e1a"
      },
      "source": [
        "df['category'].fillna(df['category'].mode()[0], inplace=True) # mode most freq\n",
        "df"
      ],
      "execution_count": null,
      "outputs": [
        {
          "output_type": "execute_result",
          "data": {
            "text/html": [
              "<div>\n",
              "<style scoped>\n",
              "    .dataframe tbody tr th:only-of-type {\n",
              "        vertical-align: middle;\n",
              "    }\n",
              "\n",
              "    .dataframe tbody tr th {\n",
              "        vertical-align: top;\n",
              "    }\n",
              "\n",
              "    .dataframe thead th {\n",
              "        text-align: right;\n",
              "    }\n",
              "</style>\n",
              "<table border=\"1\" class=\"dataframe\">\n",
              "  <thead>\n",
              "    <tr style=\"text-align: right;\">\n",
              "      <th></th>\n",
              "      <th>gold</th>\n",
              "      <th>silver</th>\n",
              "      <th>copper</th>\n",
              "      <th>category</th>\n",
              "    </tr>\n",
              "  </thead>\n",
              "  <tbody>\n",
              "    <tr>\n",
              "      <th>0</th>\n",
              "      <td>0.159362</td>\n",
              "      <td>0.527933</td>\n",
              "      <td>1.037528</td>\n",
              "      <td>A</td>\n",
              "    </tr>\n",
              "    <tr>\n",
              "      <th>1</th>\n",
              "      <td>-0.596954</td>\n",
              "      <td>1.031973</td>\n",
              "      <td>-0.395796</td>\n",
              "      <td>A</td>\n",
              "    </tr>\n",
              "    <tr>\n",
              "      <th>2</th>\n",
              "      <td>0.501706</td>\n",
              "      <td>NaN</td>\n",
              "      <td>0.790893</td>\n",
              "      <td>B</td>\n",
              "    </tr>\n",
              "    <tr>\n",
              "      <th>3</th>\n",
              "      <td>0.379001</td>\n",
              "      <td>NaN</td>\n",
              "      <td>-0.332592</td>\n",
              "      <td>A</td>\n",
              "    </tr>\n",
              "    <tr>\n",
              "      <th>4</th>\n",
              "      <td>-1.497654</td>\n",
              "      <td>NaN</td>\n",
              "      <td>NaN</td>\n",
              "      <td>A</td>\n",
              "    </tr>\n",
              "    <tr>\n",
              "      <th>5</th>\n",
              "      <td>0.633566</td>\n",
              "      <td>NaN</td>\n",
              "      <td>NaN</td>\n",
              "      <td>C</td>\n",
              "    </tr>\n",
              "    <tr>\n",
              "      <th>6</th>\n",
              "      <td>0.945829</td>\n",
              "      <td>NaN</td>\n",
              "      <td>NaN</td>\n",
              "      <td>A</td>\n",
              "    </tr>\n",
              "    <tr>\n",
              "      <th>7</th>\n",
              "      <td>-1.339841</td>\n",
              "      <td>NaN</td>\n",
              "      <td>NaN</td>\n",
              "      <td>B</td>\n",
              "    </tr>\n",
              "  </tbody>\n",
              "</table>\n",
              "</div>"
            ],
            "text/plain": [
              "       gold    silver    copper category\n",
              "0  0.159362  0.527933  1.037528        A\n",
              "1 -0.596954  1.031973 -0.395796        A\n",
              "2  0.501706       NaN  0.790893        B\n",
              "3  0.379001       NaN -0.332592        A\n",
              "4 -1.497654       NaN       NaN        A\n",
              "5  0.633566       NaN       NaN        C\n",
              "6  0.945829       NaN       NaN        A\n",
              "7 -1.339841       NaN       NaN        B"
            ]
          },
          "metadata": {
            "tags": []
          },
          "execution_count": 142
        }
      ]
    },
    {
      "cell_type": "markdown",
      "metadata": {
        "id": "UDP2Eg-rKiXl"
      },
      "source": [
        "## B. Data Transformation\n",
        "\n",
        "### Removing Duplicates\n",
        "Duplicate rows may be found in a DataFrame for any number of reasons. Here is an example:"
      ]
    },
    {
      "cell_type": "code",
      "metadata": {
        "id": "9W_8vri8KhB3",
        "colab": {
          "base_uri": "https://localhost:8080/",
          "height": 265
        },
        "outputId": "89f41919-9db2-4fbb-98cb-2c06ea0ad89a"
      },
      "source": [
        "data = pd.DataFrame({'city': ['kolkata', 'delhi'] * 3 + ['delhi'],'count': [1, 1, 2, 3, 3, 4, 4]})\n",
        "data"
      ],
      "execution_count": null,
      "outputs": [
        {
          "output_type": "execute_result",
          "data": {
            "text/html": [
              "<div>\n",
              "<style scoped>\n",
              "    .dataframe tbody tr th:only-of-type {\n",
              "        vertical-align: middle;\n",
              "    }\n",
              "\n",
              "    .dataframe tbody tr th {\n",
              "        vertical-align: top;\n",
              "    }\n",
              "\n",
              "    .dataframe thead th {\n",
              "        text-align: right;\n",
              "    }\n",
              "</style>\n",
              "<table border=\"1\" class=\"dataframe\">\n",
              "  <thead>\n",
              "    <tr style=\"text-align: right;\">\n",
              "      <th></th>\n",
              "      <th>city</th>\n",
              "      <th>count</th>\n",
              "    </tr>\n",
              "  </thead>\n",
              "  <tbody>\n",
              "    <tr>\n",
              "      <th>0</th>\n",
              "      <td>kolkata</td>\n",
              "      <td>1</td>\n",
              "    </tr>\n",
              "    <tr>\n",
              "      <th>1</th>\n",
              "      <td>delhi</td>\n",
              "      <td>1</td>\n",
              "    </tr>\n",
              "    <tr>\n",
              "      <th>2</th>\n",
              "      <td>kolkata</td>\n",
              "      <td>2</td>\n",
              "    </tr>\n",
              "    <tr>\n",
              "      <th>3</th>\n",
              "      <td>delhi</td>\n",
              "      <td>3</td>\n",
              "    </tr>\n",
              "    <tr>\n",
              "      <th>4</th>\n",
              "      <td>kolkata</td>\n",
              "      <td>3</td>\n",
              "    </tr>\n",
              "    <tr>\n",
              "      <th>5</th>\n",
              "      <td>delhi</td>\n",
              "      <td>4</td>\n",
              "    </tr>\n",
              "    <tr>\n",
              "      <th>6</th>\n",
              "      <td>delhi</td>\n",
              "      <td>4</td>\n",
              "    </tr>\n",
              "  </tbody>\n",
              "</table>\n",
              "</div>"
            ],
            "text/plain": [
              "      city  count\n",
              "0  kolkata      1\n",
              "1    delhi      1\n",
              "2  kolkata      2\n",
              "3    delhi      3\n",
              "4  kolkata      3\n",
              "5    delhi      4\n",
              "6    delhi      4"
            ]
          },
          "metadata": {
            "tags": []
          },
          "execution_count": 147
        }
      ]
    },
    {
      "cell_type": "markdown",
      "metadata": {
        "id": "zIXiCffVMFV1"
      },
      "source": [
        "The DataFrame method `duplicated()` returns a **boolean Series** indicating whether each row is a duplicate (has been observed in a previous row) or not:"
      ]
    },
    {
      "cell_type": "code",
      "metadata": {
        "id": "-gHG-m6KMC_H",
        "colab": {
          "base_uri": "https://localhost:8080/"
        },
        "outputId": "c56a7d6f-80d1-4d7a-a1e0-b7942e9978e1"
      },
      "source": [
        "data.duplicated()"
      ],
      "execution_count": null,
      "outputs": [
        {
          "output_type": "execute_result",
          "data": {
            "text/plain": [
              "0    False\n",
              "1    False\n",
              "2    False\n",
              "3    False\n",
              "4    False\n",
              "5    False\n",
              "6     True\n",
              "dtype: bool"
            ]
          },
          "metadata": {
            "tags": []
          },
          "execution_count": 149
        }
      ]
    },
    {
      "cell_type": "markdown",
      "metadata": {
        "id": "F5AUcKrZMp86"
      },
      "source": [
        "The `drop_duplicates()` returns a DataFrame where the duplicated array is False:"
      ]
    },
    {
      "cell_type": "code",
      "metadata": {
        "id": "APi8MYEpLkUG",
        "colab": {
          "base_uri": "https://localhost:8080/",
          "height": 234
        },
        "outputId": "beacb807-313f-4df6-80bf-e3400bed96d2"
      },
      "source": [
        "data.drop_duplicates()"
      ],
      "execution_count": null,
      "outputs": [
        {
          "output_type": "execute_result",
          "data": {
            "text/html": [
              "<div>\n",
              "<style scoped>\n",
              "    .dataframe tbody tr th:only-of-type {\n",
              "        vertical-align: middle;\n",
              "    }\n",
              "\n",
              "    .dataframe tbody tr th {\n",
              "        vertical-align: top;\n",
              "    }\n",
              "\n",
              "    .dataframe thead th {\n",
              "        text-align: right;\n",
              "    }\n",
              "</style>\n",
              "<table border=\"1\" class=\"dataframe\">\n",
              "  <thead>\n",
              "    <tr style=\"text-align: right;\">\n",
              "      <th></th>\n",
              "      <th>city</th>\n",
              "      <th>count</th>\n",
              "    </tr>\n",
              "  </thead>\n",
              "  <tbody>\n",
              "    <tr>\n",
              "      <th>0</th>\n",
              "      <td>kolkata</td>\n",
              "      <td>1</td>\n",
              "    </tr>\n",
              "    <tr>\n",
              "      <th>1</th>\n",
              "      <td>delhi</td>\n",
              "      <td>1</td>\n",
              "    </tr>\n",
              "    <tr>\n",
              "      <th>2</th>\n",
              "      <td>kolkata</td>\n",
              "      <td>2</td>\n",
              "    </tr>\n",
              "    <tr>\n",
              "      <th>3</th>\n",
              "      <td>delhi</td>\n",
              "      <td>3</td>\n",
              "    </tr>\n",
              "    <tr>\n",
              "      <th>4</th>\n",
              "      <td>kolkata</td>\n",
              "      <td>3</td>\n",
              "    </tr>\n",
              "    <tr>\n",
              "      <th>5</th>\n",
              "      <td>delhi</td>\n",
              "      <td>4</td>\n",
              "    </tr>\n",
              "  </tbody>\n",
              "</table>\n",
              "</div>"
            ],
            "text/plain": [
              "      city  count\n",
              "0  kolkata      1\n",
              "1    delhi      1\n",
              "2  kolkata      2\n",
              "3    delhi      3\n",
              "4  kolkata      3\n",
              "5    delhi      4"
            ]
          },
          "metadata": {
            "tags": []
          },
          "execution_count": 150
        }
      ]
    },
    {
      "cell_type": "code",
      "metadata": {
        "id": "PeNFgOzXLncS",
        "colab": {
          "base_uri": "https://localhost:8080/",
          "height": 265
        },
        "outputId": "ee36318a-3256-4c69-881c-86a22dbe011a"
      },
      "source": [
        "data['price'] = np.random.randint(10,100,size=7)\n",
        "data"
      ],
      "execution_count": null,
      "outputs": [
        {
          "output_type": "execute_result",
          "data": {
            "text/html": [
              "<div>\n",
              "<style scoped>\n",
              "    .dataframe tbody tr th:only-of-type {\n",
              "        vertical-align: middle;\n",
              "    }\n",
              "\n",
              "    .dataframe tbody tr th {\n",
              "        vertical-align: top;\n",
              "    }\n",
              "\n",
              "    .dataframe thead th {\n",
              "        text-align: right;\n",
              "    }\n",
              "</style>\n",
              "<table border=\"1\" class=\"dataframe\">\n",
              "  <thead>\n",
              "    <tr style=\"text-align: right;\">\n",
              "      <th></th>\n",
              "      <th>city</th>\n",
              "      <th>count</th>\n",
              "      <th>price</th>\n",
              "    </tr>\n",
              "  </thead>\n",
              "  <tbody>\n",
              "    <tr>\n",
              "      <th>0</th>\n",
              "      <td>kolkata</td>\n",
              "      <td>1</td>\n",
              "      <td>57</td>\n",
              "    </tr>\n",
              "    <tr>\n",
              "      <th>1</th>\n",
              "      <td>delhi</td>\n",
              "      <td>1</td>\n",
              "      <td>44</td>\n",
              "    </tr>\n",
              "    <tr>\n",
              "      <th>2</th>\n",
              "      <td>kolkata</td>\n",
              "      <td>2</td>\n",
              "      <td>91</td>\n",
              "    </tr>\n",
              "    <tr>\n",
              "      <th>3</th>\n",
              "      <td>delhi</td>\n",
              "      <td>3</td>\n",
              "      <td>23</td>\n",
              "    </tr>\n",
              "    <tr>\n",
              "      <th>4</th>\n",
              "      <td>kolkata</td>\n",
              "      <td>3</td>\n",
              "      <td>39</td>\n",
              "    </tr>\n",
              "    <tr>\n",
              "      <th>5</th>\n",
              "      <td>delhi</td>\n",
              "      <td>4</td>\n",
              "      <td>61</td>\n",
              "    </tr>\n",
              "    <tr>\n",
              "      <th>6</th>\n",
              "      <td>delhi</td>\n",
              "      <td>4</td>\n",
              "      <td>78</td>\n",
              "    </tr>\n",
              "  </tbody>\n",
              "</table>\n",
              "</div>"
            ],
            "text/plain": [
              "      city  count  price\n",
              "0  kolkata      1     57\n",
              "1    delhi      1     44\n",
              "2  kolkata      2     91\n",
              "3    delhi      3     23\n",
              "4  kolkata      3     39\n",
              "5    delhi      4     61\n",
              "6    delhi      4     78"
            ]
          },
          "metadata": {
            "tags": []
          },
          "execution_count": 151
        }
      ]
    },
    {
      "cell_type": "code",
      "metadata": {
        "id": "CUN_LZAvNrot",
        "colab": {
          "base_uri": "https://localhost:8080/",
          "height": 172
        },
        "outputId": "c8a1ae4d-be9e-479b-9b59-78645ab546f9"
      },
      "source": [
        " # Drop duplicate by column\n",
        " data.drop_duplicates(['count'])"
      ],
      "execution_count": null,
      "outputs": [
        {
          "output_type": "execute_result",
          "data": {
            "text/html": [
              "<div>\n",
              "<style scoped>\n",
              "    .dataframe tbody tr th:only-of-type {\n",
              "        vertical-align: middle;\n",
              "    }\n",
              "\n",
              "    .dataframe tbody tr th {\n",
              "        vertical-align: top;\n",
              "    }\n",
              "\n",
              "    .dataframe thead th {\n",
              "        text-align: right;\n",
              "    }\n",
              "</style>\n",
              "<table border=\"1\" class=\"dataframe\">\n",
              "  <thead>\n",
              "    <tr style=\"text-align: right;\">\n",
              "      <th></th>\n",
              "      <th>city</th>\n",
              "      <th>count</th>\n",
              "      <th>price</th>\n",
              "    </tr>\n",
              "  </thead>\n",
              "  <tbody>\n",
              "    <tr>\n",
              "      <th>0</th>\n",
              "      <td>kolkata</td>\n",
              "      <td>1</td>\n",
              "      <td>57</td>\n",
              "    </tr>\n",
              "    <tr>\n",
              "      <th>2</th>\n",
              "      <td>kolkata</td>\n",
              "      <td>2</td>\n",
              "      <td>91</td>\n",
              "    </tr>\n",
              "    <tr>\n",
              "      <th>3</th>\n",
              "      <td>delhi</td>\n",
              "      <td>3</td>\n",
              "      <td>23</td>\n",
              "    </tr>\n",
              "    <tr>\n",
              "      <th>5</th>\n",
              "      <td>delhi</td>\n",
              "      <td>4</td>\n",
              "      <td>61</td>\n",
              "    </tr>\n",
              "  </tbody>\n",
              "</table>\n",
              "</div>"
            ],
            "text/plain": [
              "      city  count  price\n",
              "0  kolkata      1     57\n",
              "2  kolkata      2     91\n",
              "3    delhi      3     23\n",
              "5    delhi      4     61"
            ]
          },
          "metadata": {
            "tags": []
          },
          "execution_count": 154
        }
      ]
    },
    {
      "cell_type": "markdown",
      "metadata": {
        "id": "tCBrFMF9OVij"
      },
      "source": [
        "### Transforming Data Using a Function or Mapping\n",
        "For many datasets, you may wish to perform some transformation based on the values in an array, Series, or column in a DataFrame. "
      ]
    },
    {
      "cell_type": "code",
      "metadata": {
        "id": "gWGXGsydN_57",
        "colab": {
          "base_uri": "https://localhost:8080/",
          "height": 203
        },
        "outputId": "5d3487a7-5f8c-46dc-e875-d9af70a16647"
      },
      "source": [
        "data = pd.DataFrame({'city':['New York','Delhi','Kolkata','Chicago','Las Vegas'], \n",
        "                     'pupulation': np.random.randint(100000,1000000000,size=5)\n",
        "                     })\n",
        "data"
      ],
      "execution_count": null,
      "outputs": [
        {
          "output_type": "execute_result",
          "data": {
            "text/html": [
              "<div>\n",
              "<style scoped>\n",
              "    .dataframe tbody tr th:only-of-type {\n",
              "        vertical-align: middle;\n",
              "    }\n",
              "\n",
              "    .dataframe tbody tr th {\n",
              "        vertical-align: top;\n",
              "    }\n",
              "\n",
              "    .dataframe thead th {\n",
              "        text-align: right;\n",
              "    }\n",
              "</style>\n",
              "<table border=\"1\" class=\"dataframe\">\n",
              "  <thead>\n",
              "    <tr style=\"text-align: right;\">\n",
              "      <th></th>\n",
              "      <th>city</th>\n",
              "      <th>pupulation</th>\n",
              "    </tr>\n",
              "  </thead>\n",
              "  <tbody>\n",
              "    <tr>\n",
              "      <th>0</th>\n",
              "      <td>New York</td>\n",
              "      <td>731581758</td>\n",
              "    </tr>\n",
              "    <tr>\n",
              "      <th>1</th>\n",
              "      <td>Delhi</td>\n",
              "      <td>855141249</td>\n",
              "    </tr>\n",
              "    <tr>\n",
              "      <th>2</th>\n",
              "      <td>Kolkata</td>\n",
              "      <td>39045168</td>\n",
              "    </tr>\n",
              "    <tr>\n",
              "      <th>3</th>\n",
              "      <td>Chicago</td>\n",
              "      <td>795039675</td>\n",
              "    </tr>\n",
              "    <tr>\n",
              "      <th>4</th>\n",
              "      <td>Las Vegas</td>\n",
              "      <td>487601410</td>\n",
              "    </tr>\n",
              "  </tbody>\n",
              "</table>\n",
              "</div>"
            ],
            "text/plain": [
              "        city  pupulation\n",
              "0   New York   731581758\n",
              "1      Delhi   855141249\n",
              "2    Kolkata    39045168\n",
              "3    Chicago   795039675\n",
              "4  Las Vegas   487601410"
            ]
          },
          "metadata": {
            "tags": []
          },
          "execution_count": 155
        }
      ]
    },
    {
      "cell_type": "code",
      "metadata": {
        "id": "r8d1fc-VP67O",
        "colab": {
          "base_uri": "https://localhost:8080/"
        },
        "outputId": "11407509-c23b-4326-dedd-c3b62e471f1b"
      },
      "source": [
        "city_to_country = {'new york':'usa','delhi':'india','kolkata':'india','chicago':'usa','las vegas':'usa'}\n",
        "city_to_country"
      ],
      "execution_count": null,
      "outputs": [
        {
          "output_type": "execute_result",
          "data": {
            "text/plain": [
              "{'chicago': 'usa',\n",
              " 'delhi': 'india',\n",
              " 'kolkata': 'india',\n",
              " 'las vegas': 'usa',\n",
              " 'new york': 'usa'}"
            ]
          },
          "metadata": {
            "tags": []
          },
          "execution_count": 156
        }
      ]
    },
    {
      "cell_type": "code",
      "metadata": {
        "id": "6bwP8Ou_QbKP",
        "colab": {
          "base_uri": "https://localhost:8080/"
        },
        "outputId": "6ee5cb78-beae-42eb-b35a-459f16ae7750"
      },
      "source": [
        "# We Need to cheack the data type\n",
        "data.dtypes"
      ],
      "execution_count": null,
      "outputs": [
        {
          "output_type": "execute_result",
          "data": {
            "text/plain": [
              "city          object\n",
              "pupulation     int64\n",
              "dtype: object"
            ]
          },
          "metadata": {
            "tags": []
          },
          "execution_count": 157
        }
      ]
    },
    {
      "cell_type": "code",
      "metadata": {
        "id": "MDbrjR_kQsMd",
        "colab": {
          "base_uri": "https://localhost:8080/",
          "height": 203
        },
        "outputId": "791559fc-0ff1-4d50-97d2-62aaa27aca2c"
      },
      "source": [
        "data['city'] = data['city'].str.lower()\n",
        "data"
      ],
      "execution_count": null,
      "outputs": [
        {
          "output_type": "execute_result",
          "data": {
            "text/html": [
              "<div>\n",
              "<style scoped>\n",
              "    .dataframe tbody tr th:only-of-type {\n",
              "        vertical-align: middle;\n",
              "    }\n",
              "\n",
              "    .dataframe tbody tr th {\n",
              "        vertical-align: top;\n",
              "    }\n",
              "\n",
              "    .dataframe thead th {\n",
              "        text-align: right;\n",
              "    }\n",
              "</style>\n",
              "<table border=\"1\" class=\"dataframe\">\n",
              "  <thead>\n",
              "    <tr style=\"text-align: right;\">\n",
              "      <th></th>\n",
              "      <th>city</th>\n",
              "      <th>pupulation</th>\n",
              "    </tr>\n",
              "  </thead>\n",
              "  <tbody>\n",
              "    <tr>\n",
              "      <th>0</th>\n",
              "      <td>new york</td>\n",
              "      <td>731581758</td>\n",
              "    </tr>\n",
              "    <tr>\n",
              "      <th>1</th>\n",
              "      <td>delhi</td>\n",
              "      <td>855141249</td>\n",
              "    </tr>\n",
              "    <tr>\n",
              "      <th>2</th>\n",
              "      <td>kolkata</td>\n",
              "      <td>39045168</td>\n",
              "    </tr>\n",
              "    <tr>\n",
              "      <th>3</th>\n",
              "      <td>chicago</td>\n",
              "      <td>795039675</td>\n",
              "    </tr>\n",
              "    <tr>\n",
              "      <th>4</th>\n",
              "      <td>las vegas</td>\n",
              "      <td>487601410</td>\n",
              "    </tr>\n",
              "  </tbody>\n",
              "</table>\n",
              "</div>"
            ],
            "text/plain": [
              "        city  pupulation\n",
              "0   new york   731581758\n",
              "1      delhi   855141249\n",
              "2    kolkata    39045168\n",
              "3    chicago   795039675\n",
              "4  las vegas   487601410"
            ]
          },
          "metadata": {
            "tags": []
          },
          "execution_count": 158
        }
      ]
    },
    {
      "cell_type": "code",
      "metadata": {
        "id": "DlW5uW66Reyj",
        "colab": {
          "base_uri": "https://localhost:8080/",
          "height": 203
        },
        "outputId": "b2335e78-5b62-4d2a-df3a-9cbeb3183da0"
      },
      "source": [
        "data['country'] = data['city'].map(city_to_country)\n",
        "data"
      ],
      "execution_count": null,
      "outputs": [
        {
          "output_type": "execute_result",
          "data": {
            "text/html": [
              "<div>\n",
              "<style scoped>\n",
              "    .dataframe tbody tr th:only-of-type {\n",
              "        vertical-align: middle;\n",
              "    }\n",
              "\n",
              "    .dataframe tbody tr th {\n",
              "        vertical-align: top;\n",
              "    }\n",
              "\n",
              "    .dataframe thead th {\n",
              "        text-align: right;\n",
              "    }\n",
              "</style>\n",
              "<table border=\"1\" class=\"dataframe\">\n",
              "  <thead>\n",
              "    <tr style=\"text-align: right;\">\n",
              "      <th></th>\n",
              "      <th>city</th>\n",
              "      <th>pupulation</th>\n",
              "      <th>country</th>\n",
              "    </tr>\n",
              "  </thead>\n",
              "  <tbody>\n",
              "    <tr>\n",
              "      <th>0</th>\n",
              "      <td>new york</td>\n",
              "      <td>731581758</td>\n",
              "      <td>usa</td>\n",
              "    </tr>\n",
              "    <tr>\n",
              "      <th>1</th>\n",
              "      <td>delhi</td>\n",
              "      <td>855141249</td>\n",
              "      <td>india</td>\n",
              "    </tr>\n",
              "    <tr>\n",
              "      <th>2</th>\n",
              "      <td>kolkata</td>\n",
              "      <td>39045168</td>\n",
              "      <td>india</td>\n",
              "    </tr>\n",
              "    <tr>\n",
              "      <th>3</th>\n",
              "      <td>chicago</td>\n",
              "      <td>795039675</td>\n",
              "      <td>usa</td>\n",
              "    </tr>\n",
              "    <tr>\n",
              "      <th>4</th>\n",
              "      <td>las vegas</td>\n",
              "      <td>487601410</td>\n",
              "      <td>usa</td>\n",
              "    </tr>\n",
              "  </tbody>\n",
              "</table>\n",
              "</div>"
            ],
            "text/plain": [
              "        city  pupulation country\n",
              "0   new york   731581758     usa\n",
              "1      delhi   855141249   india\n",
              "2    kolkata    39045168   india\n",
              "3    chicago   795039675     usa\n",
              "4  las vegas   487601410     usa"
            ]
          },
          "metadata": {
            "tags": []
          },
          "execution_count": 159
        }
      ]
    },
    {
      "cell_type": "code",
      "metadata": {
        "id": "JoHlvzzC9zOT",
        "colab": {
          "base_uri": "https://localhost:8080/",
          "height": 203
        },
        "outputId": "31c49894-3134-48d1-ecf9-e836d058b7cd"
      },
      "source": [
        "zip = {'usa': '+1','india':'+91','uk':'+7'}\n",
        "data['zip'] = data['country'].map(zip)\n",
        "data"
      ],
      "execution_count": null,
      "outputs": [
        {
          "output_type": "execute_result",
          "data": {
            "text/html": [
              "<div>\n",
              "<style scoped>\n",
              "    .dataframe tbody tr th:only-of-type {\n",
              "        vertical-align: middle;\n",
              "    }\n",
              "\n",
              "    .dataframe tbody tr th {\n",
              "        vertical-align: top;\n",
              "    }\n",
              "\n",
              "    .dataframe thead th {\n",
              "        text-align: right;\n",
              "    }\n",
              "</style>\n",
              "<table border=\"1\" class=\"dataframe\">\n",
              "  <thead>\n",
              "    <tr style=\"text-align: right;\">\n",
              "      <th></th>\n",
              "      <th>city</th>\n",
              "      <th>pupulation</th>\n",
              "      <th>country</th>\n",
              "      <th>zip</th>\n",
              "    </tr>\n",
              "  </thead>\n",
              "  <tbody>\n",
              "    <tr>\n",
              "      <th>0</th>\n",
              "      <td>new york</td>\n",
              "      <td>731581758</td>\n",
              "      <td>usa</td>\n",
              "      <td>+1</td>\n",
              "    </tr>\n",
              "    <tr>\n",
              "      <th>1</th>\n",
              "      <td>delhi</td>\n",
              "      <td>855141249</td>\n",
              "      <td>india</td>\n",
              "      <td>+91</td>\n",
              "    </tr>\n",
              "    <tr>\n",
              "      <th>2</th>\n",
              "      <td>kolkata</td>\n",
              "      <td>39045168</td>\n",
              "      <td>india</td>\n",
              "      <td>+91</td>\n",
              "    </tr>\n",
              "    <tr>\n",
              "      <th>3</th>\n",
              "      <td>chicago</td>\n",
              "      <td>795039675</td>\n",
              "      <td>usa</td>\n",
              "      <td>+1</td>\n",
              "    </tr>\n",
              "    <tr>\n",
              "      <th>4</th>\n",
              "      <td>las vegas</td>\n",
              "      <td>487601410</td>\n",
              "      <td>usa</td>\n",
              "      <td>+1</td>\n",
              "    </tr>\n",
              "  </tbody>\n",
              "</table>\n",
              "</div>"
            ],
            "text/plain": [
              "        city  pupulation country  zip\n",
              "0   new york   731581758     usa   +1\n",
              "1      delhi   855141249   india  +91\n",
              "2    kolkata    39045168   india  +91\n",
              "3    chicago   795039675     usa   +1\n",
              "4  las vegas   487601410     usa   +1"
            ]
          },
          "metadata": {
            "tags": []
          },
          "execution_count": 160
        }
      ]
    },
    {
      "cell_type": "markdown",
      "metadata": {
        "id": "oKeQs9gfSATd"
      },
      "source": [
        "### Replacing Values\n",
        "Filling in missing data with the `fillna()` method is a special case of more general value replacement. As you’ve already seen, `map()` can be used to modify a subset of values in an object but replace provides a simpler and more flexible way to do so. "
      ]
    },
    {
      "cell_type": "code",
      "metadata": {
        "id": "0oGRkLVwRubh",
        "colab": {
          "base_uri": "https://localhost:8080/",
          "height": 203
        },
        "outputId": "2ec1241a-940b-4126-e97c-2f9ab89275cd"
      },
      "source": [
        "data['pupulation'] = data['pupulation'].replace([843448647,127963973\t],np.nan)\n",
        "data"
      ],
      "execution_count": null,
      "outputs": [
        {
          "output_type": "execute_result",
          "data": {
            "text/html": [
              "<div>\n",
              "<style scoped>\n",
              "    .dataframe tbody tr th:only-of-type {\n",
              "        vertical-align: middle;\n",
              "    }\n",
              "\n",
              "    .dataframe tbody tr th {\n",
              "        vertical-align: top;\n",
              "    }\n",
              "\n",
              "    .dataframe thead th {\n",
              "        text-align: right;\n",
              "    }\n",
              "</style>\n",
              "<table border=\"1\" class=\"dataframe\">\n",
              "  <thead>\n",
              "    <tr style=\"text-align: right;\">\n",
              "      <th></th>\n",
              "      <th>city</th>\n",
              "      <th>pupulation</th>\n",
              "      <th>country</th>\n",
              "      <th>zip</th>\n",
              "    </tr>\n",
              "  </thead>\n",
              "  <tbody>\n",
              "    <tr>\n",
              "      <th>0</th>\n",
              "      <td>new york</td>\n",
              "      <td>731581758</td>\n",
              "      <td>usa</td>\n",
              "      <td>+1</td>\n",
              "    </tr>\n",
              "    <tr>\n",
              "      <th>1</th>\n",
              "      <td>delhi</td>\n",
              "      <td>855141249</td>\n",
              "      <td>india</td>\n",
              "      <td>+91</td>\n",
              "    </tr>\n",
              "    <tr>\n",
              "      <th>2</th>\n",
              "      <td>kolkata</td>\n",
              "      <td>39045168</td>\n",
              "      <td>india</td>\n",
              "      <td>+91</td>\n",
              "    </tr>\n",
              "    <tr>\n",
              "      <th>3</th>\n",
              "      <td>chicago</td>\n",
              "      <td>795039675</td>\n",
              "      <td>usa</td>\n",
              "      <td>+1</td>\n",
              "    </tr>\n",
              "    <tr>\n",
              "      <th>4</th>\n",
              "      <td>las vegas</td>\n",
              "      <td>487601410</td>\n",
              "      <td>usa</td>\n",
              "      <td>+1</td>\n",
              "    </tr>\n",
              "  </tbody>\n",
              "</table>\n",
              "</div>"
            ],
            "text/plain": [
              "        city  pupulation country  zip\n",
              "0   new york   731581758     usa   +1\n",
              "1      delhi   855141249   india  +91\n",
              "2    kolkata    39045168   india  +91\n",
              "3    chicago   795039675     usa   +1\n",
              "4  las vegas   487601410     usa   +1"
            ]
          },
          "metadata": {
            "tags": []
          },
          "execution_count": 161
        }
      ]
    },
    {
      "cell_type": "markdown",
      "metadata": {
        "id": "oK7UyJ6CTobP"
      },
      "source": [
        "### Detecting and Filtering Outliers\n",
        "Filtering or transforming **outliers** is largely a matter of applying array operations. Consider a DataFrame with some normally distributed data:"
      ]
    },
    {
      "cell_type": "code",
      "metadata": {
        "id": "DdGdrzDrSm0p",
        "colab": {
          "base_uri": "https://localhost:8080/",
          "height": 295
        },
        "outputId": "d4a5cd94-ffb6-4b72-8093-870519435cd5"
      },
      "source": [
        "data = pd.DataFrame(np.random.randn(1000, 4),columns=['Aaba','Baba','Caca','Dada'])\n",
        "\n",
        "# Lets find out the outliers\n",
        "data.describe()"
      ],
      "execution_count": null,
      "outputs": [
        {
          "output_type": "execute_result",
          "data": {
            "text/html": [
              "<div>\n",
              "<style scoped>\n",
              "    .dataframe tbody tr th:only-of-type {\n",
              "        vertical-align: middle;\n",
              "    }\n",
              "\n",
              "    .dataframe tbody tr th {\n",
              "        vertical-align: top;\n",
              "    }\n",
              "\n",
              "    .dataframe thead th {\n",
              "        text-align: right;\n",
              "    }\n",
              "</style>\n",
              "<table border=\"1\" class=\"dataframe\">\n",
              "  <thead>\n",
              "    <tr style=\"text-align: right;\">\n",
              "      <th></th>\n",
              "      <th>Aaba</th>\n",
              "      <th>Baba</th>\n",
              "      <th>Caca</th>\n",
              "      <th>Dada</th>\n",
              "    </tr>\n",
              "  </thead>\n",
              "  <tbody>\n",
              "    <tr>\n",
              "      <th>count</th>\n",
              "      <td>1000.000000</td>\n",
              "      <td>1000.000000</td>\n",
              "      <td>1000.000000</td>\n",
              "      <td>1000.000000</td>\n",
              "    </tr>\n",
              "    <tr>\n",
              "      <th>mean</th>\n",
              "      <td>-0.014128</td>\n",
              "      <td>-0.028830</td>\n",
              "      <td>-0.009874</td>\n",
              "      <td>0.004128</td>\n",
              "    </tr>\n",
              "    <tr>\n",
              "      <th>std</th>\n",
              "      <td>0.981378</td>\n",
              "      <td>0.962308</td>\n",
              "      <td>1.001781</td>\n",
              "      <td>1.027538</td>\n",
              "    </tr>\n",
              "    <tr>\n",
              "      <th>min</th>\n",
              "      <td>-2.964888</td>\n",
              "      <td>-3.355816</td>\n",
              "      <td>-3.549110</td>\n",
              "      <td>-3.167404</td>\n",
              "    </tr>\n",
              "    <tr>\n",
              "      <th>25%</th>\n",
              "      <td>-0.710339</td>\n",
              "      <td>-0.686079</td>\n",
              "      <td>-0.679527</td>\n",
              "      <td>-0.654529</td>\n",
              "    </tr>\n",
              "    <tr>\n",
              "      <th>50%</th>\n",
              "      <td>-0.012924</td>\n",
              "      <td>-0.024915</td>\n",
              "      <td>-0.062036</td>\n",
              "      <td>0.036778</td>\n",
              "    </tr>\n",
              "    <tr>\n",
              "      <th>75%</th>\n",
              "      <td>0.667580</td>\n",
              "      <td>0.629801</td>\n",
              "      <td>0.670944</td>\n",
              "      <td>0.725620</td>\n",
              "    </tr>\n",
              "    <tr>\n",
              "      <th>max</th>\n",
              "      <td>3.238140</td>\n",
              "      <td>2.930522</td>\n",
              "      <td>3.342285</td>\n",
              "      <td>2.978472</td>\n",
              "    </tr>\n",
              "  </tbody>\n",
              "</table>\n",
              "</div>"
            ],
            "text/plain": [
              "              Aaba         Baba         Caca         Dada\n",
              "count  1000.000000  1000.000000  1000.000000  1000.000000\n",
              "mean     -0.014128    -0.028830    -0.009874     0.004128\n",
              "std       0.981378     0.962308     1.001781     1.027538\n",
              "min      -2.964888    -3.355816    -3.549110    -3.167404\n",
              "25%      -0.710339    -0.686079    -0.679527    -0.654529\n",
              "50%      -0.012924    -0.024915    -0.062036     0.036778\n",
              "75%       0.667580     0.629801     0.670944     0.725620\n",
              "max       3.238140     2.930522     3.342285     2.978472"
            ]
          },
          "metadata": {
            "tags": []
          },
          "execution_count": 162
        }
      ]
    },
    {
      "cell_type": "code",
      "metadata": {
        "id": "feDtvMgGUkqZ",
        "colab": {
          "base_uri": "https://localhost:8080/",
          "height": 142
        },
        "outputId": "fb6c01a3-6af8-41b5-c5c8-ceb601e7de8f"
      },
      "source": [
        "data[np.abs(data['Caca']) > 3]"
      ],
      "execution_count": null,
      "outputs": [
        {
          "output_type": "execute_result",
          "data": {
            "text/html": [
              "<div>\n",
              "<style scoped>\n",
              "    .dataframe tbody tr th:only-of-type {\n",
              "        vertical-align: middle;\n",
              "    }\n",
              "\n",
              "    .dataframe tbody tr th {\n",
              "        vertical-align: top;\n",
              "    }\n",
              "\n",
              "    .dataframe thead th {\n",
              "        text-align: right;\n",
              "    }\n",
              "</style>\n",
              "<table border=\"1\" class=\"dataframe\">\n",
              "  <thead>\n",
              "    <tr style=\"text-align: right;\">\n",
              "      <th></th>\n",
              "      <th>Aaba</th>\n",
              "      <th>Baba</th>\n",
              "      <th>Caca</th>\n",
              "      <th>Dada</th>\n",
              "    </tr>\n",
              "  </thead>\n",
              "  <tbody>\n",
              "    <tr>\n",
              "      <th>157</th>\n",
              "      <td>-1.459662</td>\n",
              "      <td>0.067723</td>\n",
              "      <td>-3.034796</td>\n",
              "      <td>1.111442</td>\n",
              "    </tr>\n",
              "    <tr>\n",
              "      <th>260</th>\n",
              "      <td>1.419877</td>\n",
              "      <td>0.725150</td>\n",
              "      <td>3.342285</td>\n",
              "      <td>-0.088954</td>\n",
              "    </tr>\n",
              "    <tr>\n",
              "      <th>645</th>\n",
              "      <td>1.001509</td>\n",
              "      <td>-0.440654</td>\n",
              "      <td>-3.549110</td>\n",
              "      <td>-0.188530</td>\n",
              "    </tr>\n",
              "  </tbody>\n",
              "</table>\n",
              "</div>"
            ],
            "text/plain": [
              "         Aaba      Baba      Caca      Dada\n",
              "157 -1.459662  0.067723 -3.034796  1.111442\n",
              "260  1.419877  0.725150  3.342285 -0.088954\n",
              "645  1.001509 -0.440654 -3.549110 -0.188530"
            ]
          },
          "metadata": {
            "tags": []
          },
          "execution_count": 163
        }
      ]
    },
    {
      "cell_type": "code",
      "metadata": {
        "id": "Ga5Tr_5QVQqL",
        "colab": {
          "base_uri": "https://localhost:8080/",
          "height": 418
        },
        "outputId": "ef226ea8-d944-47f6-8e86-2f60735742db"
      },
      "source": [
        "# Detecting outleirs from any columns in the dataframe\n",
        "\n",
        "data[(np.abs(data) > 3).any(1)] # axis = 1 i.e column wise"
      ],
      "execution_count": null,
      "outputs": [
        {
          "output_type": "execute_result",
          "data": {
            "text/html": [
              "<div>\n",
              "<style scoped>\n",
              "    .dataframe tbody tr th:only-of-type {\n",
              "        vertical-align: middle;\n",
              "    }\n",
              "\n",
              "    .dataframe tbody tr th {\n",
              "        vertical-align: top;\n",
              "    }\n",
              "\n",
              "    .dataframe thead th {\n",
              "        text-align: right;\n",
              "    }\n",
              "</style>\n",
              "<table border=\"1\" class=\"dataframe\">\n",
              "  <thead>\n",
              "    <tr style=\"text-align: right;\">\n",
              "      <th></th>\n",
              "      <th>Aaba</th>\n",
              "      <th>Baba</th>\n",
              "      <th>Caca</th>\n",
              "      <th>Dada</th>\n",
              "    </tr>\n",
              "  </thead>\n",
              "  <tbody>\n",
              "    <tr>\n",
              "      <th>39</th>\n",
              "      <td>1.455963</td>\n",
              "      <td>-3.116615</td>\n",
              "      <td>-0.111660</td>\n",
              "      <td>-0.775272</td>\n",
              "    </tr>\n",
              "    <tr>\n",
              "      <th>46</th>\n",
              "      <td>1.100756</td>\n",
              "      <td>-0.036092</td>\n",
              "      <td>1.373986</td>\n",
              "      <td>-3.167404</td>\n",
              "    </tr>\n",
              "    <tr>\n",
              "      <th>157</th>\n",
              "      <td>-1.459662</td>\n",
              "      <td>0.067723</td>\n",
              "      <td>-3.034796</td>\n",
              "      <td>1.111442</td>\n",
              "    </tr>\n",
              "    <tr>\n",
              "      <th>260</th>\n",
              "      <td>1.419877</td>\n",
              "      <td>0.725150</td>\n",
              "      <td>3.342285</td>\n",
              "      <td>-0.088954</td>\n",
              "    </tr>\n",
              "    <tr>\n",
              "      <th>444</th>\n",
              "      <td>1.261487</td>\n",
              "      <td>1.118862</td>\n",
              "      <td>0.315600</td>\n",
              "      <td>-3.092298</td>\n",
              "    </tr>\n",
              "    <tr>\n",
              "      <th>504</th>\n",
              "      <td>-0.687179</td>\n",
              "      <td>-3.115978</td>\n",
              "      <td>1.511751</td>\n",
              "      <td>0.653478</td>\n",
              "    </tr>\n",
              "    <tr>\n",
              "      <th>518</th>\n",
              "      <td>-1.375066</td>\n",
              "      <td>-3.110294</td>\n",
              "      <td>0.935354</td>\n",
              "      <td>0.956307</td>\n",
              "    </tr>\n",
              "    <tr>\n",
              "      <th>645</th>\n",
              "      <td>1.001509</td>\n",
              "      <td>-0.440654</td>\n",
              "      <td>-3.549110</td>\n",
              "      <td>-0.188530</td>\n",
              "    </tr>\n",
              "    <tr>\n",
              "      <th>688</th>\n",
              "      <td>3.238140</td>\n",
              "      <td>0.435656</td>\n",
              "      <td>-0.571016</td>\n",
              "      <td>-1.438396</td>\n",
              "    </tr>\n",
              "    <tr>\n",
              "      <th>828</th>\n",
              "      <td>0.224491</td>\n",
              "      <td>-3.355816</td>\n",
              "      <td>0.763214</td>\n",
              "      <td>-0.383391</td>\n",
              "    </tr>\n",
              "    <tr>\n",
              "      <th>836</th>\n",
              "      <td>0.112581</td>\n",
              "      <td>-3.246067</td>\n",
              "      <td>0.279451</td>\n",
              "      <td>-1.012459</td>\n",
              "    </tr>\n",
              "    <tr>\n",
              "      <th>852</th>\n",
              "      <td>3.077381</td>\n",
              "      <td>-1.593965</td>\n",
              "      <td>-1.614326</td>\n",
              "      <td>-1.066925</td>\n",
              "    </tr>\n",
              "  </tbody>\n",
              "</table>\n",
              "</div>"
            ],
            "text/plain": [
              "         Aaba      Baba      Caca      Dada\n",
              "39   1.455963 -3.116615 -0.111660 -0.775272\n",
              "46   1.100756 -0.036092  1.373986 -3.167404\n",
              "157 -1.459662  0.067723 -3.034796  1.111442\n",
              "260  1.419877  0.725150  3.342285 -0.088954\n",
              "444  1.261487  1.118862  0.315600 -3.092298\n",
              "504 -0.687179 -3.115978  1.511751  0.653478\n",
              "518 -1.375066 -3.110294  0.935354  0.956307\n",
              "645  1.001509 -0.440654 -3.549110 -0.188530\n",
              "688  3.238140  0.435656 -0.571016 -1.438396\n",
              "828  0.224491 -3.355816  0.763214 -0.383391\n",
              "836  0.112581 -3.246067  0.279451 -1.012459\n",
              "852  3.077381 -1.593965 -1.614326 -1.066925"
            ]
          },
          "metadata": {
            "tags": []
          },
          "execution_count": 164
        }
      ]
    },
    {
      "cell_type": "code",
      "metadata": {
        "id": "iXNrY9wbXTb3",
        "colab": {
          "base_uri": "https://localhost:8080/",
          "height": 49
        },
        "outputId": "b5004977-3f1a-49ee-8b23-9d9848076ab2"
      },
      "source": [
        "data[(np.abs(data) > 3).all(1)]"
      ],
      "execution_count": null,
      "outputs": [
        {
          "output_type": "execute_result",
          "data": {
            "text/html": [
              "<div>\n",
              "<style scoped>\n",
              "    .dataframe tbody tr th:only-of-type {\n",
              "        vertical-align: middle;\n",
              "    }\n",
              "\n",
              "    .dataframe tbody tr th {\n",
              "        vertical-align: top;\n",
              "    }\n",
              "\n",
              "    .dataframe thead th {\n",
              "        text-align: right;\n",
              "    }\n",
              "</style>\n",
              "<table border=\"1\" class=\"dataframe\">\n",
              "  <thead>\n",
              "    <tr style=\"text-align: right;\">\n",
              "      <th></th>\n",
              "      <th>Aaba</th>\n",
              "      <th>Baba</th>\n",
              "      <th>Caca</th>\n",
              "      <th>Dada</th>\n",
              "    </tr>\n",
              "  </thead>\n",
              "  <tbody>\n",
              "  </tbody>\n",
              "</table>\n",
              "</div>"
            ],
            "text/plain": [
              "Empty DataFrame\n",
              "Columns: [Aaba, Baba, Caca, Dada]\n",
              "Index: []"
            ]
          },
          "metadata": {
            "tags": []
          },
          "execution_count": 165
        }
      ]
    },
    {
      "cell_type": "code",
      "metadata": {
        "id": "IQqQYN9NXXnE",
        "colab": {
          "base_uri": "https://localhost:8080/",
          "height": 80
        },
        "outputId": "dddce698-d277-4893-be0d-d1b6e0cb53df"
      },
      "source": [
        "new_row = {'Aaba' : 4,\t'Baba':4,\t'Caca': -4,\t'Dada': -4}\n",
        "data = data.append(new_row,ignore_index=True)\n",
        "data[(np.abs(data) > 3).all(1)]"
      ],
      "execution_count": null,
      "outputs": [
        {
          "output_type": "execute_result",
          "data": {
            "text/html": [
              "<div>\n",
              "<style scoped>\n",
              "    .dataframe tbody tr th:only-of-type {\n",
              "        vertical-align: middle;\n",
              "    }\n",
              "\n",
              "    .dataframe tbody tr th {\n",
              "        vertical-align: top;\n",
              "    }\n",
              "\n",
              "    .dataframe thead th {\n",
              "        text-align: right;\n",
              "    }\n",
              "</style>\n",
              "<table border=\"1\" class=\"dataframe\">\n",
              "  <thead>\n",
              "    <tr style=\"text-align: right;\">\n",
              "      <th></th>\n",
              "      <th>Aaba</th>\n",
              "      <th>Baba</th>\n",
              "      <th>Caca</th>\n",
              "      <th>Dada</th>\n",
              "    </tr>\n",
              "  </thead>\n",
              "  <tbody>\n",
              "    <tr>\n",
              "      <th>1000</th>\n",
              "      <td>4.0</td>\n",
              "      <td>4.0</td>\n",
              "      <td>-4.0</td>\n",
              "      <td>-4.0</td>\n",
              "    </tr>\n",
              "  </tbody>\n",
              "</table>\n",
              "</div>"
            ],
            "text/plain": [
              "      Aaba  Baba  Caca  Dada\n",
              "1000   4.0   4.0  -4.0  -4.0"
            ]
          },
          "metadata": {
            "tags": []
          },
          "execution_count": 166
        }
      ]
    },
    {
      "cell_type": "code",
      "metadata": {
        "id": "c9aFzIt6YnKP"
      },
      "source": [
        ""
      ],
      "execution_count": null,
      "outputs": []
    },
    {
      "cell_type": "markdown",
      "metadata": {
        "id": "BYT7FM56w49Y"
      },
      "source": [
        "# Project: Risk of being drawn into online sex work\n",
        "\n",
        "### Context\n",
        "This database was used in the paper: Covert online ethnography and machine learning for detecting individuals at risk of being drawn into online sex work. 2018 IEEE/ACM International Conference on Advances in Social Networks Analysis and Mining (ASONAM), Barcelona, Spain, 28-31 August.\n",
        "\n",
        "### Content\n",
        "The database includes data scraped from a European online adult forum. Using covert online ethnography we interviewed a small number of participants and determined their risk to either supply or demand sex services through that forum. This is a great dataset for semi-supervised learning.\n",
        "\n",
        "### Inspiration\n",
        "How can we identify individuals at risk of being drawn into online sex work? The spread of online social media enables a greater number of people to be involved into online sex trade; however, detecting deviant behaviors online is limited by the low available of data. To overcome this challenge, we combine covert online ethnography with semi-supervised learning using data from a popular European adult forum."
      ]
    },
    {
      "cell_type": "markdown",
      "metadata": {
        "id": "j7d7ldUQyWca"
      },
      "source": [
        "## Importing Data"
      ]
    },
    {
      "cell_type": "code",
      "metadata": {
        "id": "aaqtbgM-yK84"
      },
      "source": [
        "import pandas as pd\n",
        "import numpy as np\n",
        "\n",
        "import warnings; warnings.filterwarnings('ignore')"
      ],
      "execution_count": 3,
      "outputs": []
    },
    {
      "cell_type": "code",
      "metadata": {
        "id": "Cr55C83rya2a",
        "colab": {
          "base_uri": "https://localhost:8080/",
          "height": 254
        },
        "outputId": "a3dcc20f-1b9c-43d3-c974-98f0bde7547f"
      },
      "source": [
        "# Created a dataframe named it df\n",
        "# loaded un-cleaned data\n",
        "df = pd.read_csv('/content/online_sex_work.csv', index_col=0)\n",
        "# sub part of data\n",
        "df = df.iloc[: 28831, :]\n",
        "\n",
        "df.head() # six rows"
      ],
      "execution_count": 4,
      "outputs": [
        {
          "output_type": "execute_result",
          "data": {
            "text/html": [
              "<div>\n",
              "<style scoped>\n",
              "    .dataframe tbody tr th:only-of-type {\n",
              "        vertical-align: middle;\n",
              "    }\n",
              "\n",
              "    .dataframe tbody tr th {\n",
              "        vertical-align: top;\n",
              "    }\n",
              "\n",
              "    .dataframe thead th {\n",
              "        text-align: right;\n",
              "    }\n",
              "</style>\n",
              "<table border=\"1\" class=\"dataframe\">\n",
              "  <thead>\n",
              "    <tr style=\"text-align: right;\">\n",
              "      <th></th>\n",
              "      <th>Gender</th>\n",
              "      <th>Age</th>\n",
              "      <th>Location</th>\n",
              "      <th>Verification</th>\n",
              "      <th>Sexual_orientation</th>\n",
              "      <th>Sexual_polarity</th>\n",
              "      <th>Looking_for</th>\n",
              "      <th>Points_Rank</th>\n",
              "      <th>Last_login</th>\n",
              "      <th>Member_since</th>\n",
              "      <th>Number_of_Comments_in_public_forum</th>\n",
              "      <th>Time_spent_chating_H:M</th>\n",
              "      <th>Number_of_advertisments_posted</th>\n",
              "      <th>Number_of_offline_meetings_attended</th>\n",
              "      <th>Profile_pictures</th>\n",
              "      <th>Friends_ID_list</th>\n",
              "      <th>Risk</th>\n",
              "    </tr>\n",
              "    <tr>\n",
              "      <th>User_ID</th>\n",
              "      <th></th>\n",
              "      <th></th>\n",
              "      <th></th>\n",
              "      <th></th>\n",
              "      <th></th>\n",
              "      <th></th>\n",
              "      <th></th>\n",
              "      <th></th>\n",
              "      <th></th>\n",
              "      <th></th>\n",
              "      <th></th>\n",
              "      <th></th>\n",
              "      <th></th>\n",
              "      <th></th>\n",
              "      <th></th>\n",
              "      <th></th>\n",
              "      <th></th>\n",
              "    </tr>\n",
              "  </thead>\n",
              "  <tbody>\n",
              "    <tr>\n",
              "      <th>10386.0</th>\n",
              "      <td>male</td>\n",
              "      <td>34,6</td>\n",
              "      <td>A</td>\n",
              "      <td>Non_Verified</td>\n",
              "      <td>Homosexual</td>\n",
              "      <td>Switch</td>\n",
              "      <td>Men</td>\n",
              "      <td>50</td>\n",
              "      <td>before_10_days</td>\n",
              "      <td>17.9.2012</td>\n",
              "      <td>32</td>\n",
              "      <td>0:2</td>\n",
              "      <td>0.0</td>\n",
              "      <td>0.0</td>\n",
              "      <td>0.0</td>\n",
              "      <td>18260</td>\n",
              "      <td>No_risk</td>\n",
              "    </tr>\n",
              "    <tr>\n",
              "      <th>14.0</th>\n",
              "      <td>male</td>\n",
              "      <td>32,2</td>\n",
              "      <td>J</td>\n",
              "      <td>Non_Verified</td>\n",
              "      <td>Heterosexual</td>\n",
              "      <td>Dominant</td>\n",
              "      <td>Women</td>\n",
              "      <td>518</td>\n",
              "      <td>before_1_days</td>\n",
              "      <td>1.11.2009</td>\n",
              "      <td>710</td>\n",
              "      <td>3:45</td>\n",
              "      <td>9.0</td>\n",
              "      <td>0.0</td>\n",
              "      <td>0.0</td>\n",
              "      <td>11778,32024,43768,23969,27318,45884,31277</td>\n",
              "      <td>No_risk</td>\n",
              "    </tr>\n",
              "    <tr>\n",
              "      <th>16721.0</th>\n",
              "      <td>male</td>\n",
              "      <td>33,6</td>\n",
              "      <td>K</td>\n",
              "      <td>Non_Verified</td>\n",
              "      <td>Heterosexual</td>\n",
              "      <td>Dominant</td>\n",
              "      <td>Women</td>\n",
              "      <td>150</td>\n",
              "      <td>before_3_days</td>\n",
              "      <td>1.4.2013</td>\n",
              "      <td>25</td>\n",
              "      <td>2:15</td>\n",
              "      <td>1.0</td>\n",
              "      <td>1.0</td>\n",
              "      <td>45.0</td>\n",
              "      <td>19805,21721,19802</td>\n",
              "      <td>No_risk</td>\n",
              "    </tr>\n",
              "    <tr>\n",
              "      <th>16957.0</th>\n",
              "      <td>male</td>\n",
              "      <td>34</td>\n",
              "      <td>H</td>\n",
              "      <td>Non_Verified</td>\n",
              "      <td>Heterosexual</td>\n",
              "      <td>Dominant</td>\n",
              "      <td>Women</td>\n",
              "      <td>114</td>\n",
              "      <td>before_4_days</td>\n",
              "      <td>8.4.2013</td>\n",
              "      <td>107</td>\n",
              "      <td>359:22</td>\n",
              "      <td>1.0</td>\n",
              "      <td>0.0</td>\n",
              "      <td>1.0</td>\n",
              "      <td>40847,38183,9507,42259,5807,28118,24848,37170,...</td>\n",
              "      <td>No_risk</td>\n",
              "    </tr>\n",
              "    <tr>\n",
              "      <th>17125.0</th>\n",
              "      <td>male</td>\n",
              "      <td>39,5</td>\n",
              "      <td>B</td>\n",
              "      <td>Non_Verified</td>\n",
              "      <td>Heterosexual</td>\n",
              "      <td>Dominant</td>\n",
              "      <td>Women</td>\n",
              "      <td>497</td>\n",
              "      <td>before_5_days</td>\n",
              "      <td>14.4.2013</td>\n",
              "      <td>600</td>\n",
              "      <td>0:21</td>\n",
              "      <td>0.0</td>\n",
              "      <td>6.0</td>\n",
              "      <td>8.0</td>\n",
              "      <td>1320,35739,34231,19097,20197,18069,12330,43342...</td>\n",
              "      <td>No_risk</td>\n",
              "    </tr>\n",
              "  </tbody>\n",
              "</table>\n",
              "</div>"
            ],
            "text/plain": [
              "        Gender  ...     Risk\n",
              "User_ID         ...         \n",
              "10386.0   male  ...  No_risk\n",
              "14.0      male  ...  No_risk\n",
              "16721.0   male  ...  No_risk\n",
              "16957.0   male  ...  No_risk\n",
              "17125.0   male  ...  No_risk\n",
              "\n",
              "[5 rows x 17 columns]"
            ]
          },
          "metadata": {
            "tags": []
          },
          "execution_count": 4
        }
      ]
    },
    {
      "cell_type": "code",
      "metadata": {
        "id": "5nDDhkgMcOZv"
      },
      "source": [
        ""
      ],
      "execution_count": null,
      "outputs": []
    },
    {
      "cell_type": "code",
      "metadata": {
        "id": "A-LJzsKBaU64",
        "outputId": "bb752b37-60bb-4cb4-8ff1-a57ef323772f",
        "colab": {
          "base_uri": "https://localhost:8080/",
          "height": 254
        }
      },
      "source": [
        "df.tail() # last 6  rows"
      ],
      "execution_count": 5,
      "outputs": [
        {
          "output_type": "execute_result",
          "data": {
            "text/html": [
              "<div>\n",
              "<style scoped>\n",
              "    .dataframe tbody tr th:only-of-type {\n",
              "        vertical-align: middle;\n",
              "    }\n",
              "\n",
              "    .dataframe tbody tr th {\n",
              "        vertical-align: top;\n",
              "    }\n",
              "\n",
              "    .dataframe thead th {\n",
              "        text-align: right;\n",
              "    }\n",
              "</style>\n",
              "<table border=\"1\" class=\"dataframe\">\n",
              "  <thead>\n",
              "    <tr style=\"text-align: right;\">\n",
              "      <th></th>\n",
              "      <th>Gender</th>\n",
              "      <th>Age</th>\n",
              "      <th>Location</th>\n",
              "      <th>Verification</th>\n",
              "      <th>Sexual_orientation</th>\n",
              "      <th>Sexual_polarity</th>\n",
              "      <th>Looking_for</th>\n",
              "      <th>Points_Rank</th>\n",
              "      <th>Last_login</th>\n",
              "      <th>Member_since</th>\n",
              "      <th>Number_of_Comments_in_public_forum</th>\n",
              "      <th>Time_spent_chating_H:M</th>\n",
              "      <th>Number_of_advertisments_posted</th>\n",
              "      <th>Number_of_offline_meetings_attended</th>\n",
              "      <th>Profile_pictures</th>\n",
              "      <th>Friends_ID_list</th>\n",
              "      <th>Risk</th>\n",
              "    </tr>\n",
              "    <tr>\n",
              "      <th>User_ID</th>\n",
              "      <th></th>\n",
              "      <th></th>\n",
              "      <th></th>\n",
              "      <th></th>\n",
              "      <th></th>\n",
              "      <th></th>\n",
              "      <th></th>\n",
              "      <th></th>\n",
              "      <th></th>\n",
              "      <th></th>\n",
              "      <th></th>\n",
              "      <th></th>\n",
              "      <th></th>\n",
              "      <th></th>\n",
              "      <th></th>\n",
              "      <th></th>\n",
              "      <th></th>\n",
              "    </tr>\n",
              "  </thead>\n",
              "  <tbody>\n",
              "    <tr>\n",
              "      <th>9962.0</th>\n",
              "      <td>male</td>\n",
              "      <td>27,2</td>\n",
              "      <td>J</td>\n",
              "      <td>Non_Verified</td>\n",
              "      <td>Heterosexual</td>\n",
              "      <td>Switch</td>\n",
              "      <td>Women</td>\n",
              "      <td>0</td>\n",
              "      <td>before_23_days</td>\n",
              "      <td>5.9.2012</td>\n",
              "      <td>0</td>\n",
              "      <td>0:3</td>\n",
              "      <td>1.0</td>\n",
              "      <td>0.0</td>\n",
              "      <td>0.0</td>\n",
              "      <td>NaN</td>\n",
              "      <td>unknown_risk</td>\n",
              "    </tr>\n",
              "    <tr>\n",
              "      <th>9964.0</th>\n",
              "      <td>male</td>\n",
              "      <td>46,4</td>\n",
              "      <td>J</td>\n",
              "      <td>Non_Verified</td>\n",
              "      <td>bicurious</td>\n",
              "      <td>Submisive</td>\n",
              "      <td>Men_and_Women</td>\n",
              "      <td>15</td>\n",
              "      <td>before_597_days</td>\n",
              "      <td>5.9.2012</td>\n",
              "      <td>0</td>\n",
              "      <td>0:0</td>\n",
              "      <td>0.0</td>\n",
              "      <td>0.0</td>\n",
              "      <td>0.0</td>\n",
              "      <td>NaN</td>\n",
              "      <td>unknown_risk</td>\n",
              "    </tr>\n",
              "    <tr>\n",
              "      <th>9966.0</th>\n",
              "      <td>male</td>\n",
              "      <td>28,8</td>\n",
              "      <td>C</td>\n",
              "      <td>Non_Verified</td>\n",
              "      <td>Heterosexual</td>\n",
              "      <td>Submisive</td>\n",
              "      <td>Women</td>\n",
              "      <td>15</td>\n",
              "      <td>before_4_days</td>\n",
              "      <td>5.9.2012</td>\n",
              "      <td>0</td>\n",
              "      <td>0:0</td>\n",
              "      <td>0.0</td>\n",
              "      <td>0.0</td>\n",
              "      <td>0.0</td>\n",
              "      <td>NaN</td>\n",
              "      <td>unknown_risk</td>\n",
              "    </tr>\n",
              "    <tr>\n",
              "      <th>9968.0</th>\n",
              "      <td>male</td>\n",
              "      <td>31,5</td>\n",
              "      <td>J</td>\n",
              "      <td>Non_Verified</td>\n",
              "      <td>bisexual</td>\n",
              "      <td>Submisive</td>\n",
              "      <td>Men</td>\n",
              "      <td>30</td>\n",
              "      <td>before_665_days</td>\n",
              "      <td>1.9.2012</td>\n",
              "      <td>0</td>\n",
              "      <td>2:54</td>\n",
              "      <td>4.0</td>\n",
              "      <td>0.0</td>\n",
              "      <td>0.0</td>\n",
              "      <td>NaN</td>\n",
              "      <td>unknown_risk</td>\n",
              "    </tr>\n",
              "    <tr>\n",
              "      <th>998.0</th>\n",
              "      <td>female</td>\n",
              "      <td>38,7</td>\n",
              "      <td>F</td>\n",
              "      <td>Non_Verified</td>\n",
              "      <td>Heterosexual</td>\n",
              "      <td>Dominant</td>\n",
              "      <td>Nobody</td>\n",
              "      <td>20</td>\n",
              "      <td>before_157_days</td>\n",
              "      <td>20.5.2010</td>\n",
              "      <td>0</td>\n",
              "      <td>0:9</td>\n",
              "      <td>0.0</td>\n",
              "      <td>0.0</td>\n",
              "      <td>1.0</td>\n",
              "      <td>NaN</td>\n",
              "      <td>unknown_risk</td>\n",
              "    </tr>\n",
              "  </tbody>\n",
              "</table>\n",
              "</div>"
            ],
            "text/plain": [
              "         Gender   Age Location  ... Profile_pictures Friends_ID_list          Risk\n",
              "User_ID                         ...                                               \n",
              "9962.0     male  27,2        J  ...              0.0             NaN  unknown_risk\n",
              "9964.0     male  46,4        J  ...              0.0             NaN  unknown_risk\n",
              "9966.0     male  28,8        C  ...              0.0             NaN  unknown_risk\n",
              "9968.0     male  31,5        J  ...              0.0             NaN  unknown_risk\n",
              "998.0    female  38,7        F  ...              1.0             NaN  unknown_risk\n",
              "\n",
              "[5 rows x 17 columns]"
            ]
          },
          "metadata": {
            "tags": []
          },
          "execution_count": 5
        }
      ]
    },
    {
      "cell_type": "code",
      "metadata": {
        "id": "y_wXTIB-ymwW",
        "outputId": "97a29d44-3850-413d-cb55-7a92fae55448",
        "colab": {
          "base_uri": "https://localhost:8080/"
        }
      },
      "source": [
        "# Understand the Data Types\n",
        "df.dtypes"
      ],
      "execution_count": 6,
      "outputs": [
        {
          "output_type": "execute_result",
          "data": {
            "text/plain": [
              "Gender                                  object\n",
              "Age                                     object\n",
              "Location                                object\n",
              "Verification                            object\n",
              "Sexual_orientation                      object\n",
              "Sexual_polarity                         object\n",
              "Looking_for                             object\n",
              "Points_Rank                             object\n",
              "Last_login                              object\n",
              "Member_since                            object\n",
              "Number_of_Comments_in_public_forum      object\n",
              "Time_spent_chating_H:M                  object\n",
              "Number_of_advertisments_posted         float64\n",
              "Number_of_offline_meetings_attended    float64\n",
              "Profile_pictures                       float64\n",
              "Friends_ID_list                         object\n",
              "Risk                                    object\n",
              "dtype: object"
            ]
          },
          "metadata": {
            "tags": []
          },
          "execution_count": 6
        }
      ]
    },
    {
      "cell_type": "markdown",
      "metadata": {
        "id": "16hSyAZyzLs8"
      },
      "source": [
        "## Data Cleaning\n"
      ]
    },
    {
      "cell_type": "markdown",
      "metadata": {
        "id": "XKt4YaS9zQrQ"
      },
      "source": [
        "### Change datatype for some features\n",
        "\n",
        "Data in a number of features that contain numerical data could be converted into pure numbers (integers), which would take less memory and could be interpreted more easily by machine learning models."
      ]
    },
    {
      "cell_type": "code",
      "metadata": {
        "id": "oympJlMjy3Ym",
        "outputId": "e8581ade-ddce-48fe-8b50-b8fa2cc88a4f",
        "colab": {
          "base_uri": "https://localhost:8080/",
          "height": 254
        }
      },
      "source": [
        "df.index = df.index.astype(int) # change the type to int\n",
        "df['Number_of_advertisments_posted'] = df['Number_of_advertisments_posted'].astype(int)\n",
        "df['Number_of_offline_meetings_attended'] = df['Number_of_offline_meetings_attended'].astype(int)\n",
        "df['Profile_pictures'] = df['Profile_pictures'].astype(int)\n",
        "df['Friends_ID_list'] = df['Friends_ID_list'].astype(str)\n",
        "df['Risk'] = df['Risk'].astype(str)\n",
        "\n",
        "df.head()"
      ],
      "execution_count": 7,
      "outputs": [
        {
          "output_type": "execute_result",
          "data": {
            "text/html": [
              "<div>\n",
              "<style scoped>\n",
              "    .dataframe tbody tr th:only-of-type {\n",
              "        vertical-align: middle;\n",
              "    }\n",
              "\n",
              "    .dataframe tbody tr th {\n",
              "        vertical-align: top;\n",
              "    }\n",
              "\n",
              "    .dataframe thead th {\n",
              "        text-align: right;\n",
              "    }\n",
              "</style>\n",
              "<table border=\"1\" class=\"dataframe\">\n",
              "  <thead>\n",
              "    <tr style=\"text-align: right;\">\n",
              "      <th></th>\n",
              "      <th>Gender</th>\n",
              "      <th>Age</th>\n",
              "      <th>Location</th>\n",
              "      <th>Verification</th>\n",
              "      <th>Sexual_orientation</th>\n",
              "      <th>Sexual_polarity</th>\n",
              "      <th>Looking_for</th>\n",
              "      <th>Points_Rank</th>\n",
              "      <th>Last_login</th>\n",
              "      <th>Member_since</th>\n",
              "      <th>Number_of_Comments_in_public_forum</th>\n",
              "      <th>Time_spent_chating_H:M</th>\n",
              "      <th>Number_of_advertisments_posted</th>\n",
              "      <th>Number_of_offline_meetings_attended</th>\n",
              "      <th>Profile_pictures</th>\n",
              "      <th>Friends_ID_list</th>\n",
              "      <th>Risk</th>\n",
              "    </tr>\n",
              "    <tr>\n",
              "      <th>User_ID</th>\n",
              "      <th></th>\n",
              "      <th></th>\n",
              "      <th></th>\n",
              "      <th></th>\n",
              "      <th></th>\n",
              "      <th></th>\n",
              "      <th></th>\n",
              "      <th></th>\n",
              "      <th></th>\n",
              "      <th></th>\n",
              "      <th></th>\n",
              "      <th></th>\n",
              "      <th></th>\n",
              "      <th></th>\n",
              "      <th></th>\n",
              "      <th></th>\n",
              "      <th></th>\n",
              "    </tr>\n",
              "  </thead>\n",
              "  <tbody>\n",
              "    <tr>\n",
              "      <th>10386</th>\n",
              "      <td>male</td>\n",
              "      <td>34,6</td>\n",
              "      <td>A</td>\n",
              "      <td>Non_Verified</td>\n",
              "      <td>Homosexual</td>\n",
              "      <td>Switch</td>\n",
              "      <td>Men</td>\n",
              "      <td>50</td>\n",
              "      <td>before_10_days</td>\n",
              "      <td>17.9.2012</td>\n",
              "      <td>32</td>\n",
              "      <td>0:2</td>\n",
              "      <td>0</td>\n",
              "      <td>0</td>\n",
              "      <td>0</td>\n",
              "      <td>18260</td>\n",
              "      <td>No_risk</td>\n",
              "    </tr>\n",
              "    <tr>\n",
              "      <th>14</th>\n",
              "      <td>male</td>\n",
              "      <td>32,2</td>\n",
              "      <td>J</td>\n",
              "      <td>Non_Verified</td>\n",
              "      <td>Heterosexual</td>\n",
              "      <td>Dominant</td>\n",
              "      <td>Women</td>\n",
              "      <td>518</td>\n",
              "      <td>before_1_days</td>\n",
              "      <td>1.11.2009</td>\n",
              "      <td>710</td>\n",
              "      <td>3:45</td>\n",
              "      <td>9</td>\n",
              "      <td>0</td>\n",
              "      <td>0</td>\n",
              "      <td>11778,32024,43768,23969,27318,45884,31277</td>\n",
              "      <td>No_risk</td>\n",
              "    </tr>\n",
              "    <tr>\n",
              "      <th>16721</th>\n",
              "      <td>male</td>\n",
              "      <td>33,6</td>\n",
              "      <td>K</td>\n",
              "      <td>Non_Verified</td>\n",
              "      <td>Heterosexual</td>\n",
              "      <td>Dominant</td>\n",
              "      <td>Women</td>\n",
              "      <td>150</td>\n",
              "      <td>before_3_days</td>\n",
              "      <td>1.4.2013</td>\n",
              "      <td>25</td>\n",
              "      <td>2:15</td>\n",
              "      <td>1</td>\n",
              "      <td>1</td>\n",
              "      <td>45</td>\n",
              "      <td>19805,21721,19802</td>\n",
              "      <td>No_risk</td>\n",
              "    </tr>\n",
              "    <tr>\n",
              "      <th>16957</th>\n",
              "      <td>male</td>\n",
              "      <td>34</td>\n",
              "      <td>H</td>\n",
              "      <td>Non_Verified</td>\n",
              "      <td>Heterosexual</td>\n",
              "      <td>Dominant</td>\n",
              "      <td>Women</td>\n",
              "      <td>114</td>\n",
              "      <td>before_4_days</td>\n",
              "      <td>8.4.2013</td>\n",
              "      <td>107</td>\n",
              "      <td>359:22</td>\n",
              "      <td>1</td>\n",
              "      <td>0</td>\n",
              "      <td>1</td>\n",
              "      <td>40847,38183,9507,42259,5807,28118,24848,37170,...</td>\n",
              "      <td>No_risk</td>\n",
              "    </tr>\n",
              "    <tr>\n",
              "      <th>17125</th>\n",
              "      <td>male</td>\n",
              "      <td>39,5</td>\n",
              "      <td>B</td>\n",
              "      <td>Non_Verified</td>\n",
              "      <td>Heterosexual</td>\n",
              "      <td>Dominant</td>\n",
              "      <td>Women</td>\n",
              "      <td>497</td>\n",
              "      <td>before_5_days</td>\n",
              "      <td>14.4.2013</td>\n",
              "      <td>600</td>\n",
              "      <td>0:21</td>\n",
              "      <td>0</td>\n",
              "      <td>6</td>\n",
              "      <td>8</td>\n",
              "      <td>1320,35739,34231,19097,20197,18069,12330,43342...</td>\n",
              "      <td>No_risk</td>\n",
              "    </tr>\n",
              "  </tbody>\n",
              "</table>\n",
              "</div>"
            ],
            "text/plain": [
              "        Gender  ...     Risk\n",
              "User_ID         ...         \n",
              "10386     male  ...  No_risk\n",
              "14        male  ...  No_risk\n",
              "16721     male  ...  No_risk\n",
              "16957     male  ...  No_risk\n",
              "17125     male  ...  No_risk\n",
              "\n",
              "[5 rows x 17 columns]"
            ]
          },
          "metadata": {
            "tags": []
          },
          "execution_count": 7
        }
      ]
    },
    {
      "cell_type": "code",
      "metadata": {
        "id": "kqj1TlUpzgfT",
        "outputId": "38988368-2d88-4d72-b872-bb6d51273b78",
        "colab": {
          "base_uri": "https://localhost:8080/"
        }
      },
      "source": [
        "df.dtypes"
      ],
      "execution_count": 8,
      "outputs": [
        {
          "output_type": "execute_result",
          "data": {
            "text/plain": [
              "Gender                                 object\n",
              "Age                                    object\n",
              "Location                               object\n",
              "Verification                           object\n",
              "Sexual_orientation                     object\n",
              "Sexual_polarity                        object\n",
              "Looking_for                            object\n",
              "Points_Rank                            object\n",
              "Last_login                             object\n",
              "Member_since                           object\n",
              "Number_of_Comments_in_public_forum     object\n",
              "Time_spent_chating_H:M                 object\n",
              "Number_of_advertisments_posted          int64\n",
              "Number_of_offline_meetings_attended     int64\n",
              "Profile_pictures                        int64\n",
              "Friends_ID_list                        object\n",
              "Risk                                   object\n",
              "dtype: object"
            ]
          },
          "metadata": {
            "tags": []
          },
          "execution_count": 8
        }
      ]
    },
    {
      "cell_type": "code",
      "metadata": {
        "id": "5jB7rEZ0z2sH"
      },
      "source": [
        "# cheack the Error\n",
        "df['Number_of_Comments_in_public_forum'] = df['Number_of_Comments_in_public_forum'].astype(int)"
      ],
      "execution_count": 11,
      "outputs": []
    },
    {
      "cell_type": "code",
      "metadata": {
        "id": "bJUltVdez-5w"
      },
      "source": [
        "# We use replace method to replace a pattern from string\n",
        "df['Number_of_Comments_in_public_forum'] = df['Number_of_Comments_in_public_forum'].str.replace(' ', '').astype(int)\n"
      ],
      "execution_count": 10,
      "outputs": []
    },
    {
      "cell_type": "code",
      "metadata": {
        "id": "M3dlgtMwc2wv",
        "outputId": "ac761d54-ee8d-492a-858b-fd5d6be45c3b",
        "colab": {
          "base_uri": "https://localhost:8080/"
        }
      },
      "source": [
        "df.dtypes"
      ],
      "execution_count": 15,
      "outputs": [
        {
          "output_type": "execute_result",
          "data": {
            "text/plain": [
              "Gender                                 object\n",
              "Age                                    object\n",
              "Location                               object\n",
              "Verification                           object\n",
              "Sexual_orientation                     object\n",
              "Sexual_polarity                        object\n",
              "Looking_for                            object\n",
              "Points_Rank                            object\n",
              "Last_login                             object\n",
              "Member_since                           object\n",
              "Number_of_Comments_in_public_forum      int64\n",
              "Time_spent_chating_H:M                 object\n",
              "Number_of_advertisments_posted          int64\n",
              "Number_of_offline_meetings_attended     int64\n",
              "Profile_pictures                        int64\n",
              "Friends_ID_list                        object\n",
              "Risk                                   object\n",
              "dtype: object"
            ]
          },
          "metadata": {
            "tags": []
          },
          "execution_count": 15
        }
      ]
    },
    {
      "cell_type": "markdown",
      "metadata": {
        "id": "yYvNIdpTgWt1"
      },
      "source": [
        "### Counting the Missing Values"
      ]
    },
    {
      "cell_type": "code",
      "metadata": {
        "id": "ugRatz1adCYF",
        "outputId": "e0c4d509-0ab2-467d-daac-74e29159dc06",
        "colab": {
          "base_uri": "https://localhost:8080/"
        }
      },
      "source": [
        "# Count of missing values column wise\n",
        "df.isnull().sum()"
      ],
      "execution_count": 16,
      "outputs": [
        {
          "output_type": "execute_result",
          "data": {
            "text/plain": [
              "Gender                                   4\n",
              "Age                                      0\n",
              "Location                                 1\n",
              "Verification                             0\n",
              "Sexual_orientation                       1\n",
              "Sexual_polarity                          1\n",
              "Looking_for                            425\n",
              "Points_Rank                              0\n",
              "Last_login                               0\n",
              "Member_since                             0\n",
              "Number_of_Comments_in_public_forum       0\n",
              "Time_spent_chating_H:M                   0\n",
              "Number_of_advertisments_posted           0\n",
              "Number_of_offline_meetings_attended      0\n",
              "Profile_pictures                         0\n",
              "Friends_ID_list                          0\n",
              "Risk                                     0\n",
              "dtype: int64"
            ]
          },
          "metadata": {
            "tags": []
          },
          "execution_count": 16
        }
      ]
    },
    {
      "cell_type": "markdown",
      "metadata": {
        "id": "eZbL1-ijfVJE"
      },
      "source": [
        "### Convert `Gender` to binary data\n",
        "\n",
        "In the `Gender` column, We fill some missing values using some simple conditions (if the entry is, for example, homosexual, and looking for men, we fill that entry with `male`), using the `fill_gender_na` function below. Then in every entry, we change the data to whether it specifies `female` or not."
      ]
    },
    {
      "cell_type": "code",
      "metadata": {
        "id": "YeE2N25bgIGz"
      },
      "source": [
        "def fill_gender_na(row):\n",
        "    if row['Sexual_orientation'] == 'Homosexual':\n",
        "        if row['Gender'] == 'male':\n",
        "            return 'Men'\n",
        "        elif row['Gender'] == 'female':\n",
        "            return 'Women'\n",
        "    elif row['Sexual_orientation'] == 'Heterosexual':\n",
        "        if row['Gender'] == 'female':\n",
        "            return 'Men'\n",
        "        elif row['Gender'] == 'male':\n",
        "            return 'Women'\n",
        "    return np.nan"
      ],
      "execution_count": 19,
      "outputs": []
    },
    {
      "cell_type": "code",
      "metadata": {
        "id": "OVSCic_pghp7"
      },
      "source": [
        "## Fill the missing data\n",
        "fill_values = df.apply(fill_gender_na, axis=1)\n",
        "df['Looking_for'].fillna(fill_values, inplace=True)"
      ],
      "execution_count": 20,
      "outputs": []
    },
    {
      "cell_type": "code",
      "metadata": {
        "id": "s-4lcqsxhHlN",
        "outputId": "612061cd-4d8b-435b-b8f1-758105356491",
        "colab": {
          "base_uri": "https://localhost:8080/"
        }
      },
      "source": [
        "# Lets check the missing values\n",
        "df.isnull().sum()"
      ],
      "execution_count": 23,
      "outputs": [
        {
          "output_type": "execute_result",
          "data": {
            "text/plain": [
              "Gender                                 4\n",
              "Age                                    0\n",
              "Location                               1\n",
              "Verification                           0\n",
              "Sexual_orientation                     1\n",
              "Sexual_polarity                        1\n",
              "Looking_for                            0\n",
              "Points_Rank                            0\n",
              "Last_login                             0\n",
              "Member_since                           0\n",
              "Number_of_Comments_in_public_forum     0\n",
              "Time_spent_chating_H:M                 0\n",
              "Number_of_advertisments_posted         0\n",
              "Number_of_offline_meetings_attended    0\n",
              "Profile_pictures                       0\n",
              "Friends_ID_list                        0\n",
              "Risk                                   0\n",
              "dtype: int64"
            ]
          },
          "metadata": {
            "tags": []
          },
          "execution_count": 23
        }
      ]
    },
    {
      "cell_type": "code",
      "metadata": {
        "id": "bvkkJxjShKCy",
        "outputId": "efb4ba54-6c28-4a2f-a0ad-aaefcbde1598",
        "colab": {
          "base_uri": "https://localhost:8080/",
          "height": 254
        }
      },
      "source": [
        "# Add missing value with summary statistics \n",
        "df['Looking_for'].fillna(df['Looking_for'].mode()[0], inplace=True)\n",
        "df.head()"
      ],
      "execution_count": 22,
      "outputs": [
        {
          "output_type": "execute_result",
          "data": {
            "text/html": [
              "<div>\n",
              "<style scoped>\n",
              "    .dataframe tbody tr th:only-of-type {\n",
              "        vertical-align: middle;\n",
              "    }\n",
              "\n",
              "    .dataframe tbody tr th {\n",
              "        vertical-align: top;\n",
              "    }\n",
              "\n",
              "    .dataframe thead th {\n",
              "        text-align: right;\n",
              "    }\n",
              "</style>\n",
              "<table border=\"1\" class=\"dataframe\">\n",
              "  <thead>\n",
              "    <tr style=\"text-align: right;\">\n",
              "      <th></th>\n",
              "      <th>Gender</th>\n",
              "      <th>Age</th>\n",
              "      <th>Location</th>\n",
              "      <th>Verification</th>\n",
              "      <th>Sexual_orientation</th>\n",
              "      <th>Sexual_polarity</th>\n",
              "      <th>Looking_for</th>\n",
              "      <th>Points_Rank</th>\n",
              "      <th>Last_login</th>\n",
              "      <th>Member_since</th>\n",
              "      <th>Number_of_Comments_in_public_forum</th>\n",
              "      <th>Time_spent_chating_H:M</th>\n",
              "      <th>Number_of_advertisments_posted</th>\n",
              "      <th>Number_of_offline_meetings_attended</th>\n",
              "      <th>Profile_pictures</th>\n",
              "      <th>Friends_ID_list</th>\n",
              "      <th>Risk</th>\n",
              "    </tr>\n",
              "    <tr>\n",
              "      <th>User_ID</th>\n",
              "      <th></th>\n",
              "      <th></th>\n",
              "      <th></th>\n",
              "      <th></th>\n",
              "      <th></th>\n",
              "      <th></th>\n",
              "      <th></th>\n",
              "      <th></th>\n",
              "      <th></th>\n",
              "      <th></th>\n",
              "      <th></th>\n",
              "      <th></th>\n",
              "      <th></th>\n",
              "      <th></th>\n",
              "      <th></th>\n",
              "      <th></th>\n",
              "      <th></th>\n",
              "    </tr>\n",
              "  </thead>\n",
              "  <tbody>\n",
              "    <tr>\n",
              "      <th>10386</th>\n",
              "      <td>male</td>\n",
              "      <td>34,6</td>\n",
              "      <td>A</td>\n",
              "      <td>Non_Verified</td>\n",
              "      <td>Homosexual</td>\n",
              "      <td>Switch</td>\n",
              "      <td>Men</td>\n",
              "      <td>50</td>\n",
              "      <td>before_10_days</td>\n",
              "      <td>17.9.2012</td>\n",
              "      <td>32</td>\n",
              "      <td>0:2</td>\n",
              "      <td>0</td>\n",
              "      <td>0</td>\n",
              "      <td>0</td>\n",
              "      <td>18260</td>\n",
              "      <td>No_risk</td>\n",
              "    </tr>\n",
              "    <tr>\n",
              "      <th>14</th>\n",
              "      <td>male</td>\n",
              "      <td>32,2</td>\n",
              "      <td>J</td>\n",
              "      <td>Non_Verified</td>\n",
              "      <td>Heterosexual</td>\n",
              "      <td>Dominant</td>\n",
              "      <td>Women</td>\n",
              "      <td>518</td>\n",
              "      <td>before_1_days</td>\n",
              "      <td>1.11.2009</td>\n",
              "      <td>710</td>\n",
              "      <td>3:45</td>\n",
              "      <td>9</td>\n",
              "      <td>0</td>\n",
              "      <td>0</td>\n",
              "      <td>11778,32024,43768,23969,27318,45884,31277</td>\n",
              "      <td>No_risk</td>\n",
              "    </tr>\n",
              "    <tr>\n",
              "      <th>16721</th>\n",
              "      <td>male</td>\n",
              "      <td>33,6</td>\n",
              "      <td>K</td>\n",
              "      <td>Non_Verified</td>\n",
              "      <td>Heterosexual</td>\n",
              "      <td>Dominant</td>\n",
              "      <td>Women</td>\n",
              "      <td>150</td>\n",
              "      <td>before_3_days</td>\n",
              "      <td>1.4.2013</td>\n",
              "      <td>25</td>\n",
              "      <td>2:15</td>\n",
              "      <td>1</td>\n",
              "      <td>1</td>\n",
              "      <td>45</td>\n",
              "      <td>19805,21721,19802</td>\n",
              "      <td>No_risk</td>\n",
              "    </tr>\n",
              "    <tr>\n",
              "      <th>16957</th>\n",
              "      <td>male</td>\n",
              "      <td>34</td>\n",
              "      <td>H</td>\n",
              "      <td>Non_Verified</td>\n",
              "      <td>Heterosexual</td>\n",
              "      <td>Dominant</td>\n",
              "      <td>Women</td>\n",
              "      <td>114</td>\n",
              "      <td>before_4_days</td>\n",
              "      <td>8.4.2013</td>\n",
              "      <td>107</td>\n",
              "      <td>359:22</td>\n",
              "      <td>1</td>\n",
              "      <td>0</td>\n",
              "      <td>1</td>\n",
              "      <td>40847,38183,9507,42259,5807,28118,24848,37170,...</td>\n",
              "      <td>No_risk</td>\n",
              "    </tr>\n",
              "    <tr>\n",
              "      <th>17125</th>\n",
              "      <td>male</td>\n",
              "      <td>39,5</td>\n",
              "      <td>B</td>\n",
              "      <td>Non_Verified</td>\n",
              "      <td>Heterosexual</td>\n",
              "      <td>Dominant</td>\n",
              "      <td>Women</td>\n",
              "      <td>497</td>\n",
              "      <td>before_5_days</td>\n",
              "      <td>14.4.2013</td>\n",
              "      <td>600</td>\n",
              "      <td>0:21</td>\n",
              "      <td>0</td>\n",
              "      <td>6</td>\n",
              "      <td>8</td>\n",
              "      <td>1320,35739,34231,19097,20197,18069,12330,43342...</td>\n",
              "      <td>No_risk</td>\n",
              "    </tr>\n",
              "  </tbody>\n",
              "</table>\n",
              "</div>"
            ],
            "text/plain": [
              "        Gender  ...     Risk\n",
              "User_ID         ...         \n",
              "10386     male  ...  No_risk\n",
              "14        male  ...  No_risk\n",
              "16721     male  ...  No_risk\n",
              "16957     male  ...  No_risk\n",
              "17125     male  ...  No_risk\n",
              "\n",
              "[5 rows x 17 columns]"
            ]
          },
          "metadata": {
            "tags": []
          },
          "execution_count": 22
        }
      ]
    },
    {
      "cell_type": "code",
      "metadata": {
        "id": "Fy6sqHlygTeh",
        "outputId": "861fe75f-7b0b-4ce5-a1b9-f1881518c3d2",
        "colab": {
          "base_uri": "https://localhost:8080/",
          "height": 254
        }
      },
      "source": [
        "df['Gender'].fillna(df['Gender'].mode()[0], inplace=True)\n",
        "df.head()"
      ],
      "execution_count": 25,
      "outputs": [
        {
          "output_type": "execute_result",
          "data": {
            "text/html": [
              "<div>\n",
              "<style scoped>\n",
              "    .dataframe tbody tr th:only-of-type {\n",
              "        vertical-align: middle;\n",
              "    }\n",
              "\n",
              "    .dataframe tbody tr th {\n",
              "        vertical-align: top;\n",
              "    }\n",
              "\n",
              "    .dataframe thead th {\n",
              "        text-align: right;\n",
              "    }\n",
              "</style>\n",
              "<table border=\"1\" class=\"dataframe\">\n",
              "  <thead>\n",
              "    <tr style=\"text-align: right;\">\n",
              "      <th></th>\n",
              "      <th>Gender</th>\n",
              "      <th>Age</th>\n",
              "      <th>Location</th>\n",
              "      <th>Verification</th>\n",
              "      <th>Sexual_orientation</th>\n",
              "      <th>Sexual_polarity</th>\n",
              "      <th>Looking_for</th>\n",
              "      <th>Points_Rank</th>\n",
              "      <th>Last_login</th>\n",
              "      <th>Member_since</th>\n",
              "      <th>Number_of_Comments_in_public_forum</th>\n",
              "      <th>Time_spent_chating_H:M</th>\n",
              "      <th>Number_of_advertisments_posted</th>\n",
              "      <th>Number_of_offline_meetings_attended</th>\n",
              "      <th>Profile_pictures</th>\n",
              "      <th>Friends_ID_list</th>\n",
              "      <th>Risk</th>\n",
              "    </tr>\n",
              "    <tr>\n",
              "      <th>User_ID</th>\n",
              "      <th></th>\n",
              "      <th></th>\n",
              "      <th></th>\n",
              "      <th></th>\n",
              "      <th></th>\n",
              "      <th></th>\n",
              "      <th></th>\n",
              "      <th></th>\n",
              "      <th></th>\n",
              "      <th></th>\n",
              "      <th></th>\n",
              "      <th></th>\n",
              "      <th></th>\n",
              "      <th></th>\n",
              "      <th></th>\n",
              "      <th></th>\n",
              "      <th></th>\n",
              "    </tr>\n",
              "  </thead>\n",
              "  <tbody>\n",
              "    <tr>\n",
              "      <th>10386</th>\n",
              "      <td>male</td>\n",
              "      <td>34,6</td>\n",
              "      <td>A</td>\n",
              "      <td>Non_Verified</td>\n",
              "      <td>Homosexual</td>\n",
              "      <td>Switch</td>\n",
              "      <td>Men</td>\n",
              "      <td>50</td>\n",
              "      <td>before_10_days</td>\n",
              "      <td>17.9.2012</td>\n",
              "      <td>32</td>\n",
              "      <td>0:2</td>\n",
              "      <td>0</td>\n",
              "      <td>0</td>\n",
              "      <td>0</td>\n",
              "      <td>18260</td>\n",
              "      <td>No_risk</td>\n",
              "    </tr>\n",
              "    <tr>\n",
              "      <th>14</th>\n",
              "      <td>male</td>\n",
              "      <td>32,2</td>\n",
              "      <td>J</td>\n",
              "      <td>Non_Verified</td>\n",
              "      <td>Heterosexual</td>\n",
              "      <td>Dominant</td>\n",
              "      <td>Women</td>\n",
              "      <td>518</td>\n",
              "      <td>before_1_days</td>\n",
              "      <td>1.11.2009</td>\n",
              "      <td>710</td>\n",
              "      <td>3:45</td>\n",
              "      <td>9</td>\n",
              "      <td>0</td>\n",
              "      <td>0</td>\n",
              "      <td>11778,32024,43768,23969,27318,45884,31277</td>\n",
              "      <td>No_risk</td>\n",
              "    </tr>\n",
              "    <tr>\n",
              "      <th>16721</th>\n",
              "      <td>male</td>\n",
              "      <td>33,6</td>\n",
              "      <td>K</td>\n",
              "      <td>Non_Verified</td>\n",
              "      <td>Heterosexual</td>\n",
              "      <td>Dominant</td>\n",
              "      <td>Women</td>\n",
              "      <td>150</td>\n",
              "      <td>before_3_days</td>\n",
              "      <td>1.4.2013</td>\n",
              "      <td>25</td>\n",
              "      <td>2:15</td>\n",
              "      <td>1</td>\n",
              "      <td>1</td>\n",
              "      <td>45</td>\n",
              "      <td>19805,21721,19802</td>\n",
              "      <td>No_risk</td>\n",
              "    </tr>\n",
              "    <tr>\n",
              "      <th>16957</th>\n",
              "      <td>male</td>\n",
              "      <td>34</td>\n",
              "      <td>H</td>\n",
              "      <td>Non_Verified</td>\n",
              "      <td>Heterosexual</td>\n",
              "      <td>Dominant</td>\n",
              "      <td>Women</td>\n",
              "      <td>114</td>\n",
              "      <td>before_4_days</td>\n",
              "      <td>8.4.2013</td>\n",
              "      <td>107</td>\n",
              "      <td>359:22</td>\n",
              "      <td>1</td>\n",
              "      <td>0</td>\n",
              "      <td>1</td>\n",
              "      <td>40847,38183,9507,42259,5807,28118,24848,37170,...</td>\n",
              "      <td>No_risk</td>\n",
              "    </tr>\n",
              "    <tr>\n",
              "      <th>17125</th>\n",
              "      <td>male</td>\n",
              "      <td>39,5</td>\n",
              "      <td>B</td>\n",
              "      <td>Non_Verified</td>\n",
              "      <td>Heterosexual</td>\n",
              "      <td>Dominant</td>\n",
              "      <td>Women</td>\n",
              "      <td>497</td>\n",
              "      <td>before_5_days</td>\n",
              "      <td>14.4.2013</td>\n",
              "      <td>600</td>\n",
              "      <td>0:21</td>\n",
              "      <td>0</td>\n",
              "      <td>6</td>\n",
              "      <td>8</td>\n",
              "      <td>1320,35739,34231,19097,20197,18069,12330,43342...</td>\n",
              "      <td>No_risk</td>\n",
              "    </tr>\n",
              "  </tbody>\n",
              "</table>\n",
              "</div>"
            ],
            "text/plain": [
              "        Gender  ...     Risk\n",
              "User_ID         ...         \n",
              "10386     male  ...  No_risk\n",
              "14        male  ...  No_risk\n",
              "16721     male  ...  No_risk\n",
              "16957     male  ...  No_risk\n",
              "17125     male  ...  No_risk\n",
              "\n",
              "[5 rows x 17 columns]"
            ]
          },
          "metadata": {
            "tags": []
          },
          "execution_count": 25
        }
      ]
    },
    {
      "cell_type": "code",
      "metadata": {
        "id": "VLSsYnIOheq9",
        "outputId": "51220561-5acc-44c6-9be0-f4b94b9613b4",
        "colab": {
          "base_uri": "https://localhost:8080/"
        }
      },
      "source": [
        "# Lets check the missing values\n",
        "df.isnull().sum()"
      ],
      "execution_count": 26,
      "outputs": [
        {
          "output_type": "execute_result",
          "data": {
            "text/plain": [
              "Gender                                 0\n",
              "Age                                    0\n",
              "Location                               1\n",
              "Verification                           0\n",
              "Sexual_orientation                     1\n",
              "Sexual_polarity                        1\n",
              "Looking_for                            0\n",
              "Points_Rank                            0\n",
              "Last_login                             0\n",
              "Member_since                           0\n",
              "Number_of_Comments_in_public_forum     0\n",
              "Time_spent_chating_H:M                 0\n",
              "Number_of_advertisments_posted         0\n",
              "Number_of_offline_meetings_attended    0\n",
              "Profile_pictures                       0\n",
              "Friends_ID_list                        0\n",
              "Risk                                   0\n",
              "dtype: int64"
            ]
          },
          "metadata": {
            "tags": []
          },
          "execution_count": 26
        }
      ]
    },
    {
      "cell_type": "markdown",
      "metadata": {
        "id": "a708xJHmjND3"
      },
      "source": [
        "### Insert new Binary column named 'Female'"
      ]
    },
    {
      "cell_type": "code",
      "metadata": {
        "id": "r0wmwLVtjMBT",
        "outputId": "0c4147a3-1286-4578-bdae-f0507c4ae5ff",
        "colab": {
          "base_uri": "https://localhost:8080/",
          "height": 254
        }
      },
      "source": [
        "df.insert(5, 'Female5', df['Gender'] == 'female')\n",
        "df.head()"
      ],
      "execution_count": 31,
      "outputs": [
        {
          "output_type": "execute_result",
          "data": {
            "text/html": [
              "<div>\n",
              "<style scoped>\n",
              "    .dataframe tbody tr th:only-of-type {\n",
              "        vertical-align: middle;\n",
              "    }\n",
              "\n",
              "    .dataframe tbody tr th {\n",
              "        vertical-align: top;\n",
              "    }\n",
              "\n",
              "    .dataframe thead th {\n",
              "        text-align: right;\n",
              "    }\n",
              "</style>\n",
              "<table border=\"1\" class=\"dataframe\">\n",
              "  <thead>\n",
              "    <tr style=\"text-align: right;\">\n",
              "      <th></th>\n",
              "      <th>Female</th>\n",
              "      <th>Female1</th>\n",
              "      <th>Gender</th>\n",
              "      <th>Age</th>\n",
              "      <th>Location</th>\n",
              "      <th>Female5</th>\n",
              "      <th>Verification</th>\n",
              "      <th>Sexual_orientation</th>\n",
              "      <th>Sexual_polarity</th>\n",
              "      <th>Looking_for</th>\n",
              "      <th>Points_Rank</th>\n",
              "      <th>Last_login</th>\n",
              "      <th>Member_since</th>\n",
              "      <th>Number_of_Comments_in_public_forum</th>\n",
              "      <th>Time_spent_chating_H:M</th>\n",
              "      <th>Number_of_advertisments_posted</th>\n",
              "      <th>Number_of_offline_meetings_attended</th>\n",
              "      <th>Profile_pictures</th>\n",
              "      <th>Friends_ID_list</th>\n",
              "      <th>Risk</th>\n",
              "    </tr>\n",
              "    <tr>\n",
              "      <th>User_ID</th>\n",
              "      <th></th>\n",
              "      <th></th>\n",
              "      <th></th>\n",
              "      <th></th>\n",
              "      <th></th>\n",
              "      <th></th>\n",
              "      <th></th>\n",
              "      <th></th>\n",
              "      <th></th>\n",
              "      <th></th>\n",
              "      <th></th>\n",
              "      <th></th>\n",
              "      <th></th>\n",
              "      <th></th>\n",
              "      <th></th>\n",
              "      <th></th>\n",
              "      <th></th>\n",
              "      <th></th>\n",
              "      <th></th>\n",
              "      <th></th>\n",
              "    </tr>\n",
              "  </thead>\n",
              "  <tbody>\n",
              "    <tr>\n",
              "      <th>10386</th>\n",
              "      <td>False</td>\n",
              "      <td>False</td>\n",
              "      <td>male</td>\n",
              "      <td>34,6</td>\n",
              "      <td>A</td>\n",
              "      <td>False</td>\n",
              "      <td>Non_Verified</td>\n",
              "      <td>Homosexual</td>\n",
              "      <td>Switch</td>\n",
              "      <td>Men</td>\n",
              "      <td>50</td>\n",
              "      <td>before_10_days</td>\n",
              "      <td>17.9.2012</td>\n",
              "      <td>32</td>\n",
              "      <td>0:2</td>\n",
              "      <td>0</td>\n",
              "      <td>0</td>\n",
              "      <td>0</td>\n",
              "      <td>18260</td>\n",
              "      <td>No_risk</td>\n",
              "    </tr>\n",
              "    <tr>\n",
              "      <th>14</th>\n",
              "      <td>False</td>\n",
              "      <td>False</td>\n",
              "      <td>male</td>\n",
              "      <td>32,2</td>\n",
              "      <td>J</td>\n",
              "      <td>False</td>\n",
              "      <td>Non_Verified</td>\n",
              "      <td>Heterosexual</td>\n",
              "      <td>Dominant</td>\n",
              "      <td>Women</td>\n",
              "      <td>518</td>\n",
              "      <td>before_1_days</td>\n",
              "      <td>1.11.2009</td>\n",
              "      <td>710</td>\n",
              "      <td>3:45</td>\n",
              "      <td>9</td>\n",
              "      <td>0</td>\n",
              "      <td>0</td>\n",
              "      <td>11778,32024,43768,23969,27318,45884,31277</td>\n",
              "      <td>No_risk</td>\n",
              "    </tr>\n",
              "    <tr>\n",
              "      <th>16721</th>\n",
              "      <td>False</td>\n",
              "      <td>False</td>\n",
              "      <td>male</td>\n",
              "      <td>33,6</td>\n",
              "      <td>K</td>\n",
              "      <td>False</td>\n",
              "      <td>Non_Verified</td>\n",
              "      <td>Heterosexual</td>\n",
              "      <td>Dominant</td>\n",
              "      <td>Women</td>\n",
              "      <td>150</td>\n",
              "      <td>before_3_days</td>\n",
              "      <td>1.4.2013</td>\n",
              "      <td>25</td>\n",
              "      <td>2:15</td>\n",
              "      <td>1</td>\n",
              "      <td>1</td>\n",
              "      <td>45</td>\n",
              "      <td>19805,21721,19802</td>\n",
              "      <td>No_risk</td>\n",
              "    </tr>\n",
              "    <tr>\n",
              "      <th>16957</th>\n",
              "      <td>False</td>\n",
              "      <td>False</td>\n",
              "      <td>male</td>\n",
              "      <td>34</td>\n",
              "      <td>H</td>\n",
              "      <td>False</td>\n",
              "      <td>Non_Verified</td>\n",
              "      <td>Heterosexual</td>\n",
              "      <td>Dominant</td>\n",
              "      <td>Women</td>\n",
              "      <td>114</td>\n",
              "      <td>before_4_days</td>\n",
              "      <td>8.4.2013</td>\n",
              "      <td>107</td>\n",
              "      <td>359:22</td>\n",
              "      <td>1</td>\n",
              "      <td>0</td>\n",
              "      <td>1</td>\n",
              "      <td>40847,38183,9507,42259,5807,28118,24848,37170,...</td>\n",
              "      <td>No_risk</td>\n",
              "    </tr>\n",
              "    <tr>\n",
              "      <th>17125</th>\n",
              "      <td>False</td>\n",
              "      <td>False</td>\n",
              "      <td>male</td>\n",
              "      <td>39,5</td>\n",
              "      <td>B</td>\n",
              "      <td>False</td>\n",
              "      <td>Non_Verified</td>\n",
              "      <td>Heterosexual</td>\n",
              "      <td>Dominant</td>\n",
              "      <td>Women</td>\n",
              "      <td>497</td>\n",
              "      <td>before_5_days</td>\n",
              "      <td>14.4.2013</td>\n",
              "      <td>600</td>\n",
              "      <td>0:21</td>\n",
              "      <td>0</td>\n",
              "      <td>6</td>\n",
              "      <td>8</td>\n",
              "      <td>1320,35739,34231,19097,20197,18069,12330,43342...</td>\n",
              "      <td>No_risk</td>\n",
              "    </tr>\n",
              "  </tbody>\n",
              "</table>\n",
              "</div>"
            ],
            "text/plain": [
              "         Female  ...     Risk\n",
              "User_ID          ...         \n",
              "10386     False  ...  No_risk\n",
              "14        False  ...  No_risk\n",
              "16721     False  ...  No_risk\n",
              "16957     False  ...  No_risk\n",
              "17125     False  ...  No_risk\n",
              "\n",
              "[5 rows x 20 columns]"
            ]
          },
          "metadata": {
            "tags": []
          },
          "execution_count": 31
        }
      ]
    },
    {
      "cell_type": "markdown",
      "metadata": {
        "id": "K2rUDYrSpREa"
      },
      "source": [
        "### Missing values in `Location`"
      ]
    },
    {
      "cell_type": "code",
      "metadata": {
        "id": "xkFMIwg0pSDR"
      },
      "source": [
        "df['Location'].fillna(df['Location'].mode()[0], inplace=True)"
      ],
      "execution_count": 28,
      "outputs": []
    },
    {
      "cell_type": "markdown",
      "metadata": {
        "id": "VrCEe6OCj9Ye"
      },
      "source": [
        "### Decimal points in `Age`\n",
        "\n",
        "We replace all commas (European decimal separator) with periods, while handling some unformatted values."
      ]
    },
    {
      "cell_type": "code",
      "metadata": {
        "id": "WRyFqmK-kQe6",
        "outputId": "db553a44-3f6d-45e3-8c30-daf523900cd7",
        "colab": {
          "base_uri": "https://localhost:8080/"
        }
      },
      "source": [
        "def comma_replace(obj):\n",
        "  return obj.replace(\",\",\".\")\n",
        "\n",
        "df['Age'].head().apply(comma_replace)# apply col wise"
      ],
      "execution_count": 32,
      "outputs": [
        {
          "output_type": "execute_result",
          "data": {
            "text/plain": [
              "User_ID\n",
              "10386    34.6\n",
              "14       32.2\n",
              "16721    33.6\n",
              "16957      34\n",
              "17125    39.5\n",
              "Name: Age, dtype: object"
            ]
          },
          "metadata": {
            "tags": []
          },
          "execution_count": 32
        }
      ]
    },
    {
      "cell_type": "code",
      "metadata": {
        "id": "J2MQK_OkiI7o",
        "outputId": "ddb1edaf-9a5d-42c3-819e-fdd515a3c986",
        "colab": {
          "base_uri": "https://localhost:8080/",
          "height": 254
        }
      },
      "source": [
        "# Lets do with single line with lambda\n",
        "df['Age'] = df['Age'].apply(lambda obj: obj.replace(',', '.'))\n",
        "df.head()"
      ],
      "execution_count": 33,
      "outputs": [
        {
          "output_type": "execute_result",
          "data": {
            "text/html": [
              "<div>\n",
              "<style scoped>\n",
              "    .dataframe tbody tr th:only-of-type {\n",
              "        vertical-align: middle;\n",
              "    }\n",
              "\n",
              "    .dataframe tbody tr th {\n",
              "        vertical-align: top;\n",
              "    }\n",
              "\n",
              "    .dataframe thead th {\n",
              "        text-align: right;\n",
              "    }\n",
              "</style>\n",
              "<table border=\"1\" class=\"dataframe\">\n",
              "  <thead>\n",
              "    <tr style=\"text-align: right;\">\n",
              "      <th></th>\n",
              "      <th>Female</th>\n",
              "      <th>Female1</th>\n",
              "      <th>Gender</th>\n",
              "      <th>Age</th>\n",
              "      <th>Location</th>\n",
              "      <th>Female5</th>\n",
              "      <th>Verification</th>\n",
              "      <th>Sexual_orientation</th>\n",
              "      <th>Sexual_polarity</th>\n",
              "      <th>Looking_for</th>\n",
              "      <th>Points_Rank</th>\n",
              "      <th>Last_login</th>\n",
              "      <th>Member_since</th>\n",
              "      <th>Number_of_Comments_in_public_forum</th>\n",
              "      <th>Time_spent_chating_H:M</th>\n",
              "      <th>Number_of_advertisments_posted</th>\n",
              "      <th>Number_of_offline_meetings_attended</th>\n",
              "      <th>Profile_pictures</th>\n",
              "      <th>Friends_ID_list</th>\n",
              "      <th>Risk</th>\n",
              "    </tr>\n",
              "    <tr>\n",
              "      <th>User_ID</th>\n",
              "      <th></th>\n",
              "      <th></th>\n",
              "      <th></th>\n",
              "      <th></th>\n",
              "      <th></th>\n",
              "      <th></th>\n",
              "      <th></th>\n",
              "      <th></th>\n",
              "      <th></th>\n",
              "      <th></th>\n",
              "      <th></th>\n",
              "      <th></th>\n",
              "      <th></th>\n",
              "      <th></th>\n",
              "      <th></th>\n",
              "      <th></th>\n",
              "      <th></th>\n",
              "      <th></th>\n",
              "      <th></th>\n",
              "      <th></th>\n",
              "    </tr>\n",
              "  </thead>\n",
              "  <tbody>\n",
              "    <tr>\n",
              "      <th>10386</th>\n",
              "      <td>False</td>\n",
              "      <td>False</td>\n",
              "      <td>male</td>\n",
              "      <td>34.6</td>\n",
              "      <td>A</td>\n",
              "      <td>False</td>\n",
              "      <td>Non_Verified</td>\n",
              "      <td>Homosexual</td>\n",
              "      <td>Switch</td>\n",
              "      <td>Men</td>\n",
              "      <td>50</td>\n",
              "      <td>before_10_days</td>\n",
              "      <td>17.9.2012</td>\n",
              "      <td>32</td>\n",
              "      <td>0:2</td>\n",
              "      <td>0</td>\n",
              "      <td>0</td>\n",
              "      <td>0</td>\n",
              "      <td>18260</td>\n",
              "      <td>No_risk</td>\n",
              "    </tr>\n",
              "    <tr>\n",
              "      <th>14</th>\n",
              "      <td>False</td>\n",
              "      <td>False</td>\n",
              "      <td>male</td>\n",
              "      <td>32.2</td>\n",
              "      <td>J</td>\n",
              "      <td>False</td>\n",
              "      <td>Non_Verified</td>\n",
              "      <td>Heterosexual</td>\n",
              "      <td>Dominant</td>\n",
              "      <td>Women</td>\n",
              "      <td>518</td>\n",
              "      <td>before_1_days</td>\n",
              "      <td>1.11.2009</td>\n",
              "      <td>710</td>\n",
              "      <td>3:45</td>\n",
              "      <td>9</td>\n",
              "      <td>0</td>\n",
              "      <td>0</td>\n",
              "      <td>11778,32024,43768,23969,27318,45884,31277</td>\n",
              "      <td>No_risk</td>\n",
              "    </tr>\n",
              "    <tr>\n",
              "      <th>16721</th>\n",
              "      <td>False</td>\n",
              "      <td>False</td>\n",
              "      <td>male</td>\n",
              "      <td>33.6</td>\n",
              "      <td>K</td>\n",
              "      <td>False</td>\n",
              "      <td>Non_Verified</td>\n",
              "      <td>Heterosexual</td>\n",
              "      <td>Dominant</td>\n",
              "      <td>Women</td>\n",
              "      <td>150</td>\n",
              "      <td>before_3_days</td>\n",
              "      <td>1.4.2013</td>\n",
              "      <td>25</td>\n",
              "      <td>2:15</td>\n",
              "      <td>1</td>\n",
              "      <td>1</td>\n",
              "      <td>45</td>\n",
              "      <td>19805,21721,19802</td>\n",
              "      <td>No_risk</td>\n",
              "    </tr>\n",
              "    <tr>\n",
              "      <th>16957</th>\n",
              "      <td>False</td>\n",
              "      <td>False</td>\n",
              "      <td>male</td>\n",
              "      <td>34</td>\n",
              "      <td>H</td>\n",
              "      <td>False</td>\n",
              "      <td>Non_Verified</td>\n",
              "      <td>Heterosexual</td>\n",
              "      <td>Dominant</td>\n",
              "      <td>Women</td>\n",
              "      <td>114</td>\n",
              "      <td>before_4_days</td>\n",
              "      <td>8.4.2013</td>\n",
              "      <td>107</td>\n",
              "      <td>359:22</td>\n",
              "      <td>1</td>\n",
              "      <td>0</td>\n",
              "      <td>1</td>\n",
              "      <td>40847,38183,9507,42259,5807,28118,24848,37170,...</td>\n",
              "      <td>No_risk</td>\n",
              "    </tr>\n",
              "    <tr>\n",
              "      <th>17125</th>\n",
              "      <td>False</td>\n",
              "      <td>False</td>\n",
              "      <td>male</td>\n",
              "      <td>39.5</td>\n",
              "      <td>B</td>\n",
              "      <td>False</td>\n",
              "      <td>Non_Verified</td>\n",
              "      <td>Heterosexual</td>\n",
              "      <td>Dominant</td>\n",
              "      <td>Women</td>\n",
              "      <td>497</td>\n",
              "      <td>before_5_days</td>\n",
              "      <td>14.4.2013</td>\n",
              "      <td>600</td>\n",
              "      <td>0:21</td>\n",
              "      <td>0</td>\n",
              "      <td>6</td>\n",
              "      <td>8</td>\n",
              "      <td>1320,35739,34231,19097,20197,18069,12330,43342...</td>\n",
              "      <td>No_risk</td>\n",
              "    </tr>\n",
              "  </tbody>\n",
              "</table>\n",
              "</div>"
            ],
            "text/plain": [
              "         Female  ...     Risk\n",
              "User_ID          ...         \n",
              "10386     False  ...  No_risk\n",
              "14        False  ...  No_risk\n",
              "16721     False  ...  No_risk\n",
              "16957     False  ...  No_risk\n",
              "17125     False  ...  No_risk\n",
              "\n",
              "[5 rows x 20 columns]"
            ]
          },
          "metadata": {
            "tags": []
          },
          "execution_count": 33
        }
      ]
    },
    {
      "cell_type": "code",
      "metadata": {
        "id": "_hOfH4E6kOfS",
        "outputId": "17b6f13f-5b41-41df-aaa2-c7a6dfd5f727",
        "colab": {
          "base_uri": "https://localhost:8080/",
          "height": 447
        }
      },
      "source": [
        "# Error: Convering age to numeric\n",
        "pd.to_numeric(df['Age'])"
      ],
      "execution_count": 34,
      "outputs": [
        {
          "output_type": "error",
          "ename": "ValueError",
          "evalue": "ignored",
          "traceback": [
            "\u001b[0;31m---------------------------------------------------------------------------\u001b[0m",
            "\u001b[0;31mValueError\u001b[0m                                Traceback (most recent call last)",
            "\u001b[0;32mpandas/_libs/lib.pyx\u001b[0m in \u001b[0;36mpandas._libs.lib.maybe_convert_numeric\u001b[0;34m()\u001b[0m\n",
            "\u001b[0;31mValueError\u001b[0m: Unable to parse string \"???\"",
            "\nDuring handling of the above exception, another exception occurred:\n",
            "\u001b[0;31mValueError\u001b[0m                                Traceback (most recent call last)",
            "\u001b[0;32m<ipython-input-34-55a6900edb54>\u001b[0m in \u001b[0;36m<module>\u001b[0;34m()\u001b[0m\n\u001b[1;32m      1\u001b[0m \u001b[0;31m# Error: Convering age to numeric\u001b[0m\u001b[0;34m\u001b[0m\u001b[0;34m\u001b[0m\u001b[0;34m\u001b[0m\u001b[0m\n\u001b[0;32m----> 2\u001b[0;31m \u001b[0mpd\u001b[0m\u001b[0;34m.\u001b[0m\u001b[0mto_numeric\u001b[0m\u001b[0;34m(\u001b[0m\u001b[0mdf\u001b[0m\u001b[0;34m[\u001b[0m\u001b[0;34m'Age'\u001b[0m\u001b[0;34m]\u001b[0m\u001b[0;34m)\u001b[0m\u001b[0;34m\u001b[0m\u001b[0;34m\u001b[0m\u001b[0m\n\u001b[0m",
            "\u001b[0;32m/usr/local/lib/python3.7/dist-packages/pandas/core/tools/numeric.py\u001b[0m in \u001b[0;36mto_numeric\u001b[0;34m(arg, errors, downcast)\u001b[0m\n\u001b[1;32m    151\u001b[0m         \u001b[0;32mtry\u001b[0m\u001b[0;34m:\u001b[0m\u001b[0;34m\u001b[0m\u001b[0;34m\u001b[0m\u001b[0m\n\u001b[1;32m    152\u001b[0m             values = lib.maybe_convert_numeric(\n\u001b[0;32m--> 153\u001b[0;31m                 \u001b[0mvalues\u001b[0m\u001b[0;34m,\u001b[0m \u001b[0mset\u001b[0m\u001b[0;34m(\u001b[0m\u001b[0;34m)\u001b[0m\u001b[0;34m,\u001b[0m \u001b[0mcoerce_numeric\u001b[0m\u001b[0;34m=\u001b[0m\u001b[0mcoerce_numeric\u001b[0m\u001b[0;34m\u001b[0m\u001b[0;34m\u001b[0m\u001b[0m\n\u001b[0m\u001b[1;32m    154\u001b[0m             )\n\u001b[1;32m    155\u001b[0m         \u001b[0;32mexcept\u001b[0m \u001b[0;34m(\u001b[0m\u001b[0mValueError\u001b[0m\u001b[0;34m,\u001b[0m \u001b[0mTypeError\u001b[0m\u001b[0;34m)\u001b[0m\u001b[0;34m:\u001b[0m\u001b[0;34m\u001b[0m\u001b[0;34m\u001b[0m\u001b[0m\n",
            "\u001b[0;32mpandas/_libs/lib.pyx\u001b[0m in \u001b[0;36mpandas._libs.lib.maybe_convert_numeric\u001b[0;34m()\u001b[0m\n",
            "\u001b[0;31mValueError\u001b[0m: Unable to parse string \"???\" at position 1357"
          ]
        }
      ]
    },
    {
      "cell_type": "code",
      "metadata": {
        "id": "wWbC8mgTomBK"
      },
      "source": [
        "# Method 1\n",
        "df['Age'] = df['Age'].replace('???', np.nan)\n",
        "df['Age'] = df['Age'].astype(float)"
      ],
      "execution_count": 35,
      "outputs": []
    },
    {
      "cell_type": "code",
      "metadata": {
        "id": "-TKtFqZcn9gG"
      },
      "source": [
        "# Method 2\n",
        "df['Age'] = pd.to_numeric(df['Age'], errors='coerce')"
      ],
      "execution_count": 36,
      "outputs": []
    },
    {
      "cell_type": "code",
      "metadata": {
        "id": "895_zlb5o5Qk",
        "outputId": "903024c7-1392-4029-b430-2aba9b61a64f",
        "colab": {
          "base_uri": "https://localhost:8080/"
        }
      },
      "source": [
        "# Lets check the missing values\n",
        "df.isnull().sum()"
      ],
      "execution_count": 37,
      "outputs": [
        {
          "output_type": "execute_result",
          "data": {
            "text/plain": [
              "Female                                 0\n",
              "Female1                                0\n",
              "Gender                                 0\n",
              "Age                                    6\n",
              "Location                               0\n",
              "Female5                                0\n",
              "Verification                           0\n",
              "Sexual_orientation                     1\n",
              "Sexual_polarity                        1\n",
              "Looking_for                            0\n",
              "Points_Rank                            0\n",
              "Last_login                             0\n",
              "Member_since                           0\n",
              "Number_of_Comments_in_public_forum     0\n",
              "Time_spent_chating_H:M                 0\n",
              "Number_of_advertisments_posted         0\n",
              "Number_of_offline_meetings_attended    0\n",
              "Profile_pictures                       0\n",
              "Friends_ID_list                        0\n",
              "Risk                                   0\n",
              "dtype: int64"
            ]
          },
          "metadata": {
            "tags": []
          },
          "execution_count": 37
        }
      ]
    },
    {
      "cell_type": "code",
      "metadata": {
        "id": "7sAi3mBWo878"
      },
      "source": [
        "df['Age'].fillna(df['Age'].mean(), inplace=True)\n"
      ],
      "execution_count": 38,
      "outputs": []
    },
    {
      "cell_type": "code",
      "metadata": {
        "id": "IOrz3JA7pGEU",
        "outputId": "4695cc50-aed1-4800-9f42-9766d1ad3a82",
        "colab": {
          "base_uri": "https://localhost:8080/"
        }
      },
      "source": [
        "df.isnull().sum()"
      ],
      "execution_count": 39,
      "outputs": [
        {
          "output_type": "execute_result",
          "data": {
            "text/plain": [
              "Female                                 0\n",
              "Female1                                0\n",
              "Gender                                 0\n",
              "Age                                    0\n",
              "Location                               0\n",
              "Female5                                0\n",
              "Verification                           0\n",
              "Sexual_orientation                     1\n",
              "Sexual_polarity                        1\n",
              "Looking_for                            0\n",
              "Points_Rank                            0\n",
              "Last_login                             0\n",
              "Member_since                           0\n",
              "Number_of_Comments_in_public_forum     0\n",
              "Time_spent_chating_H:M                 0\n",
              "Number_of_advertisments_posted         0\n",
              "Number_of_offline_meetings_attended    0\n",
              "Profile_pictures                       0\n",
              "Friends_ID_list                        0\n",
              "Risk                                   0\n",
              "dtype: int64"
            ]
          },
          "metadata": {
            "tags": []
          },
          "execution_count": 39
        }
      ]
    },
    {
      "cell_type": "markdown",
      "metadata": {
        "id": "B1IxWRiypf-S"
      },
      "source": [
        "### Convert `Verification` to binary data\n",
        "\n",
        "In every entry, we change the data to whether the user is verified or not."
      ]
    },
    {
      "cell_type": "code",
      "metadata": {
        "id": "DJWvVOHLpfHk"
      },
      "source": [
        "df['Verification'] = df['Verification'] != 'Non_Verified'\n",
        "df[['Verification']].head()"
      ],
      "execution_count": null,
      "outputs": []
    }
  ]
}